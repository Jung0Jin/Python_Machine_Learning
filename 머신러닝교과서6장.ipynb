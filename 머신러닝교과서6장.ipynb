{
  "nbformat": 4,
  "nbformat_minor": 0,
  "metadata": {
    "colab": {
      "name": "머신러닝교과서6장.ipynb",
      "provenance": [],
      "collapsed_sections": [],
      "toc_visible": true,
      "authorship_tag": "ABX9TyPxnxSkauh8+gp/qWvP6ciG",
      "include_colab_link": true
    },
    "kernelspec": {
      "name": "python3",
      "display_name": "Python 3"
    }
  },
  "cells": [
    {
      "cell_type": "markdown",
      "metadata": {
        "id": "view-in-github",
        "colab_type": "text"
      },
      "source": [
        "<a href=\"https://colab.research.google.com/github/Jung0Jin/Python_Machine_Learning/blob/master/%EB%A8%B8%EC%8B%A0%EB%9F%AC%EB%8B%9D%EA%B5%90%EA%B3%BC%EC%84%9C6%EC%9E%A5.ipynb\" target=\"_parent\"><img src=\"https://colab.research.google.com/assets/colab-badge.svg\" alt=\"Open In Colab\"/></a>"
      ]
    },
    {
      "cell_type": "markdown",
      "metadata": {
        "id": "pC-lrRai3pzY",
        "colab_type": "text"
      },
      "source": [
        "#6장 모델 평가와 하이퍼파라미터 튜닝의 모범 사례"
      ]
    },
    {
      "cell_type": "markdown",
      "metadata": {
        "id": "zeO3Xawv32wb",
        "colab_type": "text"
      },
      "source": [
        "* 편향되지 않은 모델 성능 추정하기\n",
        "\n",
        "* 머신 러닝 알고리즘에서 일반적으로 발생하는 문제 분석하기\n",
        "\n",
        "* 머신 러닝 모델 세부 튜닝하기\n",
        "\n",
        "* 여러 가지 성능 지표를 사용하여 모델의 예측 성능 평가하기"
      ]
    },
    {
      "cell_type": "markdown",
      "metadata": {
        "id": "hOTNOuRD4Jy7",
        "colab_type": "text"
      },
      "source": [
        "##6.1 파이프라인을 사용한 효율적인 워크플로"
      ]
    },
    {
      "cell_type": "markdown",
      "metadata": {
        "id": "l4p0FkFt4W4a",
        "colab_type": "text"
      },
      "source": [
        "앞장에서 전처리 기법을 배웠다. (4장에서 스케일을 조정하기 위한 표준화, 5장에서 데이터 압축을 위한 주성분 분석을 적용했다.) \n",
        "\n",
        "새로운 데이터 (예를 들면, 테스트 세트에 있는 별도의 샘플같은 새로운 데이터) 의 스케일을 조정하고 압축하기 위해 훈련 세트에서 학습한 파라미터를 재사용해야 한다고 배웠다.\n",
        "\n",
        "여기서 유용하게 쓸 수 있는것이 사이킷런의 Pipeline 클래스이다.\n",
        "\n",
        "여러 개의 변환 단계를 포함한 모델을 학습하고 새로운 데이터에 대한 예측을 만들 수 있다.\n",
        "\n"
      ]
    },
    {
      "cell_type": "markdown",
      "metadata": {
        "id": "grdUleG_5GNl",
        "colab_type": "text"
      },
      "source": [
        "###6.1.1 위스콘신 유방암 데이터셋"
      ]
    },
    {
      "cell_type": "markdown",
      "metadata": {
        "id": "vM6viIEq5UdC",
        "colab_type": "text"
      },
      "source": [
        "위스콘신 유방암 데이터셋에는 악성과 양성인 종양 세포 샘플 569개가 포함되어 있다.\n",
        "\n",
        "첫 두 열에는 샘플의 고유 ID 번호와 진단 결과(M=악성, B=양성)가 들어 있다.\n",
        "\n",
        "3번째에서 32번째까지 열에는 세포 핵의 디지털 이미지에서 계산된 30개의 실수 값 특성이 들어 있다."
      ]
    },
    {
      "cell_type": "code",
      "metadata": {
        "id": "hrMDB6Jw3iR1",
        "colab_type": "code",
        "colab": {}
      },
      "source": [
        "import pandas as pd"
      ],
      "execution_count": 0,
      "outputs": []
    },
    {
      "cell_type": "code",
      "metadata": {
        "id": "ROu2SqzO5yuc",
        "colab_type": "code",
        "colab": {}
      },
      "source": [
        "df = pd.read_csv('https://archive.ics.uci.edu/ml/machine-learning-databases/breast-cancer-wisconsin/wdbc.data',\n",
        "                 header=None)"
      ],
      "execution_count": 0,
      "outputs": []
    },
    {
      "cell_type": "code",
      "metadata": {
        "id": "mLs2P-eD6Gor",
        "colab_type": "code",
        "colab": {}
      },
      "source": [
        "from sklearn.preprocessing import LabelEncoder"
      ],
      "execution_count": 0,
      "outputs": []
    },
    {
      "cell_type": "code",
      "metadata": {
        "id": "TjvF_m7a6N7T",
        "colab_type": "code",
        "outputId": "04ba4d4e-ea78-4337-802b-36e627385da5",
        "colab": {
          "base_uri": "https://localhost:8080/",
          "height": 35
        }
      },
      "source": [
        "X = df.loc[:, 2:].values\n",
        "y = df.loc[:, 1].values\n",
        "le = LabelEncoder()\n",
        "y = le.fit_transform(y) # 클래스 레이블을 배열 y에 인코딩하기\n",
        "le.classes_"
      ],
      "execution_count": 4,
      "outputs": [
        {
          "output_type": "execute_result",
          "data": {
            "text/plain": [
              "array(['B', 'M'], dtype=object)"
            ]
          },
          "metadata": {
            "tags": []
          },
          "execution_count": 4
        }
      ]
    },
    {
      "cell_type": "code",
      "metadata": {
        "id": "DAMAXdxv6ZKD",
        "colab_type": "code",
        "outputId": "81727d36-d2d2-44a8-d0e4-b354b605a274",
        "colab": {
          "base_uri": "https://localhost:8080/",
          "height": 35
        }
      },
      "source": [
        "le.transform(['M', 'B']) # 두 개의 더미 클래스 레이블 샘플로 LabelEncoder 객체의 transform 메서드를 호출하기"
      ],
      "execution_count": 5,
      "outputs": [
        {
          "output_type": "execute_result",
          "data": {
            "text/plain": [
              "array([1, 0])"
            ]
          },
          "metadata": {
            "tags": []
          },
          "execution_count": 5
        }
      ]
    },
    {
      "cell_type": "code",
      "metadata": {
        "id": "3hNFp_7k7G1z",
        "colab_type": "code",
        "colab": {}
      },
      "source": [
        "from sklearn.model_selection import train_test_split"
      ],
      "execution_count": 0,
      "outputs": []
    },
    {
      "cell_type": "code",
      "metadata": {
        "id": "JgwiAE3H7hg6",
        "colab_type": "code",
        "colab": {}
      },
      "source": [
        "X_train, X_test, y_train, y_test = train_test_split(X, y,\n",
        "                                                    test_size=0.20,\n",
        "                                                    stratify=y,\n",
        "                                                    random_state=1)"
      ],
      "execution_count": 0,
      "outputs": []
    },
    {
      "cell_type": "markdown",
      "metadata": {
        "id": "lsB94R2M7rdL",
        "colab_type": "text"
      },
      "source": [
        "###6.1.2 파이프라인으로 변환기와 추정기 연결"
      ]
    },
    {
      "cell_type": "markdown",
      "metadata": {
        "id": "2NqY53UA7vqL",
        "colab_type": "text"
      },
      "source": [
        "최적의 성능을 위해 입력 특성이 같은 스케일을 가져야 한다.\n",
        "\n",
        "주성분 분석을 통해 초기 30차원에서 좀 더 낮은 2차원 부분 공간으로 데이터를 압축해보자"
      ]
    },
    {
      "cell_type": "code",
      "metadata": {
        "id": "K_dalrLk7qFr",
        "colab_type": "code",
        "colab": {}
      },
      "source": [
        "from sklearn.preprocessing import StandardScaler\n",
        "from sklearn.decomposition import PCA\n",
        "from sklearn.linear_model import LogisticRegression\n",
        "from sklearn.pipeline import make_pipeline"
      ],
      "execution_count": 0,
      "outputs": []
    },
    {
      "cell_type": "code",
      "metadata": {
        "id": "SQF4xgDh8L8z",
        "colab_type": "code",
        "outputId": "4b09139a-f96a-4bec-bdc5-1f37971c9f63",
        "colab": {
          "base_uri": "https://localhost:8080/",
          "height": 305
        }
      },
      "source": [
        "pipe_lr = make_pipeline(StandardScaler(),\n",
        "                        PCA(n_components=2),\n",
        "                        LogisticRegression(solver='liblinear', random_state=1))\n",
        "pipe_lr.fit(X_train, y_train)"
      ],
      "execution_count": 9,
      "outputs": [
        {
          "output_type": "execute_result",
          "data": {
            "text/plain": [
              "Pipeline(memory=None,\n",
              "         steps=[('standardscaler',\n",
              "                 StandardScaler(copy=True, with_mean=True, with_std=True)),\n",
              "                ('pca',\n",
              "                 PCA(copy=True, iterated_power='auto', n_components=2,\n",
              "                     random_state=None, svd_solver='auto', tol=0.0,\n",
              "                     whiten=False)),\n",
              "                ('logisticregression',\n",
              "                 LogisticRegression(C=1.0, class_weight=None, dual=False,\n",
              "                                    fit_intercept=True, intercept_scaling=1,\n",
              "                                    l1_ratio=None, max_iter=100,\n",
              "                                    multi_class='auto', n_jobs=None,\n",
              "                                    penalty='l2', random_state=1,\n",
              "                                    solver='liblinear', tol=0.0001, verbose=0,\n",
              "                                    warm_start=False))],\n",
              "         verbose=False)"
            ]
          },
          "metadata": {
            "tags": []
          },
          "execution_count": 9
        }
      ]
    },
    {
      "cell_type": "code",
      "metadata": {
        "id": "VQKN7fro8Y1K",
        "colab_type": "code",
        "colab": {}
      },
      "source": [
        "y_pred = pipe_lr.predict(X_test)"
      ],
      "execution_count": 0,
      "outputs": []
    },
    {
      "cell_type": "code",
      "metadata": {
        "id": "WT-QY0q58eDi",
        "colab_type": "code",
        "outputId": "c01cfe0c-d871-4e2a-8b1b-9c24f36adca5",
        "colab": {
          "base_uri": "https://localhost:8080/",
          "height": 35
        }
      },
      "source": [
        "print(f'테스트 정확도 : {pipe_lr.score(X_test, y_test)}')"
      ],
      "execution_count": 11,
      "outputs": [
        {
          "output_type": "stream",
          "text": [
            "테스트 정확도 : 0.956140350877193\n"
          ],
          "name": "stdout"
        }
      ]
    },
    {
      "cell_type": "markdown",
      "metadata": {
        "id": "qq21B_Gt8yQr",
        "colab_type": "text"
      },
      "source": [
        "make_pipeline 함수는 여러 개의 사이킷런 변환기와 추정기를 연결할 수 있다.\n",
        "\n",
        "변환기 : 입력에 대해 fit 메서드와 transform 메서드를 지원하는 객체\n",
        "\n",
        "추정기 : fit 메서드와 predict 메서드를 구현함\n",
        "\n",
        "make_pipeline 함수에 StandardScaler, PCA 두 개의 변환기와 LogisticRegression 추정기를 입력으로 넣는다. 이 함수는 이 객체들을 사용하여 Pipeline 클래스 객체를 생성하여 반환한다.\n",
        "\n",
        "사이킷런의 Pipeline 클래스를 메타 추정기(meta-estimator)나 개별 변환기와 추정기를 감싼 래퍼(wrapper)로 생각할 수 있다.\n",
        "\n",
        "Pipeline 객체의 fit 메서드를 호출하면 데이터가 중간 단계에 있는 모든 변환기의 fit 메서드와 transform 메서드를 차례로 거쳐 추정기 객체(파이프라인의 마지막 단계)에 도달한다. 추정기는 변환된 훈련 세트를 사용하여 학습한다.\n",
        "\n",
        "앞선 예제에서 pipe_lr 파이프라인의 fit 메서드를 호출하면 StandardScaler의 fit 메서드와 transform 메서드가 호출된다. 변한된 훈련 데이터는 PCA 객체로 전달되어 fit 메서드와 transform 메서드가 호출된다. 최종적으로 추정기에 훈련 데이터가 전달된다.\n",
        "\n",
        "파이프라인의 중간 단계 횟수는 제한이 없지만, 파이프라인의 마지막 요소는 추정기가 되어야 한다.\n",
        "\n",
        "파이프라인은 predict 메서드도 제공하는데, Pipeline 인스턴스의 predict 메서드를 호출할 때 주입된 데이터는 중간 단계의 transform 메서드를 통과하여 마지막 단계에서 추정기 객체가 변환된 데이터에 대한 예측을 반환한다."
      ]
    },
    {
      "cell_type": "markdown",
      "metadata": {
        "id": "R9hZHm1rEH2L",
        "colab_type": "text"
      },
      "source": [
        "##6.2 k-겹 교차 검증을 사용한 모델 성능 평가"
      ]
    },
    {
      "cell_type": "markdown",
      "metadata": {
        "id": "U2n_D4KHEaX4",
        "colab_type": "text"
      },
      "source": [
        "적절한 편향-분산 트레이드오프를 찾으려면 모델을 주의 깊게 평가해야 한다.\n",
        "\n",
        "보편적인 교차 검증 기법으로 홀드아웃 교차 검증(holdout cross-validation)과 k-겹 교차 검증(k-fold cross-validation)이 있다."
      ]
    },
    {
      "cell_type": "markdown",
      "metadata": {
        "id": "3vWMTnN1Er6o",
        "colab_type": "text"
      },
      "source": [
        "###6.2.1 홀드아웃 방법"
      ]
    },
    {
      "cell_type": "markdown",
      "metadata": {
        "id": "gYWkh0JAFgRB",
        "colab_type": "text"
      },
      "source": [
        "처음 본 데이터에서 예측 성능을 높이기 위해 하이퍼파라미터를 튜닝하고 비교해야 한다.\n",
        "\n",
        "이 과정을 모델 선택이라고 한다. 모델 선택이란 용어는 주어진 분류 문제에서 튜닝할 파라미터(또는 하이퍼파라미터)의 최적 값을 선택해야 하는 것을 의미한다. \n",
        "\n",
        "모델 선택에 같은 테스트 세트를 반복해서 재사용하면 훈련 세트의 일부가 되는 셈이니 이는 좋은 머신 러닝 작업 방식이 아니다.\n",
        "\n",
        "가장 좋은 방법은 훈련 세트, 검증 세트, 테스트 세트 세 개의 부분으로 나누는 것이다.\n",
        "\n",
        "훈련 세트로 여러 가지 모델을 훈련하는 데 사용한다.\n",
        "\n",
        "검증 세트에 대한 성능은 모델 선택에 사용한다.\n",
        "\n",
        "테스트 세트로 최종 성능을 평가한다.\n",
        "\n",
        "단점 : 검증 세트의 성능 추정이 어떤 샘플을 사용하느냐에 따라 달라진다."
      ]
    },
    {
      "cell_type": "markdown",
      "metadata": {
        "id": "WlJ8DZtPJ_PL",
        "colab_type": "text"
      },
      "source": [
        "###6.2.2 k-겹 교차 검증"
      ]
    },
    {
      "cell_type": "markdown",
      "metadata": {
        "id": "yrRMknr7Pm14",
        "colab_type": "text"
      },
      "source": [
        "k-겹 교차 검증 : \n",
        "\n",
        "1. 중복 없이 훈련 데이터셋을 k개의 폴드로 랜덤하게 나눈다. \n",
        "\n",
        "2. k-1개의 폴드로 모델을 훈련하고 나머지 하나의 폴드로 성능을 평가한다. \n",
        "\n",
        "3. 이 과정을 k번 반복하여 k개의 모델과 성능 추정을 얻는다. \n",
        "\n",
        "4. k개의 모델의 평균 성능을 계산한다.\n",
        "\n",
        "일반적으로 모델 튜닝에 k-겹 교차 검증을 사용한다.\n",
        "\n",
        "만족스러운 하이퍼파라미터 값을 찾은 후에 전체 훈련 세트를 사용하여 모델을 다시 훈련한다.\n",
        "\n",
        "k-겹 교차 검증 후에 전체 훈련 세트로 모델을 학습하는 이유 : 훈련 샘플이 많을수록 학습 알고리즘이 더 정확하고 안정적인 모델을 만들기 때문이다.\n",
        "\n",
        "k-겹 교차 검증이 중복을 허락하지 않는 리샘플링 기법이기 때문에 모든 샘플 포인트가 훈련하는 동안 검증에 딱 한 번 사용되는 장점이 있다. 이로 인해 홀드아웃 방법보다 모델 성능의 추정에 분산이 낮다. \n",
        "\n",
        "론 코하비는 10-겹 교차 검증이 편향-분산 트레이드오프를 가진다고 제안했다.\n",
        "\n",
        "작은 훈련 세트는 폴드 개수인 k를 늘리는 것이 좋다. 모델 성능을 평균하여 일반화 성능을 추정할 때 더 낮은 편향을 만든다.\n",
        "\n",
        "k 값이 아주 크면 교차 검증 알고리즘의 실행 시간이 늘어나고 분산이 높은 추정을 만든다. 이는 훈련 폴드가 서로 많이 비슷해지기 때문이다. \n",
        "\n",
        "대규모 데이터셋으로 작업할 때는 k=5와 같은 작은 k 값을 선택해도 모델의 평균 성능을 정확하게 추정할 수 있다. 폴드마다 모델을 학습하고 평가하는 계산 비용도 줄일 수 있다.\n",
        "\n",
        "기본 k-겹 교차 검증 방법보다 좀 더 향상된 방법은 계층적 k-겹 교차 검증(stratified k-fold cross-validation)이다. 클래스 비율이 동등하지 않을 때, 클래스 비율이 전체 훈련 세트에 있는 클래스 비율을 대표하도록 유지한다."
      ]
    },
    {
      "cell_type": "code",
      "metadata": {
        "id": "bDgAttr88jm6",
        "colab_type": "code",
        "colab": {}
      },
      "source": [
        "import numpy as np\n",
        "from sklearn.model_selection import StratifiedKFold"
      ],
      "execution_count": 0,
      "outputs": []
    },
    {
      "cell_type": "code",
      "metadata": {
        "id": "rzfKD2ojSm_y",
        "colab_type": "code",
        "outputId": "9a2c3a11-4f5a-4eb8-d98b-b4664a38e087",
        "colab": {
          "base_uri": "https://localhost:8080/",
          "height": 53
        }
      },
      "source": [
        "kfold = StratifiedKFold(n_splits=10,\n",
        "                        random_state=1).split(X_train,\n",
        "                                              y_train)"
      ],
      "execution_count": 13,
      "outputs": [
        {
          "output_type": "stream",
          "text": [
            "/usr/local/lib/python3.6/dist-packages/sklearn/model_selection/_split.py:296: FutureWarning: Setting a random_state has no effect since shuffle is False. This will raise an error in 0.24. You should leave random_state to its default (None), or set shuffle=True.\n",
            "  FutureWarning\n"
          ],
          "name": "stderr"
        }
      ]
    },
    {
      "cell_type": "code",
      "metadata": {
        "id": "m7rAId2uSuWH",
        "colab_type": "code",
        "colab": {}
      },
      "source": [
        "scores=[]"
      ],
      "execution_count": 0,
      "outputs": []
    },
    {
      "cell_type": "code",
      "metadata": {
        "id": "mIIvROIXSvGn",
        "colab_type": "code",
        "outputId": "3d85a0e6-d73b-4a11-a8db-2f9492763c07",
        "colab": {
          "base_uri": "https://localhost:8080/",
          "height": 197
        }
      },
      "source": [
        "for k, (train, test) in enumerate(kfold):\n",
        "  pipe_lr.fit(X_train[train], y_train[train]) # 각 반복에서 샘플의 스케일을 조정한다.\n",
        "  score = pipe_lr.score(X_train[test], y_train[test])\n",
        "  scores.append(score)\n",
        "  print(f'폴드 : {k+1}, 클래스 분포 : {np.bincount(y_train[train])}, 정확도 : {score}')"
      ],
      "execution_count": 15,
      "outputs": [
        {
          "output_type": "stream",
          "text": [
            "폴드 : 1, 클래스 분포 : [256 153], 정확도 : 0.9347826086956522\n",
            "폴드 : 2, 클래스 분포 : [256 153], 정확도 : 0.9347826086956522\n",
            "폴드 : 3, 클래스 분포 : [256 153], 정확도 : 0.9565217391304348\n",
            "폴드 : 4, 클래스 분포 : [256 153], 정확도 : 0.9565217391304348\n",
            "폴드 : 5, 클래스 분포 : [256 153], 정확도 : 0.9347826086956522\n",
            "폴드 : 6, 클래스 분포 : [257 153], 정확도 : 0.9555555555555556\n",
            "폴드 : 7, 클래스 분포 : [257 153], 정확도 : 0.9777777777777777\n",
            "폴드 : 8, 클래스 분포 : [257 153], 정확도 : 0.9333333333333333\n",
            "폴드 : 9, 클래스 분포 : [257 153], 정확도 : 0.9555555555555556\n",
            "폴드 : 10, 클래스 분포 : [257 153], 정확도 : 0.9555555555555556\n"
          ],
          "name": "stdout"
        }
      ]
    },
    {
      "cell_type": "code",
      "metadata": {
        "id": "f-fjm-ceTMej",
        "colab_type": "code",
        "outputId": "4d3ac3f0-57f5-45d2-c6a6-1b73bbc923cc",
        "colab": {
          "base_uri": "https://localhost:8080/",
          "height": 35
        }
      },
      "source": [
        "print(f'CV 정확도 : {np.mean(scores)} +/- {np.std(scores)}')"
      ],
      "execution_count": 16,
      "outputs": [
        {
          "output_type": "stream",
          "text": [
            "CV 정확도 : 0.9495169082125603 +/- 0.013854294239660376\n"
          ],
          "name": "stdout"
        }
      ]
    },
    {
      "cell_type": "code",
      "metadata": {
        "id": "oBmNeGTPTaKj",
        "colab_type": "code",
        "colab": {}
      },
      "source": [
        "from sklearn.model_selection import cross_val_score"
      ],
      "execution_count": 0,
      "outputs": []
    },
    {
      "cell_type": "code",
      "metadata": {
        "id": "ajDrdV33T6tf",
        "colab_type": "code",
        "colab": {}
      },
      "source": [
        "scores = cross_val_score(estimator=pipe_lr,\n",
        "                         X=X_train,\n",
        "                         y=y_train,\n",
        "                         cv=10,\n",
        "                         n_jobs=-1)"
      ],
      "execution_count": 0,
      "outputs": []
    },
    {
      "cell_type": "code",
      "metadata": {
        "id": "uoyKn6TpUH43",
        "colab_type": "code",
        "outputId": "c0c0175c-7cb0-45b9-c4b8-0caa4c7dcc1a",
        "colab": {
          "base_uri": "https://localhost:8080/",
          "height": 53
        }
      },
      "source": [
        "print(f'CV 정확도 점수 : {scores}')"
      ],
      "execution_count": 19,
      "outputs": [
        {
          "output_type": "stream",
          "text": [
            "CV 정확도 점수 : [0.93478261 0.93478261 0.95652174 0.95652174 0.93478261 0.95555556\n",
            " 0.97777778 0.93333333 0.95555556 0.95555556]\n"
          ],
          "name": "stdout"
        }
      ]
    },
    {
      "cell_type": "code",
      "metadata": {
        "id": "_4ZnwlYTUL3w",
        "colab_type": "code",
        "outputId": "e6cb1bc2-8f68-45ae-c74e-c47088c1c2f8",
        "colab": {
          "base_uri": "https://localhost:8080/",
          "height": 35
        }
      },
      "source": [
        "print(f'CV 정확도 : {np.mean(scores)} +/- {np.std(scores)}')"
      ],
      "execution_count": 20,
      "outputs": [
        {
          "output_type": "stream",
          "text": [
            "CV 정확도 : 0.9495169082125603 +/- 0.013854294239660376\n"
          ],
          "name": "stdout"
        }
      ]
    },
    {
      "cell_type": "markdown",
      "metadata": {
        "id": "hfNPIM5WUn0Y",
        "colab_type": "text"
      },
      "source": [
        "cross_val_score 함수가 검증에 사용하는 지표 : 회귀일 때 R^2, 분류일 때 정확도"
      ]
    },
    {
      "cell_type": "code",
      "metadata": {
        "id": "_-nHQghtUWi_",
        "colab_type": "code",
        "colab": {}
      },
      "source": [
        "from sklearn.model_selection import cross_validate"
      ],
      "execution_count": 0,
      "outputs": []
    },
    {
      "cell_type": "code",
      "metadata": {
        "id": "hXo5fhsUU3gP",
        "colab_type": "code",
        "colab": {}
      },
      "source": [
        "scores = cross_validate(estimator=pipe_lr,\n",
        "                        X=X_train,\n",
        "                        y=y_train,\n",
        "                        scoring=['accuracy'],\n",
        "                        cv=10,\n",
        "                        n_jobs=-1,\n",
        "                        return_train_score=False)"
      ],
      "execution_count": 0,
      "outputs": []
    },
    {
      "cell_type": "code",
      "metadata": {
        "id": "r5KjWzKyVDuR",
        "colab_type": "code",
        "outputId": "7866df8c-308c-48f8-94bf-d9f1a4508bd8",
        "colab": {
          "base_uri": "https://localhost:8080/",
          "height": 53
        }
      },
      "source": [
        "print('CV 정확도 점수 : ', scores['test_accuracy'])"
      ],
      "execution_count": 23,
      "outputs": [
        {
          "output_type": "stream",
          "text": [
            "CV 정확도 점수 :  [0.93478261 0.93478261 0.95652174 0.95652174 0.93478261 0.95555556\n",
            " 0.97777778 0.93333333 0.95555556 0.95555556]\n"
          ],
          "name": "stdout"
        }
      ]
    },
    {
      "cell_type": "code",
      "metadata": {
        "id": "F1bOLxKZVJAP",
        "colab_type": "code",
        "outputId": "a79c05ef-46f0-4575-bbf9-4b4e487cc5ac",
        "colab": {
          "base_uri": "https://localhost:8080/",
          "height": 35
        }
      },
      "source": [
        "print(f\"CV 정확도 : {np.mean(scores['test_accuracy'])} +/- {np.std(scores['test_accuracy'])}\")"
      ],
      "execution_count": 24,
      "outputs": [
        {
          "output_type": "stream",
          "text": [
            "CV 정확도 : 0.9495169082125603 +/- 0.013854294239660376\n"
          ],
          "name": "stdout"
        }
      ]
    },
    {
      "cell_type": "markdown",
      "metadata": {
        "id": "H0JCSp0kV5In",
        "colab_type": "text"
      },
      "source": [
        "##6.3 학습 곡선과 검증 곡선을 사용한 알고리즘 디버깅"
      ]
    },
    {
      "cell_type": "markdown",
      "metadata": {
        "id": "ECiLq-K2v7wE",
        "colab_type": "text"
      },
      "source": [
        "###6.3.1 학습 곡선으로 편향과 분산 문제 분석"
      ]
    },
    {
      "cell_type": "markdown",
      "metadata": {
        "id": "68opXTiqwy2b",
        "colab_type": "text"
      },
      "source": [
        "편향이 높은 모델 : 훈련 정확도와 교차 검증 정확도가 모두 낮다. 훈련 데이터에 과소적합되었다. 해결하기 위해 모델의 파라미터 개수를 늘린다. 추가적인 특성을 수집하거나 만든다. 또는 SVM이나 로지스틱 회귀 분류기에서 규제 강도를 줄인다.\n",
        "\n",
        "분산이 높은 모델 : 훈련 정확도와 교차 검증 정확도 사이에 큰 차이가 있다. 과대적합 문제를 해결하기 위해 더 많은 훈련 데이터를 모으거나 모델 복잡도를 낮추거나 규제를 증가시킨다. 규제가 없는 모델에서는 특성 선택이나 특성 추출을 통해 특성 개수를 줄여 과대적합을 감소한다. "
      ]
    },
    {
      "cell_type": "code",
      "metadata": {
        "id": "p-FoN8edVtOH",
        "colab_type": "code",
        "colab": {}
      },
      "source": [
        "import matplotlib.pyplot as plt\n",
        "from sklearn.model_selection import learning_curve"
      ],
      "execution_count": 0,
      "outputs": []
    },
    {
      "cell_type": "code",
      "metadata": {
        "id": "jm-_t1p0xrXV",
        "colab_type": "code",
        "colab": {}
      },
      "source": [
        "pipe_lr = make_pipeline(StandardScaler(),\n",
        "                        LogisticRegression(solver='liblinear',\n",
        "                                           penalty='l2',\n",
        "                                           random_state=1))\n"
      ],
      "execution_count": 0,
      "outputs": []
    },
    {
      "cell_type": "code",
      "metadata": {
        "id": "IkiNOiVBx9b7",
        "colab_type": "code",
        "colab": {}
      },
      "source": [
        "train_sizes, train_scores, test_scores = learning_curve(estimator=pipe_lr,\n",
        "                                                        X=X_train,\n",
        "                                                        y=y_train,\n",
        "                                                        train_sizes=np.linspace(\n",
        "                                                            0.1, 1.0, 10), # 일정한 간격으로 훈련 세트의 비율 열 개를 설정\n",
        "                                                        cv=10,\n",
        "                                                        n_jobs=-1)"
      ],
      "execution_count": 0,
      "outputs": []
    },
    {
      "cell_type": "code",
      "metadata": {
        "id": "86LNz4QzyW60",
        "colab_type": "code",
        "colab": {}
      },
      "source": [
        "train_mean = np.mean(train_scores, axis=1)\n",
        "train_std = np.std(train_scores, axis=1)\n",
        "test_mean = np.mean(test_scores, axis=1)\n",
        "test_std = np.std(test_scores, axis=1)"
      ],
      "execution_count": 0,
      "outputs": []
    },
    {
      "cell_type": "code",
      "metadata": {
        "id": "TVhZa3koyrvr",
        "colab_type": "code",
        "outputId": "9b29eb0e-1dbc-41b0-b811-e5ac1ecbcb83",
        "colab": {
          "base_uri": "https://localhost:8080/",
          "height": 297
        }
      },
      "source": [
        "plt.plot(train_sizes, train_mean,\n",
        "         color='blue', marker='o',\n",
        "         markersize=5, label='training accuracy')\n",
        "\n",
        "plt.fill_between(train_sizes,\n",
        "                 test_mean + train_std,\n",
        "                 train_mean - train_std,\n",
        "                 alpha = 0.15, color='blue')\n",
        "\n",
        "plt.plot(train_sizes, test_mean,\n",
        "         color='green', linestyle='--',\n",
        "         marker='s', markersize=5,\n",
        "         label='validation accuracy')\n",
        "\n",
        "plt.fill_between(train_sizes,\n",
        "                 test_mean + test_std,\n",
        "                 test_mean - test_std,\n",
        "                 alpha = 0.15, color='green')\n",
        "\n",
        "plt.grid()\n",
        "plt.xlabel('Number of training samples')\n",
        "plt.ylabel('Accuracy')\n",
        "plt.legend(loc='lower right')\n",
        "plt.ylim([0.8, 1.03])\n",
        "plt.tight_layout()\n",
        "plt.show()"
      ],
      "execution_count": 29,
      "outputs": [
        {
          "output_type": "display_data",
          "data": {
            "image/png": "[encoded data removed]",
            "text/plain": [
              "<Figure size 432x288 with 1 Axes>"
            ]
          },
          "metadata": {
            "tags": [],
            "needs_background": "light"
          }
        }
      ]
    },
    {
      "cell_type": "markdown",
      "metadata": {
        "id": "RUPFycVf1YzY",
        "colab_type": "text"
      },
      "source": [
        "250개의 샘플 이상부터 잘 작동한다.\n",
        "\n",
        "250개의 샘플보다 줄어들면 훈련 정확도는 증가하고 검증 정확도는 감소한다. 과대적합이다."
      ]
    },
    {
      "cell_type": "markdown",
      "metadata": {
        "id": "xS-ELUay1hUi",
        "colab_type": "text"
      },
      "source": [
        "###6.3.2 검증 곡선으로 과대적합과 과소적합 조사"
      ]
    },
    {
      "cell_type": "code",
      "metadata": {
        "id": "akZx0PNby8Jb",
        "colab_type": "code",
        "colab": {}
      },
      "source": [
        "from sklearn.model_selection import validation_curve"
      ],
      "execution_count": 0,
      "outputs": []
    },
    {
      "cell_type": "code",
      "metadata": {
        "id": "TBJ4hKDQ4BdC",
        "colab_type": "code",
        "outputId": "9bd7cd58-3e05-4f82-cc2a-a4e4a641900c",
        "colab": {
          "base_uri": "https://localhost:8080/",
          "height": 297
        }
      },
      "source": [
        "param_range = [0.001, 0.01, 0.1, 1.0, 10.0, 100.0]\n",
        "train_scores, test_scores = validation_curve(\n",
        "    estimator=pipe_lr,\n",
        "    X=X_train,\n",
        "    y=y_train,\n",
        "    param_name = 'logisticregression__C',\n",
        "    param_range=param_range,\n",
        "    cv=10)\n",
        "train_mean = np.mean(train_scores, axis=1)\n",
        "train_std = np.std(train_scores, axis=1)\n",
        "test_mean = np.mean(test_scores, axis=1)\n",
        "test_std = np.std(test_scores, axis=1)\n",
        "plt.plot(param_range, train_mean,\n",
        "         color='blue', marker='o',\n",
        "         markersize=5, label='training accuracy')\n",
        "\n",
        "plt.fill_between(param_range,\n",
        "                 test_mean + train_std,\n",
        "                 train_mean - train_std,\n",
        "                 alpha = 0.15, color='blue')\n",
        "\n",
        "plt.plot(param_range, test_mean,\n",
        "         color='green', linestyle='--',\n",
        "         marker='s', markersize=5,\n",
        "         label='validation accuracy')\n",
        "\n",
        "plt.fill_between(param_range,\n",
        "                 test_mean + test_std,\n",
        "                 test_mean - test_std,\n",
        "                 alpha = 0.15, color='green')\n",
        "\n",
        "plt.grid()\n",
        "plt.xscale('log')\n",
        "plt.legend(loc='lower right')\n",
        "plt.xlabel('Parameter C')\n",
        "plt.ylabel('Accuracy')\n",
        "plt.ylim([0.8, 1.0])\n",
        "plt.tight_layout()\n",
        "plt.show()"
      ],
      "execution_count": 31,
      "outputs": [
        {
          "output_type": "display_data",
          "data": {
            "image/png": "[encoded data removed]",
            "text/plain": [
              "<Figure size 432x288 with 1 Axes>"
            ]
          },
          "metadata": {
            "tags": [],
            "needs_background": "light"
          }
        }
      ]
    },
    {
      "cell_type": "markdown",
      "metadata": {
        "id": "VqFYqR_C76EK",
        "colab_type": "text"
      },
      "source": [
        "C 값이 바뀜에 따라 정확도 차이가 미묘하지만 규제 강도를 높이면(C 값을 줄이면) 모델이 데이터에 조금 과소적합되는 것을 볼 수 있다.\n",
        "\n",
        "규제 강도가 낮아지는 큰 C 값에서는 모델이 데이터에 조금 과대적합되는 경향을 보인다.\n",
        "\n",
        "이 경우에 적절한 C 값은 0.01과 0.1 사이다."
      ]
    },
    {
      "cell_type": "markdown",
      "metadata": {
        "id": "HalfxHp18LH5",
        "colab_type": "text"
      },
      "source": [
        "##6.4 그리드 서치를 사용한 머신 러닝 모델 세부 튜닝"
      ]
    },
    {
      "cell_type": "markdown",
      "metadata": {
        "id": "tDSBhpSt8Wkp",
        "colab_type": "text"
      },
      "source": [
        "###6.4.1 그리드 서치를 사용한 하이퍼파라미터 튜닝"
      ]
    },
    {
      "cell_type": "code",
      "metadata": {
        "id": "k_0lyzGG7y2j",
        "colab_type": "code",
        "colab": {}
      },
      "source": [
        "from sklearn.model_selection import GridSearchCV\n",
        "from sklearn.svm import SVC"
      ],
      "execution_count": 0,
      "outputs": []
    },
    {
      "cell_type": "code",
      "metadata": {
        "id": "QcTHvwL88jVh",
        "colab_type": "code",
        "colab": {}
      },
      "source": [
        "pipe_svc = make_pipeline(StandardScaler(),\n",
        "                         SVC(random_state=1))"
      ],
      "execution_count": 0,
      "outputs": []
    },
    {
      "cell_type": "code",
      "metadata": {
        "id": "M6X4eZF38pbx",
        "colab_type": "code",
        "colab": {}
      },
      "source": [
        "param_range = [0.0001, 0.001, 0.01, 0.1,\n",
        "               1.0, 10.0, 100.0, 1000.0]"
      ],
      "execution_count": 0,
      "outputs": []
    },
    {
      "cell_type": "code",
      "metadata": {
        "id": "kq3pQ-n08v_V",
        "colab_type": "code",
        "colab": {}
      },
      "source": [
        "param_grid = [{'svc__C': param_range,\n",
        "               'svc__kernel' : ['linear']},\n",
        "              {'svc__C': param_range,\n",
        "               'svc__gamma' : param_range,\n",
        "               'svc__kernel' : ['rbf']}]"
      ],
      "execution_count": 0,
      "outputs": []
    },
    {
      "cell_type": "code",
      "metadata": {
        "id": "IrR8agX_9Bd5",
        "colab_type": "code",
        "colab": {}
      },
      "source": [
        "gs = GridSearchCV(estimator=pipe_svc,\n",
        "                  param_grid=param_grid,\n",
        "                  scoring='accuracy',\n",
        "                  cv=10,\n",
        "                  n_jobs=-1)"
      ],
      "execution_count": 0,
      "outputs": []
    },
    {
      "cell_type": "code",
      "metadata": {
        "id": "OviMmggR9P2g",
        "colab_type": "code",
        "colab": {}
      },
      "source": [
        "gs = gs.fit(X_train, y_train)"
      ],
      "execution_count": 0,
      "outputs": []
    },
    {
      "cell_type": "code",
      "metadata": {
        "id": "ODDikssS9Ssw",
        "colab_type": "code",
        "outputId": "0f549f11-1fb4-4ae2-8df9-7f7b8c01f2db",
        "colab": {
          "base_uri": "https://localhost:8080/",
          "height": 35
        }
      },
      "source": [
        "print(gs.best_score_)"
      ],
      "execution_count": 38,
      "outputs": [
        {
          "output_type": "stream",
          "text": [
            "0.9846859903381642\n"
          ],
          "name": "stdout"
        }
      ]
    },
    {
      "cell_type": "code",
      "metadata": {
        "id": "LhClqYJ-95pz",
        "colab_type": "code",
        "outputId": "632154a4-5e2d-4de9-a86e-f7f07f2121f9",
        "colab": {
          "base_uri": "https://localhost:8080/",
          "height": 35
        }
      },
      "source": [
        "print(gs.best_params_)"
      ],
      "execution_count": 39,
      "outputs": [
        {
          "output_type": "stream",
          "text": [
            "{'svc__C': 100.0, 'svc__gamma': 0.001, 'svc__kernel': 'rbf'}\n"
          ],
          "name": "stdout"
        }
      ]
    },
    {
      "cell_type": "code",
      "metadata": {
        "id": "DoOhKVSG98uR",
        "colab_type": "code",
        "outputId": "ca1d550c-89fb-4f55-bf86-545d88fec42a",
        "colab": {
          "base_uri": "https://localhost:8080/",
          "height": 35
        }
      },
      "source": [
        "clf = gs.best_estimator_\n",
        "clf.fit(X_train, y_train)\n",
        "print(f'테스트 정확도 : {clf.score(X_test, y_test)}')"
      ],
      "execution_count": 40,
      "outputs": [
        {
          "output_type": "stream",
          "text": [
            "테스트 정확도 : 0.9736842105263158\n"
          ],
          "name": "stdout"
        }
      ]
    },
    {
      "cell_type": "markdown",
      "metadata": {
        "id": "lS3tTVcs-WcZ",
        "colab_type": "text"
      },
      "source": [
        "###6.4.2 중첩 교차 검증을 사용한 알고리즘 선택"
      ]
    },
    {
      "cell_type": "markdown",
      "metadata": {
        "id": "XfBh3TSX-gYZ",
        "colab_type": "text"
      },
      "source": [
        "여러 종류의 머신 러닝 알고리즘을 비교하려면 중첩 교차 검증(nested cross-validation) 방법이 권장된다.\n",
        "\n",
        "중첩 교차 검증은 바깥쪽 k-겹 교차 검증 루프가 데이터를 훈련 폴드와 테스트 폴드로 나누고, 안쪽 루프가 훈련 폴드에서 k-겹 교차 검증을 수행하여 모델을 선택한다. 모델이 선택되면 테스트 폴드를 사용하여 모델 성능을 평가한다.\n",
        "\n",
        "중첩 교차 검증은 계산 성능이 중요한 대용량 데이터셋에서 유용하다."
      ]
    },
    {
      "cell_type": "code",
      "metadata": {
        "id": "DY_0Y3_J-Rwh",
        "colab_type": "code",
        "colab": {}
      },
      "source": [
        "gs = GridSearchCV(estimator=pipe_svc,\n",
        "                  param_grid=param_grid,\n",
        "                  scoring='accuracy',\n",
        "                  cv=2)"
      ],
      "execution_count": 0,
      "outputs": []
    },
    {
      "cell_type": "code",
      "metadata": {
        "id": "KZu08b89_fKp",
        "colab_type": "code",
        "colab": {}
      },
      "source": [
        "scores = cross_val_score(gs, X_train, y_train,\n",
        "                         scoring='accuracy', cv=5)"
      ],
      "execution_count": 0,
      "outputs": []
    },
    {
      "cell_type": "code",
      "metadata": {
        "id": "Ws3XZ_81_mxJ",
        "colab_type": "code",
        "outputId": "be184597-99b4-4133-b700-72e3db09bd7b",
        "colab": {
          "base_uri": "https://localhost:8080/",
          "height": 35
        }
      },
      "source": [
        "print(f'CV 정확도 : {np.mean(scores)} +/- {np.std(scores)}')"
      ],
      "execution_count": 43,
      "outputs": [
        {
          "output_type": "stream",
          "text": [
            "CV 정확도 : 0.9736263736263737 +/- 0.014906219743132467\n"
          ],
          "name": "stdout"
        }
      ]
    },
    {
      "cell_type": "code",
      "metadata": {
        "id": "7pMFQxXk_u_g",
        "colab_type": "code",
        "colab": {}
      },
      "source": [
        "from sklearn.tree import DecisionTreeClassifier"
      ],
      "execution_count": 0,
      "outputs": []
    },
    {
      "cell_type": "code",
      "metadata": {
        "id": "JB7ob1Ki_1LY",
        "colab_type": "code",
        "colab": {}
      },
      "source": [
        "gs = GridSearchCV(estimator=DecisionTreeClassifier(\n",
        "    random_state=0\n",
        "),\n",
        "param_grid=[{'max_depth' : [1, 2, 3, 4, 5, 6, 7, None]}],\n",
        "scoring='accuracy',\n",
        "cv=2)"
      ],
      "execution_count": 0,
      "outputs": []
    },
    {
      "cell_type": "code",
      "metadata": {
        "id": "1m4h8SPoAFlM",
        "colab_type": "code",
        "colab": {}
      },
      "source": [
        "scores = cross_val_score(gs, X_train, y_train,\n",
        "                         scoring='accuracy', cv=5)"
      ],
      "execution_count": 0,
      "outputs": []
    },
    {
      "cell_type": "code",
      "metadata": {
        "id": "fmHZMQIvANOx",
        "colab_type": "code",
        "outputId": "b624821a-f190-466a-ba5b-85fca358b848",
        "colab": {
          "base_uri": "https://localhost:8080/",
          "height": 35
        }
      },
      "source": [
        "print(f'CV 정확도 : {np.mean(scores)} +/- {np.std(scores)}')"
      ],
      "execution_count": 47,
      "outputs": [
        {
          "output_type": "stream",
          "text": [
            "CV 정확도 : 0.9340659340659341 +/- 0.015540808377726326\n"
          ],
          "name": "stdout"
        }
      ]
    },
    {
      "cell_type": "markdown",
      "metadata": {
        "id": "1_HXsABeAWbC",
        "colab_type": "text"
      },
      "source": [
        "##6.5 여러 가지 성능 평가 지표"
      ]
    },
    {
      "cell_type": "markdown",
      "metadata": {
        "id": "8pPELeHL8Ym-",
        "colab_type": "text"
      },
      "source": [
        "###6.5.1 오차 행렬"
      ]
    },
    {
      "cell_type": "markdown",
      "metadata": {
        "id": "ADxIRHog8_wU",
        "colab_type": "text"
      },
      "source": [
        "진짜 음성(Ture Negative, TN)   거짓 양성 (False Positive, FP)\n",
        "\n",
        "거짓 음성 (False Negative, FN) 진짜 양성 (True Positive, TP)"
      ]
    },
    {
      "cell_type": "code",
      "metadata": {
        "id": "EhaIPukVAR_4",
        "colab_type": "code",
        "colab": {}
      },
      "source": [
        "from sklearn.metrics import confusion_matrix"
      ],
      "execution_count": 0,
      "outputs": []
    },
    {
      "cell_type": "code",
      "metadata": {
        "id": "gbxwT5go9x-y",
        "colab_type": "code",
        "colab": {
          "base_uri": "https://localhost:8080/",
          "height": 53
        },
        "outputId": "1db3fccb-1a2a-45b7-b568-85a732999db7"
      },
      "source": [
        "pipe_svc.fit(X_train, y_train)\n",
        "y_pred = pipe_svc.predict(X_test)\n",
        "confmat = confusion_matrix(y_true=y_test, y_pred=y_pred)\n",
        "print(confmat)"
      ],
      "execution_count": 49,
      "outputs": [
        {
          "output_type": "stream",
          "text": [
            "[[71  1]\n",
            " [ 2 40]]\n"
          ],
          "name": "stdout"
        }
      ]
    },
    {
      "cell_type": "code",
      "metadata": {
        "id": "MNxZvulv9_34",
        "colab_type": "code",
        "colab": {
          "base_uri": "https://localhost:8080/",
          "height": 189
        },
        "outputId": "0e1087a6-de97-457c-9f7e-984d6c491b5b"
      },
      "source": [
        "fig, ax = plt.subplots(figsize=(2.5, 2.5))\n",
        "ax.matshow(confmat, cmap=plt.cm.Blues, alpha=0.3)\n",
        "for i in range(confmat.shape[0]):\n",
        "  for j in range(confmat.shape[1]):\n",
        "    ax.text(x=j, y=i,\n",
        "            s=confmat[i, j],\n",
        "            va='center', ha='center')\n",
        "plt.xlabel('predicted label')\n",
        "plt.ylabel('true label')\n",
        "plt.tight_layout()\n",
        "plt.show()"
      ],
      "execution_count": 50,
      "outputs": [
        {
          "output_type": "display_data",
          "data": {
            "image/png": "[encoded data removed]",
            "text/plain": [
              "<Figure size 180x180 with 1 Axes>"
            ]
          },
          "metadata": {
            "tags": [],
            "needs_background": "light"
          }
        }
      ]
    },
    {
      "cell_type": "markdown",
      "metadata": {
        "id": "SLjz5on5-2t5",
        "colab_type": "text"
      },
      "source": [
        "###6.5.2 분류 모델의 정밀도와 재현율 최적화"
      ]
    },
    {
      "cell_type": "code",
      "metadata": {
        "id": "fuTGJybe-mYT",
        "colab_type": "code",
        "colab": {}
      },
      "source": [
        "from sklearn.metrics import precision_score\n",
        "from sklearn.metrics import recall_score, f1_score"
      ],
      "execution_count": 0,
      "outputs": []
    },
    {
      "cell_type": "code",
      "metadata": {
        "id": "bupCGe_b_1m_",
        "colab_type": "code",
        "colab": {
          "base_uri": "https://localhost:8080/",
          "height": 35
        },
        "outputId": "e23b4a6d-b9e5-4eea-bacf-f16e264dbf08"
      },
      "source": [
        "print(f'정밀도 : {precision_score(y_true=y_test, y_pred=y_pred)}')"
      ],
      "execution_count": 53,
      "outputs": [
        {
          "output_type": "stream",
          "text": [
            "정밀도 : 0.975609756097561\n"
          ],
          "name": "stdout"
        }
      ]
    },
    {
      "cell_type": "code",
      "metadata": {
        "id": "1jzpP6Lc_8en",
        "colab_type": "code",
        "colab": {
          "base_uri": "https://localhost:8080/",
          "height": 35
        },
        "outputId": "234bf93e-9ac5-4474-917c-cfca64164200"
      },
      "source": [
        "print(f'재현율 : {recall_score(y_true=y_test, y_pred=y_pred)}')"
      ],
      "execution_count": 54,
      "outputs": [
        {
          "output_type": "stream",
          "text": [
            "재현율 : 0.9523809523809523\n"
          ],
          "name": "stdout"
        }
      ]
    },
    {
      "cell_type": "code",
      "metadata": {
        "id": "R0ybqpXWAI3n",
        "colab_type": "code",
        "colab": {
          "base_uri": "https://localhost:8080/",
          "height": 35
        },
        "outputId": "5c0d297b-0544-476b-c962-9976b70d7423"
      },
      "source": [
        "print(f'F1 : {f1_score(y_true=y_test, y_pred=y_pred)}')"
      ],
      "execution_count": 55,
      "outputs": [
        {
          "output_type": "stream",
          "text": [
            "F1 : 0.963855421686747\n"
          ],
          "name": "stdout"
        }
      ]
    },
    {
      "cell_type": "code",
      "metadata": {
        "id": "MkI0NVHLAM6P",
        "colab_type": "code",
        "colab": {}
      },
      "source": [
        "from sklearn.metrics import make_scorer, f1_score"
      ],
      "execution_count": 0,
      "outputs": []
    },
    {
      "cell_type": "code",
      "metadata": {
        "id": "wFecgku6AdoY",
        "colab_type": "code",
        "colab": {}
      },
      "source": [
        "scorer = make_scorer(f1_score, pos_label=0)\n",
        "c_gamma_range = [0.01, 0.1, 1.0, 10.0]"
      ],
      "execution_count": 0,
      "outputs": []
    },
    {
      "cell_type": "code",
      "metadata": {
        "id": "yLQGNH-WAnYv",
        "colab_type": "code",
        "colab": {}
      },
      "source": [
        "param_grid = [{'svc__C' : c_gamma_range,\n",
        "               'svc__kernel' : ['linear']},\n",
        "              {'svc__C' : c_gamma_range,\n",
        "               'svc__gamma' : c_gamma_range,\n",
        "               'svc__kernel' : ['rbf']}]"
      ],
      "execution_count": 0,
      "outputs": []
    },
    {
      "cell_type": "code",
      "metadata": {
        "id": "cfR4IiKvA6Mn",
        "colab_type": "code",
        "colab": {}
      },
      "source": [
        "gs = GridSearchCV(estimator=pipe_svc,\n",
        "                  param_grid = param_grid,\n",
        "                  scoring = scorer,\n",
        "                  cv=10)"
      ],
      "execution_count": 0,
      "outputs": []
    },
    {
      "cell_type": "code",
      "metadata": {
        "id": "X_r4__TVA-NP",
        "colab_type": "code",
        "colab": {}
      },
      "source": [
        "gs = gs.fit(X_train, y_train)"
      ],
      "execution_count": 0,
      "outputs": []
    },
    {
      "cell_type": "code",
      "metadata": {
        "id": "9neRzFZ0BIqH",
        "colab_type": "code",
        "colab": {
          "base_uri": "https://localhost:8080/",
          "height": 35
        },
        "outputId": "10a3f5a6-c455-4ec9-83a4-9d6d438b3144"
      },
      "source": [
        "print(gs.best_score_)"
      ],
      "execution_count": 65,
      "outputs": [
        {
          "output_type": "stream",
          "text": [
            "0.9861994953378878\n"
          ],
          "name": "stdout"
        }
      ]
    },
    {
      "cell_type": "code",
      "metadata": {
        "id": "xPiqzJlvBVkf",
        "colab_type": "code",
        "colab": {
          "base_uri": "https://localhost:8080/",
          "height": 35
        },
        "outputId": "0f03e1df-c2e6-4ec7-8ce9-1433eb7f1692"
      },
      "source": [
        "print(gs.best_params_)"
      ],
      "execution_count": 66,
      "outputs": [
        {
          "output_type": "stream",
          "text": [
            "{'svc__C': 10.0, 'svc__gamma': 0.01, 'svc__kernel': 'rbf'}\n"
          ],
          "name": "stdout"
        }
      ]
    },
    {
      "cell_type": "markdown",
      "metadata": {
        "id": "gvq6mYhFBZeX",
        "colab_type": "text"
      },
      "source": [
        "###6.5.3 ROC 곡선 그리기"
      ]
    },
    {
      "cell_type": "markdown",
      "metadata": {
        "id": "crOwt0PYBqxX",
        "colab_type": "text"
      },
      "source": [
        "ROC(Receiver Operation Characteristic) 그래프 : 분류기의 임계 값을 바꾸어 가며 계산된 FPR(거짓 양성 비율)과 TPR(진짜 양성 비율) 점수를 기반으로 분류 모델을 선택하는 도구\n",
        "\n",
        "ROC 그래프의 대각선 : 랜덤 추측\n",
        "\n",
        "ROC 그래프의 대각선 아래면 랜덤 추측보다 나쁜 셈\n",
        "\n",
        "ROC 그래프의 왼쪽 위 구석은 완벽한 분류기\n",
        "\n",
        "ROC 곡선의 아래 면적인 ROC AUC(ROC Area Under the Curve)를 계산하여 분류 모델의 성능을 종합한다."
      ]
    },
    {
      "cell_type": "code",
      "metadata": {
        "id": "07EA1qCpBXn4",
        "colab_type": "code",
        "colab": {}
      },
      "source": [
        "from sklearn.metrics import roc_curve, auc\n",
        "from scipy import interp"
      ],
      "execution_count": 0,
      "outputs": []
    },
    {
      "cell_type": "code",
      "metadata": {
        "id": "NsuEotM4ClVZ",
        "colab_type": "code",
        "colab": {
          "base_uri": "https://localhost:8080/",
          "height": 459
        },
        "outputId": "a74e58aa-fa63-49d8-a12f-08eb619d1c48"
      },
      "source": [
        "pipe_lr = make_pipeline(StandardScaler(),\n",
        "                        PCA(n_components=2),\n",
        "                        LogisticRegression(solver='liblinear',\n",
        "                                           penalty='l2',\n",
        "                                           random_state=1,\n",
        "                                           C=100.0))\n",
        "\n",
        "X_train2 = X_train[:, [4,14]]\n",
        "\n",
        "cv = list(StratifiedKFold(n_splits=3,\n",
        "                          random_state=1).split(X_train,\n",
        "                                                y_train))\n",
        "\n",
        "fig = plt.figure(figsize=(7, 5))\n",
        "\n",
        "mean_tpr = 0.0\n",
        "mean_fpr = np.linspace(0, 1, 100)\n",
        "all_tpr = []\n",
        "\n",
        "for i, (train, test) in enumerate(cv):\n",
        "  probas = pipe_lr.fit(X_train2[train],\n",
        "                       y_train[train]).predict_proba(X_train2[test])\n",
        "  fpr, tpr, thresholds = roc_curve(y_train[test],\n",
        "                                   probas[:, 1],\n",
        "                                   pos_label=1)                     \n",
        "  mean_tpr += interp(mean_fpr, fpr, tpr)\n",
        "  mean_tpr[0] = 0.0\n",
        "  roc_auc = auc(fpr, tpr)\n",
        "  plt.plot(fpr,\n",
        "          tpr,\n",
        "          label='ROC fold %d (area = %0.2f)'\n",
        "          % (i+1, roc_auc))\n",
        "  \n",
        "plt.plot([0, 1],\n",
        "         [0, 1],\n",
        "         linestyle='--',\n",
        "         color=(0.6, 0.6, 0.6),\n",
        "         label='random guessing')\n",
        "\n",
        "mean_tpr /= len(cv)\n",
        "mean_tpr[-1] = 1.0\n",
        "mean_auc = auc(mean_fpr, mean_tpr)\n",
        "plt.plot(mean_fpr, mean_tpr, 'k--',\n",
        "               label = 'mean ROC (area = % 0.2f)' % mean_auc, lw=2)\n",
        "plt.plot([0, 0, 1],\n",
        "         [0, 1, 1],\n",
        "         linestyle=':',\n",
        "         color='black',\n",
        "         label='perfect performance')\n",
        "\n",
        "plt.xlim([-0.05, 1.05])\n",
        "plt.ylim([-0.05, 1.05])\n",
        "plt.xlabel('false positive rate')\n",
        "plt.ylabel('true positive rate')\n",
        "plt.legend(loc='lower right')\n",
        "plt.tight_layout()\n",
        "plt.show()"
      ],
      "execution_count": 90,
      "outputs": [
        {
          "output_type": "stream",
          "text": [
            "/usr/local/lib/python3.6/dist-packages/sklearn/model_selection/_split.py:296: FutureWarning: Setting a random_state has no effect since shuffle is False. This will raise an error in 0.24. You should leave random_state to its default (None), or set shuffle=True.\n",
            "  FutureWarning\n",
            "/usr/local/lib/python3.6/dist-packages/ipykernel_launcher.py:26: DeprecationWarning: scipy.interp is deprecated and will be removed in SciPy 2.0.0, use numpy.interp instead\n",
            "/usr/local/lib/python3.6/dist-packages/ipykernel_launcher.py:26: DeprecationWarning: scipy.interp is deprecated and will be removed in SciPy 2.0.0, use numpy.interp instead\n",
            "/usr/local/lib/python3.6/dist-packages/ipykernel_launcher.py:26: DeprecationWarning: scipy.interp is deprecated and will be removed in SciPy 2.0.0, use numpy.interp instead\n"
          ],
          "name": "stderr"
        },
        {
          "output_type": "display_data",
          "data": {
            "image/png": "[encoded data removed]",
            "text/plain": [
              "<Figure size 504x360 with 1 Axes>"
            ]
          },
          "metadata": {
            "tags": [],
            "needs_background": "light"
          }
        }
      ]
    },
    {
      "cell_type": "markdown",
      "metadata": {
        "id": "MVI7dhSWJFaW",
        "colab_type": "text"
      },
      "source": [
        "###6.5.4 다중 분류의 성능 지표"
      ]
    },
    {
      "cell_type": "markdown",
      "metadata": {
        "id": "AlVuct8DI8UJ",
        "colab_type": "text"
      },
      "source": [
        "이진 분류 말고 다중 분류도 가능하다.\n",
        "\n",
        "사이킷런은 평균 지표에 마크로(macro)와 마이크로(micro) 평균 방식을 구현하여 OvA(One-versus-All) 방식을 사용하는 다중 분류로 확장한다.\n",
        "\n",
        "마이크로 평균 : 각 샘플이나 예측에 동일한 가중치를 부여하고자 할 때 사용\n",
        "\n",
        "마크로 평균 : 모든 클래스에 동일한 가중치를 부여하여 분류기의 전반적인 성능을 평가"
      ]
    },
    {
      "cell_type": "code",
      "metadata": {
        "id": "05UsWAFrJhx1",
        "colab_type": "code",
        "colab": {}
      },
      "source": [
        "pre_scorer = make_scorer(score_func=precision_score,\n",
        "                         pos_label=1,\n",
        "                         greater_is_better=True,\n",
        "                         average='micro')"
      ],
      "execution_count": 0,
      "outputs": []
    },
    {
      "cell_type": "markdown",
      "metadata": {
        "id": "cI962lydJ7IG",
        "colab_type": "text"
      },
      "source": [
        "##6.6 불균형한 클래스 다루기"
      ]
    },
    {
      "cell_type": "markdown",
      "metadata": {
        "id": "l1ndSKXCLgZd",
        "colab_type": "text"
      },
      "source": [
        "원래 유방암 데이터셋 : 212개의 악성 종양(클래스 1) 357개의 양성 종양(클래스 0)\n",
        "\n",
        "357개의 양성 종양 샘플 전체와 40개의 악성 종양 샘플을 연결하여 불균형이 심한 데이터셋을 만들자."
      ]
    },
    {
      "cell_type": "code",
      "metadata": {
        "id": "b_bWY74aJ6D_",
        "colab_type": "code",
        "colab": {}
      },
      "source": [
        "X_imb = np.vstack((X[y==0], X[y==1][:40]))\n",
        "y_imb = np.hstack((y[y==0], y[y==1][:40]))"
      ],
      "execution_count": 0,
      "outputs": []
    },
    {
      "cell_type": "code",
      "metadata": {
        "id": "1uB1SfLwLb8G",
        "colab_type": "code",
        "colab": {
          "base_uri": "https://localhost:8080/",
          "height": 35
        },
        "outputId": "ab834390-3047-466d-e11b-739e40553733"
      },
      "source": [
        "y_pred = np.zeros(y_imb.shape[0])\n",
        "np.mean(y_pred == y_imb) * 100"
      ],
      "execution_count": 94,
      "outputs": [
        {
          "output_type": "execute_result",
          "data": {
            "text/plain": [
              "89.92443324937027"
            ]
          },
          "metadata": {
            "tags": []
          },
          "execution_count": 94
        }
      ]
    },
    {
      "cell_type": "code",
      "metadata": {
        "id": "rNw6wf2GL-RG",
        "colab_type": "code",
        "colab": {}
      },
      "source": [
        "from sklearn.utils import resample"
      ],
      "execution_count": 0,
      "outputs": []
    },
    {
      "cell_type": "code",
      "metadata": {
        "id": "Y8X2P1-OMCcu",
        "colab_type": "code",
        "colab": {
          "base_uri": "https://localhost:8080/",
          "height": 35
        },
        "outputId": "35b4afe0-a67a-4bd8-eba4-60bfce76348c"
      },
      "source": [
        "print(f'샘플링하기 전 클래스 1의 샘플 개수 : {X_imb[y_imb == 1].shape[0]}')"
      ],
      "execution_count": 97,
      "outputs": [
        {
          "output_type": "stream",
          "text": [
            "샘플링하기 전 클래스 1의 샘플 개수 : 40\n"
          ],
          "name": "stdout"
        }
      ]
    },
    {
      "cell_type": "code",
      "metadata": {
        "id": "NyzXKHVPMRfW",
        "colab_type": "code",
        "colab": {}
      },
      "source": [
        "X_upsampled, y_upsampled = resample(X_imb[y_imb == 1],\n",
        "                                    y_imb[y_imb == 1],\n",
        "                                    replace = True,\n",
        "                                    n_samples = X_imb[y_imb == 0].shape[0],\n",
        "                                    random_state=123)"
      ],
      "execution_count": 0,
      "outputs": []
    },
    {
      "cell_type": "code",
      "metadata": {
        "id": "YTHrJH_zMLKf",
        "colab_type": "code",
        "colab": {
          "base_uri": "https://localhost:8080/",
          "height": 35
        },
        "outputId": "726d72ad-2c1b-4109-b47e-4c225a4236e4"
      },
      "source": [
        "print(f'샘플링한 후 전 클래스 1의 샘플 개수 : {X_upsampled.shape[0]}')"
      ],
      "execution_count": 100,
      "outputs": [
        {
          "output_type": "stream",
          "text": [
            "샘플링한 후 전 클래스 1의 샘플 개수 : 357\n"
          ],
          "name": "stdout"
        }
      ]
    },
    {
      "cell_type": "code",
      "metadata": {
        "id": "rbjPyn5oMwQt",
        "colab_type": "code",
        "colab": {}
      },
      "source": [
        "X_bal = np.vstack((X[y==0], X_upsampled))\n",
        "y_bal = np.hstack((y[y==0], y_upsampled))"
      ],
      "execution_count": 0,
      "outputs": []
    },
    {
      "cell_type": "code",
      "metadata": {
        "id": "tCWa5LzkM9bO",
        "colab_type": "code",
        "colab": {
          "base_uri": "https://localhost:8080/",
          "height": 35
        },
        "outputId": "af21a1a4-c9e7-4867-ff41-38afd239b6fd"
      },
      "source": [
        "y_pred = np.zeros(y_bal.shape[0])\n",
        "np.mean(y_pred == y_bal) * 100"
      ],
      "execution_count": 102,
      "outputs": [
        {
          "output_type": "execute_result",
          "data": {
            "text/plain": [
              "50.0"
            ]
          },
          "metadata": {
            "tags": []
          },
          "execution_count": 102
        }
      ]
    },
    {
      "cell_type": "code",
      "metadata": {
        "id": "qvMy1WJBNBke",
        "colab_type": "code",
        "colab": {}
      },
      "source": [
        ""
      ],
      "execution_count": 0,
      "outputs": []
    }
  ]
}