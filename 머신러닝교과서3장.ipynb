{
  "nbformat": 4,
  "nbformat_minor": 0,
  "metadata": {
    "colab": {
      "name": "머신러닝교과서3장",
      "provenance": [],
      "collapsed_sections": [],
      "toc_visible": true,
      "authorship_tag": "ABX9TyPlcr+cBXefpurKXUqrjalY",
      "include_colab_link": true
    },
    "kernelspec": {
      "name": "python3",
      "display_name": "Python 3"
    }
  },
  "cells": [
    {
      "cell_type": "markdown",
      "metadata": {
        "id": "view-in-github",
        "colab_type": "text"
      },
      "source": [
        "<a href=\"https://colab.research.google.com/github/Jung0Jin/Python_Machine_Learning/blob/master/%EB%A8%B8%EC%8B%A0%EB%9F%AC%EB%8B%9D%EA%B5%90%EA%B3%BC%EC%84%9C3%EC%9E%A5.ipynb\" target=\"_parent\"><img src=\"https://colab.research.google.com/assets/colab-badge.svg\" alt=\"Open In Colab\"/></a>"
      ]
    },
    {
      "cell_type": "markdown",
      "metadata": {
        "id": "D6twWNuq7pwC",
        "colab_type": "text"
      },
      "source": [
        "# 3장 사이킷런을 타고 떠나는 머신 러닝 분류 모델 투어"
      ]
    },
    {
      "cell_type": "markdown",
      "metadata": {
        "id": "HTnH5qfYMDvC",
        "colab_type": "text"
      },
      "source": [
        "강력하고 인기 있는 분류 알고리즘 : 로지스틱 회귀, 서포트 벡터 머신, 결정 트리\n",
        "\n",
        "예제와 설명을 위해 사이킷런 머신 러닝 라이브러리 사용하기\n",
        "\n",
        "선형 또는 비선형 결정 경계를 갖는 분류 알고리즘의 강점과 약점 설명하기"
      ]
    },
    {
      "cell_type": "markdown",
      "metadata": {
        "id": "OUFArPC38LHR",
        "colab_type": "text"
      },
      "source": [
        "##3.1 분류 알고리즘 선택"
      ]
    },
    {
      "cell_type": "markdown",
      "metadata": {
        "id": "_aeVznErjc5B",
        "colab_type": "text"
      },
      "source": [
        "모든 경우에 뛰어난 성능을 낼 수 있는 분류 모델은 없다.\n",
        "\n",
        "몇 개의 학습 알고리즘 성능을 비교하고 해당 문제에 최선인 모델을 선택하는 것이 권장된다.\n",
        "\n",
        "머신 러닝 알고리즘을 훈련하기 위한 다섯 가지 단계 :\n",
        "\n",
        "1. 특성을 선택하고 훈련 샘플을 모은다.\n",
        "\n",
        "2. 성능 지표를 선택한다.\n",
        "\n",
        "3. 분류 모델과 최적화 알고리즘을 선택한다.\n",
        "\n",
        "4. 모델의 성능을 평가한다.\n",
        "\n",
        "5. 알고리즘을 튜닝한다."
      ]
    },
    {
      "cell_type": "markdown",
      "metadata": {
        "id": "01rcXUKGMHkP",
        "colab_type": "text"
      },
      "source": [
        "## 3.2 사이킷런 첫걸음 : 퍼셉트론 훈련"
      ]
    },
    {
      "cell_type": "code",
      "metadata": {
        "id": "k17y39T09Afy",
        "colab_type": "code",
        "colab": {}
      },
      "source": [
        "from sklearn import datasets\n",
        "import numpy as np"
      ],
      "execution_count": 0,
      "outputs": []
    },
    {
      "cell_type": "code",
      "metadata": {
        "id": "3Py_pWJb-C1S",
        "colab_type": "code",
        "colab": {}
      },
      "source": [
        "iris = datasets.load_iris()"
      ],
      "execution_count": 0,
      "outputs": []
    },
    {
      "cell_type": "code",
      "metadata": {
        "id": "AYD5j7fT9xVs",
        "colab_type": "code",
        "outputId": "609e8f3f-8232-4263-bf0c-4b5d23a9a6d2",
        "colab": {
          "base_uri": "https://localhost:8080/",
          "height": 105
        }
      },
      "source": [
        "iris.data[:5] # iris.data 의 샘플을 5개 정도 봐보자"
      ],
      "execution_count": 3,
      "outputs": [
        {
          "output_type": "execute_result",
          "data": {
            "text/plain": [
              "array([[5.1, 3.5, 1.4, 0.2],\n",
              "       [4.9, 3. , 1.4, 0.2],\n",
              "       [4.7, 3.2, 1.3, 0.2],\n",
              "       [4.6, 3.1, 1.5, 0.2],\n",
              "       [5. , 3.6, 1.4, 0.2]])"
            ]
          },
          "metadata": {
            "tags": []
          },
          "execution_count": 3
        }
      ]
    },
    {
      "cell_type": "code",
      "metadata": {
        "id": "L6tgAUe79FPD",
        "colab_type": "code",
        "outputId": "36d10ba4-ab14-423c-a791-ba1c0c81f272",
        "colab": {
          "base_uri": "https://localhost:8080/",
          "height": 34
        }
      },
      "source": [
        "X = iris.data[:, [2,3]] # 데이터를 다 가져오는데, 3번째, 4번째 특성만 가져온다.\n",
        "y = iris.target\n",
        "print('클래스 레이블:', np.unique(y)) # unique(y) 는 iris.target에 있는 고유한 값을 리턴한다."
      ],
      "execution_count": 4,
      "outputs": [
        {
          "output_type": "stream",
          "text": [
            "클래스 레이블: [0 1 2]\n"
          ],
          "name": "stdout"
        }
      ]
    },
    {
      "cell_type": "markdown",
      "metadata": {
        "id": "4_x0KRrB-hAi",
        "colab_type": "text"
      },
      "source": [
        "클래스 레이블을 정수 레이블로 권장되는 이유 :\n",
        "\n",
        "1. 사소한 실수를 피할 수 있다.\n",
        "\n",
        "2. 작은 메모리 영역을 차지하여 계산 성능을 향상시킨다.\n",
        "\n",
        "3. 정수로 인코딩하는 것이 공동퇸 관례다."
      ]
    },
    {
      "cell_type": "code",
      "metadata": {
        "id": "fxrocKgu-0aY",
        "colab_type": "code",
        "colab": {}
      },
      "source": [
        "from sklearn.model_selection import train_test_split\n",
        "X_train, X_test, y_train, y_test = train_test_split(\n",
        "    X, y, test_size=0.3, random_state = 1, stratify = y\n",
        ")"
      ],
      "execution_count": 0,
      "outputs": []
    },
    {
      "cell_type": "markdown",
      "metadata": {
        "id": "an5w8ZbNALL7",
        "colab_type": "text"
      },
      "source": [
        "30%는 테스트 데이터 (45개의 샘플)\n",
        "70%는 훈련 데이터 (105개의 샘플)\n",
        "\n",
        "train_test_split 함수가 분할하기 전 데이터 셋을 섞는다.\n",
        "그렇지 않으면 클래스 0과 클래스 1은 훈련 세트에 들어가고\n",
        "클래스 2는 테스트 세트에 들어간다.\n",
        "\n",
        "데이터 셋을 섞기 위해 사용되는 유사 난수 생성기에 random_state 매개변수로 고정된 랜덤 시드 (random_state=1)를 전달한다.\n",
        "\n",
        "stratify = y 를 통해 계층화(stratiftication) 기능을 사용한다. 훈련 세트와 테스트 세트의 클래스 레이블 비율을 동일하게 만든다는 의미다."
      ]
    },
    {
      "cell_type": "code",
      "metadata": {
        "id": "JsmG25VXAaO4",
        "colab_type": "code",
        "outputId": "10c5219b-b33d-4d7d-d144-16b127cb7c5d",
        "colab": {
          "base_uri": "https://localhost:8080/",
          "height": 70
        }
      },
      "source": [
        "print('y의 레이블 카운트:', np.bincount(y))\n",
        "print('y_train의 레이블 카운트:', np.bincount(y_train))\n",
        "print('y_test의 레이블 카운트:', np.bincount(y_test))\n",
        "# bincount 함수 : 배열에 있는 고유한 값의 등장 횟수를 나타냄. 계층화가 잘 되었는지 확인할 수 있다."
      ],
      "execution_count": 6,
      "outputs": [
        {
          "output_type": "stream",
          "text": [
            "y의 레이블 카운트: [50 50 50]\n",
            "y_train의 레이블 카운트: [35 35 35]\n",
            "y_test의 레이블 카운트: [15 15 15]\n"
          ],
          "name": "stdout"
        }
      ]
    },
    {
      "cell_type": "code",
      "metadata": {
        "id": "4VxYTkt6A0HY",
        "colab_type": "code",
        "colab": {}
      },
      "source": [
        "from sklearn.preprocessing import StandardScaler\n",
        "sc = StandardScaler()\n",
        "sc.fit(X_train) # fit 메서드는 훈련 세트의 각 특성 차원마다 샘플 평균과 표준편차를 계산한다.\n",
        "X_train_std = sc.transform(X_train) # transfomr 메서는 계산된 평균과 표준편차로 훈련 세트를 표준화한다.\n",
        "X_test_std = sc.transform(X_test) # 훈련 세트와 테스트 세트의 샘플이 서로 같은 비율로 이동되도록 동일한 평균과 표준편차로 표준화한다."
      ],
      "execution_count": 0,
      "outputs": []
    },
    {
      "cell_type": "code",
      "metadata": {
        "id": "1uURSqg9BrpN",
        "colab_type": "code",
        "outputId": "0389680e-8681-48de-d237-793484c80b3e",
        "colab": {
          "base_uri": "https://localhost:8080/",
          "height": 87
        }
      },
      "source": [
        "from sklearn.linear_model import Perceptron\n",
        "ppn = Perceptron(max_iter = 40, eta0 = 0.1, tol = 1e-3, random_state=1) # max_iter : 에포크 횟수, eta0 : 학습률\n",
        "ppn.fit(X_train_std, y_train)"
      ],
      "execution_count": 8,
      "outputs": [
        {
          "output_type": "execute_result",
          "data": {
            "text/plain": [
              "Perceptron(alpha=0.0001, class_weight=None, early_stopping=False, eta0=0.1,\n",
              "           fit_intercept=True, max_iter=40, n_iter_no_change=5, n_jobs=None,\n",
              "           penalty=None, random_state=1, shuffle=True, tol=0.001,\n",
              "           validation_fraction=0.1, verbose=0, warm_start=False)"
            ]
          },
          "metadata": {
            "tags": []
          },
          "execution_count": 8
        }
      ]
    },
    {
      "cell_type": "code",
      "metadata": {
        "id": "kdr-UP82CMbL",
        "colab_type": "code",
        "outputId": "a0d2d6a6-5ad0-41a6-9fe7-e0610ad6402e",
        "colab": {
          "base_uri": "https://localhost:8080/",
          "height": 34
        }
      },
      "source": [
        "y_pred = ppn.predict(X_test_std)\n",
        "print(f'잘못 분류된 샘플 개수 : {(y_test != y_pred).sum()}')"
      ],
      "execution_count": 9,
      "outputs": [
        {
          "output_type": "stream",
          "text": [
            "잘못 분류된 샘플 개수 : 1\n"
          ],
          "name": "stdout"
        }
      ]
    },
    {
      "cell_type": "markdown",
      "metadata": {
        "id": "ycq1Q8c3CkZA",
        "colab_type": "text"
      },
      "source": [
        "퍼셉트론 모델이 45개의 샘플에서 1개를 잘못 분류한다.\n",
        "\n",
        "테스트 세트에 대한 분류 오차는 (1/45) 이고, 정확도는 (1-오차) = 1-(1/45) 이다."
      ]
    },
    {
      "cell_type": "code",
      "metadata": {
        "id": "I3PQwIb7EKHN",
        "colab_type": "code",
        "outputId": "b3ebad18-a918-4609-8aef-ecc8e46bca6d",
        "colab": {
          "base_uri": "https://localhost:8080/",
          "height": 52
        }
      },
      "source": [
        "from sklearn.metrics import accuracy_score\n",
        "print(f'정확도 : {accuracy_score(y_test, y_pred)}')\n",
        "print(f'정확도 : {ppn.score(X_test_std, y_test)}') # 두 코드가 같은 의미이다."
      ],
      "execution_count": 10,
      "outputs": [
        {
          "output_type": "stream",
          "text": [
            "정확도 : 0.9777777777777777\n",
            "정확도 : 0.9777777777777777\n"
          ],
          "name": "stdout"
        }
      ]
    },
    {
      "cell_type": "code",
      "metadata": {
        "id": "I9uQbRPEEyTW",
        "colab_type": "code",
        "colab": {}
      },
      "source": [
        "from matplotlib.colors import ListedColormap\n",
        "import matplotlib.pyplot as plt"
      ],
      "execution_count": 0,
      "outputs": []
    },
    {
      "cell_type": "code",
      "metadata": {
        "id": "mijnDyHRE6Ox",
        "colab_type": "code",
        "colab": {}
      },
      "source": [
        "def plot_decision_regions(X, y, classifier, test_idx = None,\n",
        "                          resolution=0.02):\n",
        "  \n",
        "  # 마커와 컬러맵 설정\n",
        "  markers = ('s', 'x', 'o', '^', 'v')\n",
        "  colors = ('red', 'blue', 'lightgreen', 'gray', 'cyan')\n",
        "  cmap = ListedColormap(colors[:len(np.unique(y))])\n",
        "\n",
        "  # 결정 경계 그리기\n",
        "  x1_min, x1_max = X[:, 0].min() - 1, X[:, 0].max() + 1\n",
        "  x2_min, x2_max = X[:, 1].min() - 1, X[:, 1].max() + 1\n",
        "  xx1, xx2 = np.meshgrid(np.arange(x1_min, x1_max, resolution),\n",
        "                         np.arange(x2_min, x2_max, resolution))\n",
        "  Z = classifier.predict(np.array([xx1.ravel(), xx2.ravel()]).T) # ravel은 데이터를 1차원으로 변환시킨다.\n",
        "  Z = Z.reshape(xx1.shape) # 보통 이 책에서는ravel과 reshape를 같이 쓰는 듯\n",
        "  plt.contourf(xx1, xx2, Z, alpha=0.3, cmap=cmap)\n",
        "  plt.xlim(xx1.min(), xx1.max())\n",
        "  plt.ylim(xx2.min(), xx2.max())\n",
        "\n",
        "  for idx, cl in enumerate(np.unique(y)):\n",
        "    plt.scatter(x=X[y == cl, 0], y=X[y == cl, 1],\n",
        "                alpha=0.8, c=colors[idx],\n",
        "                marker = markers[idx], label=cl,\n",
        "                edgecolor = 'black')\n",
        "    \n",
        "    # 테스트 샘플을 부각하여 그린다.\n",
        "  if test_idx:\n",
        "    X_test, y_test = X[test_idx, :], y[test_idx]\n",
        "\n",
        "    plt.scatter(X_test[:, 0], X_test[:, 1],\n",
        "                  c='', edgecolor='black', alpha=1.0,\n",
        "                  linewidth=1, marker='o',\n",
        "                  s=100, label='test set')"
      ],
      "execution_count": 0,
      "outputs": []
    },
    {
      "cell_type": "code",
      "metadata": {
        "id": "wxNpqiFWHKit",
        "colab_type": "code",
        "outputId": "6fe39f9c-32de-4206-9286-71aaa5113837",
        "colab": {
          "base_uri": "https://localhost:8080/",
          "height": 334
        }
      },
      "source": [
        "X_combined_std = np.vstack((X_train_std, X_test_std))\n",
        "y_combined  = np.hstack((y_train, y_test))\n",
        "plot_decision_regions(X=X_combined_std,\n",
        "                      y=y_combined,\n",
        "                      classifier=ppn,\n",
        "                      test_idx=range(105, 150))\n",
        "plt.xlabel('petal length [standardized]')\n",
        "plt.ylabel('petal width [standardized]')\n",
        "plt.legend(loc='upper left')\n",
        "plt.tight_layout()\n",
        "plt.show()"
      ],
      "execution_count": 13,
      "outputs": [
        {
          "output_type": "stream",
          "text": [
            "/usr/local/lib/python3.6/dist-packages/ipykernel_launcher.py:33: MatplotlibDeprecationWarning: Using a string of single character colors as a color sequence is deprecated. Use an explicit list instead.\n"
          ],
          "name": "stderr"
        },
        {
          "output_type": "display_data",
          "data": {
            "image/png": "[encoded data removed]",
            "text/plain": [
              "<Figure size 432x288 with 1 Axes>"
            ]
          },
          "metadata": {
            "tags": [],
            "needs_background": "light"
          }
        }
      ]
    },
    {
      "cell_type": "markdown",
      "metadata": {
        "id": "vTOaQl4MMJTW",
        "colab_type": "text"
      },
      "source": [
        "## 3.3 로지스틱 회귀를 사용한 클래스 확률 모델링"
      ]
    },
    {
      "cell_type": "markdown",
      "metadata": {
        "id": "LwaKoz4MIPH7",
        "colab_type": "text"
      },
      "source": [
        "퍼셉트론 규칙의 단점 : 클래스가 선형적으로 구분되지 않을 때 수렴할 수 없다.\n",
        "\n",
        "로지스틱 회귀를 배워보자."
      ]
    },
    {
      "cell_type": "markdown",
      "metadata": {
        "id": "JcrrZTnoMLjP",
        "colab_type": "text"
      },
      "source": [
        "### 3.3.1 로지스틱 회귀의 이해와 조건부 확률"
      ]
    },
    {
      "cell_type": "code",
      "metadata": {
        "id": "8QaW7cs1IyHA",
        "colab_type": "code",
        "colab": {}
      },
      "source": [
        "import matplotlib.pyplot as plt\n",
        "import numpy as np"
      ],
      "execution_count": 0,
      "outputs": []
    },
    {
      "cell_type": "code",
      "metadata": {
        "id": "rJWo21SyI4X0",
        "colab_type": "code",
        "outputId": "886a0b72-2bd2-44cb-d0a3-c185b1453a09",
        "colab": {
          "base_uri": "https://localhost:8080/",
          "height": 297
        }
      },
      "source": [
        "def sigmoid(z):\n",
        "  return 1.0 / (1.0 + np.exp(-z))\n",
        "\n",
        "z = np.arange(-7, 7, 0.1)\n",
        "phi_z = sigmoid(z)\n",
        "plt.plot(z, phi_z)\n",
        "plt.axvline(0.0, color ='k')\n",
        "plt.ylim(-0.1, 1.1)\n",
        "plt.xlabel('z')\n",
        "plt.ylabel('$\\phi (z)$')\n",
        "plt.yticks([0.0, 0.5, 1.0]) # y축의 눈금과 격자선\n",
        "ax = plt.gca()\n",
        "ax.yaxis.grid(True)\n",
        "plt.tight_layout()\n",
        "plt.show()"
      ],
      "execution_count": 15,
      "outputs": [
        {
          "output_type": "display_data",
          "data": {
            "image/png": "[encoded data removed]",
            "text/plain": [
              "<Figure size 432x288 with 1 Axes>"
            ]
          },
          "metadata": {
            "tags": [],
            "needs_background": "light"
          }
        }
      ]
    },
    {
      "cell_type": "markdown",
      "metadata": {
        "id": "BiWHysIvJ8s8",
        "colab_type": "text"
      },
      "source": [
        "### 3.3.2 로지스틱 비용 함수의 가중치 학습"
      ]
    },
    {
      "cell_type": "markdown",
      "metadata": {
        "id": "j9e_5UFJLF2S",
        "colab_type": "text"
      },
      "source": [
        "가능도 함수 $L$을 최대화 해야한다.\n",
        "\n",
        "가능도 함수에 보통 로그를 적용하는 데 그 이유는 다음과 같다.\n",
        "\n",
        "1. 로그 함수를 적용하면 가능도가 매우 작을 때 일어나는 수치상의 언더플로(underflow)를 미연에 방지한다.\n",
        "\n",
        "2. 계수의 곱을 계수의 합으로 바꾼다. 이러면 미분이 쉬워진다."
      ]
    },
    {
      "cell_type": "code",
      "metadata": {
        "id": "hoTIYWglI4VK",
        "colab_type": "code",
        "colab": {}
      },
      "source": [
        "def cost_1(z):\n",
        "  return -np.log(sigmoid(z))\n",
        "\n",
        "def cost_0(z):\n",
        "  return -np.log(1-sigmoid(z))"
      ],
      "execution_count": 0,
      "outputs": []
    },
    {
      "cell_type": "code",
      "metadata": {
        "id": "qGNMi0OZLw74",
        "colab_type": "code",
        "outputId": "5dbe9912-55ea-43db-e17e-942225fda39f",
        "colab": {
          "base_uri": "https://localhost:8080/",
          "height": 297
        }
      },
      "source": [
        "z = np.arange(-10, 10, 0.1)\n",
        "phi_z = sigmoid(z) # -10에서 10 까지 범우의 값을 시그모이드 함수에 넣는다.\n",
        "\n",
        "c1 = [cost_1(x) for x in z]\n",
        "plt.plot(phi_z, c1, label='J(w) if y=1')\n",
        "\n",
        "c0 = [cost_0(x) for x in z]\n",
        "plt.plot(phi_z, c0, linestyle='--', label='J(w) if y=0')\n",
        "\n",
        "\n",
        "plt.xlim([0,1]) # 0에서 1까지 범위의 시그모이드 활성화 값\n",
        "plt.ylim(0.0, 5.1) # 시그모이드 활성화 값에 해당하는 로지스틱 비용\n",
        "plt.xlabel('$\\phi$(z)')\n",
        "plt.ylabel('J(w)')\n",
        "plt.legend(loc='best')\n",
        "plt.tight_layout()\n",
        "plt.show()"
      ],
      "execution_count": 17,
      "outputs": [
        {
          "output_type": "display_data",
          "data": {
            "image/png": "[encoded data removed]",
            "text/plain": [
              "<Figure size 432x288 with 1 Axes>"
            ]
          },
          "metadata": {
            "tags": [],
            "needs_background": "light"
          }
        }
      ]
    },
    {
      "cell_type": "markdown",
      "metadata": {
        "id": "hBxKyEJZNT5U",
        "colab_type": "text"
      },
      "source": [
        "### 3.3.3 아달린 구현을 로지스틱 회귀 알고리즘으로 변경"
      ]
    },
    {
      "cell_type": "code",
      "metadata": {
        "id": "iwVy2gNiOYEb",
        "colab_type": "code",
        "colab": {}
      },
      "source": [
        "class LogisticRegressionGD(object):\n",
        "  \"\"\"경사 하강법을 사용한 로지스틱 회귀 분류기\n",
        "\n",
        "  매개변수\n",
        "  ----------\n",
        "  eta : float\n",
        "    학습률 (0과 1 사이)\n",
        "  n_iter : int\n",
        "    훈련 데이터셋 반복 횟수\n",
        "  random_state : int\n",
        "    가중치 무작위 초기화를 위한 난수 생성기 시드\n",
        "\n",
        "  속성\n",
        "  ----------\n",
        "  w_ : 1d-array\n",
        "    학습된 가중치\n",
        "  cost_ : list\n",
        "    에포크마다 누적된 로지스틱 비용 함수 값\n",
        "\n",
        "  \"\"\"\n",
        "  def __init__(self, eta=0.05, n_iter=100, random_state=1):\n",
        "    self.eta = eta\n",
        "    self.n_iter = n_iter\n",
        "    self.random_state = random_state\n",
        "\n",
        "  def fit(self, X, y):\n",
        "    \"\"\"훈련 데이터 학습\n",
        "\n",
        "    매개변수\n",
        "    ----------\n",
        "    X : {array-like}, shape = [n_samples, n_features]\n",
        "      n_samples개의 샘플과 n_features개의 특성으로 이루어진 훈련 데이터\n",
        "    y : array-like, shape = [n_samples]\n",
        "      타깃 값\n",
        "      \n",
        "    반환값\n",
        "    ----------\n",
        "    self : object\n",
        "\n",
        "    \"\"\"\n",
        "    rgen = np.random.RandomState(self.random_state)\n",
        "    self.w_ = rgen.normal(loc=0.0 ,scale=0.01,\n",
        "                          size=1 + X.shape[1]) # 가장 처음 가중치를 랜덤으로 잡는다.\n",
        "    self.cost_ = []\n",
        "\n",
        "    for i in range(self.n_iter):\n",
        "      net_input = self.net_input(X)\n",
        "      output = self.activation(net_input)\n",
        "      errors = (y - output)\n",
        "      self.w_[1:] += self.eta * X.T.dot(errors) # 가중치 1에서 m까지\n",
        "      self.w_[0] += self.eta * errors.sum() # 절편\n",
        "\n",
        "      # 아달린에서는 cost = (errors**2).sum() / 2.0 : 오차 제곱합 이지만, 대신 로지스틱 비용을 계산한다.\n",
        "      cost = (-y.dot(np.log(output)) -\n",
        "              ((1 - y).dot(np.log(1 - output))))\n",
        "      self.cost_.append(cost)\n",
        "    return self\n",
        "\n",
        "  def net_input(self, X):\n",
        "    \"\"\"최종 입력 계산\"\"\"\n",
        "    return np.dot(X, self.w_[1:]) + self.w_[0]\n",
        "\n",
        "  def activation(self, z):\n",
        "    \"\"\"로지스틱 시그모이드 활성화 계산\"\"\"\n",
        "    return 1.0 / (1.0 + np.exp(-np.clip(z, -250, 250)))\n",
        "  \n",
        "  def predict(self, X):\n",
        "    \"\"\"단위 계단 함수를 사용하여 클래스 레이블을 반환합니다\"\"\"\n",
        "    return np.where(self.net_input(X) >= 0.0, 1, 0)\n",
        "    # return np.where(self.activation(self.net_input(X)) >= 0.5, 1, 0) 와 동일한 코드"
      ],
      "execution_count": 0,
      "outputs": []
    },
    {
      "cell_type": "markdown",
      "metadata": {
        "id": "l4K4vwPZP63Y",
        "colab_type": "text"
      },
      "source": [
        "로지스틱 모델은 이준 분류 문제에만 적용할 수 있다.\n",
        "\n",
        "Iris-setosa와 Iris-versicolor로 작동하는지 확인하자."
      ]
    },
    {
      "cell_type": "code",
      "metadata": {
        "id": "i83th1uVQFhT",
        "colab_type": "code",
        "colab": {}
      },
      "source": [
        "X_train_01_subset = X_train[(y_train == 0) | (y_train == 1)]\n",
        "y_train_01_subset = y_train[(y_train == 0) | (y_train == 1)]\n",
        "lrgd = LogisticRegressionGD(eta=0.05,\n",
        "                            n_iter=1000,\n",
        "                            random_state=1)"
      ],
      "execution_count": 0,
      "outputs": []
    },
    {
      "cell_type": "code",
      "metadata": {
        "id": "bI_AvZW9SxXZ",
        "colab_type": "code",
        "outputId": "bf8f00a8-9ce7-413e-f7aa-84f43677c062",
        "colab": {
          "base_uri": "https://localhost:8080/",
          "height": 34
        }
      },
      "source": [
        "lrgd.fit(X_train_01_subset, y_train_01_subset)"
      ],
      "execution_count": 20,
      "outputs": [
        {
          "output_type": "execute_result",
          "data": {
            "text/plain": [
              "<__main__.LogisticRegressionGD at 0x7eff46968198>"
            ]
          },
          "metadata": {
            "tags": []
          },
          "execution_count": 20
        }
      ]
    },
    {
      "cell_type": "code",
      "metadata": {
        "id": "WTKAeZ_jUuw-",
        "colab_type": "code",
        "outputId": "2fae3088-0220-4e1d-ee74-44b4b9e8ff2a",
        "colab": {
          "base_uri": "https://localhost:8080/",
          "height": 297
        }
      },
      "source": [
        "plot_decision_regions(X=X_train_01_subset,\n",
        "                      y=y_train_01_subset,\n",
        "                      classifier=lrgd)\n",
        "plt.xlabel('petal length [standardized]')\n",
        "plt.ylabel('petal width [standardized]')\n",
        "plt.legend(loc ='upper left')\n",
        "plt.tight_layout()\n",
        "plt.show()"
      ],
      "execution_count": 21,
      "outputs": [
        {
          "output_type": "display_data",
          "data": {
            "image/png": "[encoded data removed]",
            "text/plain": [
              "<Figure size 432x288 with 1 Axes>"
            ]
          },
          "metadata": {
            "tags": [],
            "needs_background": "light"
          }
        }
      ]
    },
    {
      "cell_type": "markdown",
      "metadata": {
        "id": "oBZsR1vnMOd2",
        "colab_type": "text"
      },
      "source": [
        "### 3.3.4 사이킷런을 사용하여 로지스틱 회귀 모델 훈련"
      ]
    },
    {
      "cell_type": "code",
      "metadata": {
        "id": "sxx3zjIZjfcb",
        "colab_type": "code",
        "colab": {}
      },
      "source": [
        "from sklearn.linear_model import LogisticRegression\n",
        "lr = LogisticRegression(solver='liblinear', multi_class='auto',\n",
        "                        C=100.0, random_state=1) # C는 과대적합과 규제 개념을 소개하면서 설명하겠다."
      ],
      "execution_count": 0,
      "outputs": []
    },
    {
      "cell_type": "code",
      "metadata": {
        "id": "qyfXbqyNV_PJ",
        "colab_type": "code",
        "outputId": "24d4f356-421a-4204-bdc0-5ac47797206a",
        "colab": {
          "base_uri": "https://localhost:8080/",
          "height": 105
        }
      },
      "source": [
        "lr.fit(X_train_std, y_train)"
      ],
      "execution_count": 23,
      "outputs": [
        {
          "output_type": "execute_result",
          "data": {
            "text/plain": [
              "LogisticRegression(C=100.0, class_weight=None, dual=False, fit_intercept=True,\n",
              "                   intercept_scaling=1, l1_ratio=None, max_iter=100,\n",
              "                   multi_class='auto', n_jobs=None, penalty='l2',\n",
              "                   random_state=1, solver='liblinear', tol=0.0001, verbose=0,\n",
              "                   warm_start=False)"
            ]
          },
          "metadata": {
            "tags": []
          },
          "execution_count": 23
        }
      ]
    },
    {
      "cell_type": "code",
      "metadata": {
        "id": "tnSg-BM0WOFU",
        "colab_type": "code",
        "outputId": "d507b438-7269-44c1-de62-5c6eea6d4704",
        "colab": {
          "base_uri": "https://localhost:8080/",
          "height": 334
        }
      },
      "source": [
        "plot_decision_regions(X_combined_std,\n",
        "                      y_combined,\n",
        "                      classifier=lr,\n",
        "                      test_idx = range(105, 150))\n",
        "plt.xlabel('petal length [standardized]')\n",
        "plt.ylabel('petal width [standardized]')\n",
        "plt.legend(loc ='upper left')\n",
        "plt.tight_layout()\n",
        "plt.show()"
      ],
      "execution_count": 24,
      "outputs": [
        {
          "output_type": "stream",
          "text": [
            "/usr/local/lib/python3.6/dist-packages/ipykernel_launcher.py:33: MatplotlibDeprecationWarning: Using a string of single character colors as a color sequence is deprecated. Use an explicit list instead.\n"
          ],
          "name": "stderr"
        },
        {
          "output_type": "display_data",
          "data": {
            "image/png": "[encoded data removed]",
            "text/plain": [
              "<Figure size 432x288 with 1 Axes>"
            ]
          },
          "metadata": {
            "tags": [],
            "needs_background": "light"
          }
        }
      ]
    },
    {
      "cell_type": "code",
      "metadata": {
        "id": "oXAlqhQFW6xx",
        "colab_type": "code",
        "outputId": "159e60de-5b37-4f2a-e5eb-067e5ae549ba",
        "colab": {
          "base_uri": "https://localhost:8080/",
          "height": 70
        }
      },
      "source": [
        "lr.predict_proba(X_test_std[:3, :])"
      ],
      "execution_count": 25,
      "outputs": [
        {
          "output_type": "execute_result",
          "data": {
            "text/plain": [
              "array([[3.17983737e-08, 1.44886616e-01, 8.55113353e-01],\n",
              "       [8.33962295e-01, 1.66037705e-01, 4.55557009e-12],\n",
              "       [8.48762934e-01, 1.51237066e-01, 4.63166788e-13]])"
            ]
          },
          "metadata": {
            "tags": []
          },
          "execution_count": 25
        }
      ]
    },
    {
      "cell_type": "markdown",
      "metadata": {
        "id": "C4ccYy5PXSkG",
        "colab_type": "text"
      },
      "source": [
        "첫 번째 행은 첫 번째 꽃의 클래스 소속 확률\n",
        "\n",
        "두 번째 행은 두 번째 꽃의 클래스 소속 확률\n",
        "\n",
        "당연하지만 열을 모두 더하면 (행의 원소를 더하면) 1이 된다."
      ]
    },
    {
      "cell_type": "code",
      "metadata": {
        "id": "vaYu2KSaXeW1",
        "colab_type": "code",
        "outputId": "757d9388-7232-40ab-f604-2eac75bde6c8",
        "colab": {
          "base_uri": "https://localhost:8080/",
          "height": 34
        }
      },
      "source": [
        "lr.predict_proba(X_test_std[:3, :]).sum(axis=1)"
      ],
      "execution_count": 26,
      "outputs": [
        {
          "output_type": "execute_result",
          "data": {
            "text/plain": [
              "array([1., 1., 1.])"
            ]
          },
          "metadata": {
            "tags": []
          },
          "execution_count": 26
        }
      ]
    },
    {
      "cell_type": "markdown",
      "metadata": {
        "id": "9L-OIyeZXyjv",
        "colab_type": "text"
      },
      "source": [
        "첫 번째 행에서 가장 큰 값은 대략 0.85이다.\n",
        "\n",
        "그 의미는 첫 번째 샘플이 클래스 3에 속할 확률이 85%라는 것이다.\n",
        "\n",
        "행에서 가장 큰 값의 열이 예측 클래스 레이블이 된다. 코드로 보면 아래와 같다."
      ]
    },
    {
      "cell_type": "code",
      "metadata": {
        "id": "wwnT-ZVKYYx2",
        "colab_type": "code",
        "outputId": "91dd42cd-80b6-4c22-b0dd-8f2a12e0b8aa",
        "colab": {
          "base_uri": "https://localhost:8080/",
          "height": 34
        }
      },
      "source": [
        "lr.predict_proba(X_test_std[:3, :]).argmax(axis=1)"
      ],
      "execution_count": 27,
      "outputs": [
        {
          "output_type": "execute_result",
          "data": {
            "text/plain": [
              "array([2, 0, 0])"
            ]
          },
          "metadata": {
            "tags": []
          },
          "execution_count": 27
        }
      ]
    },
    {
      "cell_type": "code",
      "metadata": {
        "id": "NjF1KRYnYgqc",
        "colab_type": "code",
        "outputId": "5a5b90c0-6058-46f5-b781-ec4e015f90ba",
        "colab": {
          "base_uri": "https://localhost:8080/",
          "height": 34
        }
      },
      "source": [
        "# 위 코드는 조건부 확률로부터 얻은 클래스 레이블로 수동적인 방법이다. 이 코드는 predict 메서드를 호출하여 빠르게 확인할 수 있다.\n",
        "lr.predict(X_test_std[:3, :])"
      ],
      "execution_count": 28,
      "outputs": [
        {
          "output_type": "execute_result",
          "data": {
            "text/plain": [
              "array([2, 0, 0])"
            ]
          },
          "metadata": {
            "tags": []
          },
          "execution_count": 28
        }
      ]
    },
    {
      "cell_type": "code",
      "metadata": {
        "id": "c6aGe-JxZCEF",
        "colab_type": "code",
        "outputId": "a86ec02e-8230-4ed6-ac47-ace66141ae76",
        "colab": {
          "base_uri": "https://localhost:8080/",
          "height": 34
        }
      },
      "source": [
        "# 사이킷런은 입력 데이터로 2차원 배열을 기대한다. 주의하자.\n",
        "lr.predict(X_test_std[0,:].reshape(1,-1))"
      ],
      "execution_count": 29,
      "outputs": [
        {
          "output_type": "execute_result",
          "data": {
            "text/plain": [
              "array([2])"
            ]
          },
          "metadata": {
            "tags": []
          },
          "execution_count": 29
        }
      ]
    },
    {
      "cell_type": "code",
      "metadata": {
        "id": "piS_FmYtZvJ0",
        "colab_type": "code",
        "outputId": "202747d4-8f2b-441d-9bfd-438ab8d3e212",
        "colab": {
          "base_uri": "https://localhost:8080/",
          "height": 34
        }
      },
      "source": [
        "X_test_std[0,:].reshape(1,-1) # 2차원 배열이다."
      ],
      "execution_count": 30,
      "outputs": [
        {
          "output_type": "execute_result",
          "data": {
            "text/plain": [
              "array([[0.89820289, 1.44587881]])"
            ]
          },
          "metadata": {
            "tags": []
          },
          "execution_count": 30
        }
      ]
    },
    {
      "cell_type": "code",
      "metadata": {
        "id": "aoB6S5KxZxP0",
        "colab_type": "code",
        "outputId": "2504721e-0c54-48f0-b10f-ddd5f92c33c5",
        "colab": {
          "base_uri": "https://localhost:8080/",
          "height": 34
        }
      },
      "source": [
        "X_test_std[0,:] # 1차원 배열이다."
      ],
      "execution_count": 31,
      "outputs": [
        {
          "output_type": "execute_result",
          "data": {
            "text/plain": [
              "array([0.89820289, 1.44587881])"
            ]
          },
          "metadata": {
            "tags": []
          },
          "execution_count": 31
        }
      ]
    },
    {
      "cell_type": "code",
      "metadata": {
        "id": "7Q_vTrtDZeCt",
        "colab_type": "code",
        "outputId": "1ab2604b-0677-4d1d-cb03-9a448fece6dc",
        "colab": {
          "base_uri": "https://localhost:8080/",
          "height": 371
        }
      },
      "source": [
        "lr.predict(X_test_std[0,:]) # 2차원 배열이 아닐 때 ValueError가 난다."
      ],
      "execution_count": 32,
      "outputs": [
        {
          "output_type": "error",
          "ename": "ValueError",
          "evalue": "ignored",
          "traceback": [
            "\u001b[0;31m---------------------------------------------------------------------------\u001b[0m",
            "\u001b[0;31mValueError\u001b[0m                                Traceback (most recent call last)",
            "\u001b[0;32m<ipython-input-32-b0d46d8ca77a>\u001b[0m in \u001b[0;36m<module>\u001b[0;34m()\u001b[0m\n\u001b[0;32m----> 1\u001b[0;31m \u001b[0mlr\u001b[0m\u001b[0;34m.\u001b[0m\u001b[0mpredict\u001b[0m\u001b[0;34m(\u001b[0m\u001b[0mX_test_std\u001b[0m\u001b[0;34m[\u001b[0m\u001b[0;36m0\u001b[0m\u001b[0;34m,\u001b[0m\u001b[0;34m:\u001b[0m\u001b[0;34m]\u001b[0m\u001b[0;34m)\u001b[0m \u001b[0;31m# 2차원 배열이 아닐 때 ValueError가 난다.\u001b[0m\u001b[0;34m\u001b[0m\u001b[0;34m\u001b[0m\u001b[0m\n\u001b[0m",
            "\u001b[0;32m/usr/local/lib/python3.6/dist-packages/sklearn/linear_model/_base.py\u001b[0m in \u001b[0;36mpredict\u001b[0;34m(self, X)\u001b[0m\n\u001b[1;32m    291\u001b[0m             \u001b[0mPredicted\u001b[0m \u001b[0;32mclass\u001b[0m \u001b[0mlabel\u001b[0m \u001b[0mper\u001b[0m \u001b[0msample\u001b[0m\u001b[0;34m.\u001b[0m\u001b[0;34m\u001b[0m\u001b[0;34m\u001b[0m\u001b[0m\n\u001b[1;32m    292\u001b[0m         \"\"\"\n\u001b[0;32m--> 293\u001b[0;31m         \u001b[0mscores\u001b[0m \u001b[0;34m=\u001b[0m \u001b[0mself\u001b[0m\u001b[0;34m.\u001b[0m\u001b[0mdecision_function\u001b[0m\u001b[0;34m(\u001b[0m\u001b[0mX\u001b[0m\u001b[0;34m)\u001b[0m\u001b[0;34m\u001b[0m\u001b[0;34m\u001b[0m\u001b[0m\n\u001b[0m\u001b[1;32m    294\u001b[0m         \u001b[0;32mif\u001b[0m \u001b[0mlen\u001b[0m\u001b[0;34m(\u001b[0m\u001b[0mscores\u001b[0m\u001b[0;34m.\u001b[0m\u001b[0mshape\u001b[0m\u001b[0;34m)\u001b[0m \u001b[0;34m==\u001b[0m \u001b[0;36m1\u001b[0m\u001b[0;34m:\u001b[0m\u001b[0;34m\u001b[0m\u001b[0;34m\u001b[0m\u001b[0m\n\u001b[1;32m    295\u001b[0m             \u001b[0mindices\u001b[0m \u001b[0;34m=\u001b[0m \u001b[0;34m(\u001b[0m\u001b[0mscores\u001b[0m \u001b[0;34m>\u001b[0m \u001b[0;36m0\u001b[0m\u001b[0;34m)\u001b[0m\u001b[0;34m.\u001b[0m\u001b[0mastype\u001b[0m\u001b[0;34m(\u001b[0m\u001b[0mnp\u001b[0m\u001b[0;34m.\u001b[0m\u001b[0mint\u001b[0m\u001b[0;34m)\u001b[0m\u001b[0;34m\u001b[0m\u001b[0;34m\u001b[0m\u001b[0m\n",
            "\u001b[0;32m/usr/local/lib/python3.6/dist-packages/sklearn/linear_model/_base.py\u001b[0m in \u001b[0;36mdecision_function\u001b[0;34m(self, X)\u001b[0m\n\u001b[1;32m    266\u001b[0m         \u001b[0mcheck_is_fitted\u001b[0m\u001b[0;34m(\u001b[0m\u001b[0mself\u001b[0m\u001b[0;34m)\u001b[0m\u001b[0;34m\u001b[0m\u001b[0;34m\u001b[0m\u001b[0m\n\u001b[1;32m    267\u001b[0m \u001b[0;34m\u001b[0m\u001b[0m\n\u001b[0;32m--> 268\u001b[0;31m         \u001b[0mX\u001b[0m \u001b[0;34m=\u001b[0m \u001b[0mcheck_array\u001b[0m\u001b[0;34m(\u001b[0m\u001b[0mX\u001b[0m\u001b[0;34m,\u001b[0m \u001b[0maccept_sparse\u001b[0m\u001b[0;34m=\u001b[0m\u001b[0;34m'csr'\u001b[0m\u001b[0;34m)\u001b[0m\u001b[0;34m\u001b[0m\u001b[0;34m\u001b[0m\u001b[0m\n\u001b[0m\u001b[1;32m    269\u001b[0m \u001b[0;34m\u001b[0m\u001b[0m\n\u001b[1;32m    270\u001b[0m         \u001b[0mn_features\u001b[0m \u001b[0;34m=\u001b[0m \u001b[0mself\u001b[0m\u001b[0;34m.\u001b[0m\u001b[0mcoef_\u001b[0m\u001b[0;34m.\u001b[0m\u001b[0mshape\u001b[0m\u001b[0;34m[\u001b[0m\u001b[0;36m1\u001b[0m\u001b[0;34m]\u001b[0m\u001b[0;34m\u001b[0m\u001b[0;34m\u001b[0m\u001b[0m\n",
            "\u001b[0;32m/usr/local/lib/python3.6/dist-packages/sklearn/utils/validation.py\u001b[0m in \u001b[0;36mcheck_array\u001b[0;34m(array, accept_sparse, accept_large_sparse, dtype, order, copy, force_all_finite, ensure_2d, allow_nd, ensure_min_samples, ensure_min_features, warn_on_dtype, estimator)\u001b[0m\n\u001b[1;32m    554\u001b[0m                     \u001b[0;34m\"Reshape your data either using array.reshape(-1, 1) if \"\u001b[0m\u001b[0;34m\u001b[0m\u001b[0;34m\u001b[0m\u001b[0m\n\u001b[1;32m    555\u001b[0m                     \u001b[0;34m\"your data has a single feature or array.reshape(1, -1) \"\u001b[0m\u001b[0;34m\u001b[0m\u001b[0;34m\u001b[0m\u001b[0m\n\u001b[0;32m--> 556\u001b[0;31m                     \"if it contains a single sample.\".format(array))\n\u001b[0m\u001b[1;32m    557\u001b[0m \u001b[0;34m\u001b[0m\u001b[0m\n\u001b[1;32m    558\u001b[0m         \u001b[0;31m# in the future np.flexible dtypes will be handled like object dtypes\u001b[0m\u001b[0;34m\u001b[0m\u001b[0;34m\u001b[0m\u001b[0;34m\u001b[0m\u001b[0m\n",
            "\u001b[0;31mValueError\u001b[0m: Expected 2D array, got 1D array instead:\narray=[0.89820289 1.44587881].\nReshape your data either using array.reshape(-1, 1) if your data has a single feature or array.reshape(1, -1) if it contains a single sample."
          ]
        }
      ]
    },
    {
      "cell_type": "markdown",
      "metadata": {
        "id": "TIYdfUEotLIJ",
        "colab_type": "text"
      },
      "source": [
        "### 3.3.5 규제를 사용하여 과대적합 피하기"
      ]
    },
    {
      "cell_type": "markdown",
      "metadata": {
        "id": "ME3Pwe1ba8rd",
        "colab_type": "text"
      },
      "source": [
        "과대적합(overfitting) : 훈련 데이터로는 잘 동작하지만, 테스트 데이터로는 못 맞추는 현상\n",
        "\n",
        "과대적합을 모델의 분산이 크다고 말하기도 한다.\n",
        "\n",
        "과소적합(underfitting) : 훈련 데이터도 잘 못 맞춰서, 데스트 데이터를 못 맞춘다.\n",
        "\n",
        "과소적합을 모델의 편향이 크다고 말하기도 한다.\n",
        "\n",
        "overfitting 과 underfitting의 공통점 : 둘 다 테스트 데이터 못 맞춘다.\n",
        "\n",
        "+ 분산은 모델을 여러 번 훈련했을 때 특정 샘플에 대한 예측의 일관성(또는 변동성)을 측정한다.\n",
        "\n",
        "예를 들어 훈련 데이터셋의 일부분을 사용하여 여러 번 훈련하는 경우다.\n",
        "\n",
        "모델이 훈련 데이터의 무작위성에 민감하다고 할 수 있다. (= 훈련 데이터가 바뀔 때마다 모델의 예측이 바뀐다.)\n",
        "\n",
        "+ 편향은 다른 훈련 데이터셋에서 여러 번 훈련했을 때 예측이 정확한 값에서 얼마나 벗어났는지 측정한다.\n",
        "\n",
        "편향은 무작위성이 아니라 구조적인 에러를 나타낸다. (= 그냥 못 맞춘거다.)\n",
        "\n",
        "좋은 편향-분산 트레이드오프를 찾는 한 가지 방법은 규제를 사용하여 모델의 복잡도를 조정하는 것이다.\n",
        "\n",
        "+ 규제(regularization)는 공선성(collinearity)(특성 간의 높은 상관관계)를 다루거나 데이터에서 잡음을 제거하여 과대적합을 방지할 수 있는 방법이다.\n",
        "\n",
        "가장 널리 사용하는 규제 형태는 L2 규제이다. (L2 축소, 가중치 감쇠라고 부르기도 한다.)\n",
        "\n",
        "규제가 잘 동작하려면 모든 특성이 비슷한 스케일을 가져야 한다. 표준화가 중요한 이유중 한 가지이다."
      ]
    },
    {
      "cell_type": "code",
      "metadata": {
        "id": "tyDXbuUJuu5V",
        "colab_type": "code",
        "outputId": "43011952-b601-4e7f-a29e-6d2b726aa400",
        "colab": {
          "base_uri": "https://localhost:8080/",
          "height": 283
        }
      },
      "source": [
        "weights, params = [], []\n",
        "for c in np.arange(-5, 5):\n",
        "  lr = LogisticRegression(solver='liblinear', multi_class='auto', C=10.**c,\n",
        "                          random_state=1)\n",
        "  lr.fit(X_train_std, y_train)\n",
        "  weights.append(lr.coef_[1])\n",
        "  params.append(10.**c)\n",
        "\n",
        "weights = np.array(weights)\n",
        "plt.plot(params, weights[:, 0],\n",
        "         label='petal length')\n",
        "plt.plot(params, weights[:, 1], linestyle='--',\n",
        "         label='petal width')\n",
        "plt.xlabel('C')\n",
        "plt.ylabel('weight coefficient')\n",
        "plt.legend(loc='upper left')\n",
        "plt.xscale('log')\n",
        "plt.show()"
      ],
      "execution_count": 33,
      "outputs": [
        {
          "output_type": "display_data",
          "data": {
            "image/png": "[encoded data removed]",
            "text/plain": [
              "<Figure size 432x288 with 1 Axes>"
            ]
          },
          "metadata": {
            "tags": [],
            "needs_background": "light"
          }
        }
      ]
    },
    {
      "cell_type": "markdown",
      "metadata": {
        "id": "vPSZSgNheLlO",
        "colab_type": "text"
      },
      "source": [
        "c의 값이 -5, -4, -3, -2, -1,  0,  1,  2,  3,  4 까지 바뀌면서 열 개의 로지스틱 회귀 모델을 훈련한다.\n",
        "\n",
        "결과 그래프는 매개변수 C가 감소하면 가중치 절댓값이 줄어드는 것을 볼 수 있다. 즉 규제 강도가 증가한다."
      ]
    },
    {
      "cell_type": "markdown",
      "metadata": {
        "id": "AlTWIZVztcj4",
        "colab_type": "text"
      },
      "source": [
        "##3.4 서포트 벡터 머신을 사용한 최대 마진 분류"
      ]
    },
    {
      "cell_type": "markdown",
      "metadata": {
        "id": "KU23vfLne9Ef",
        "colab_type": "text"
      },
      "source": [
        "퍼셉트론 알고리즘은 분류 오차를 최소화하는 것이 목표다.\n",
        "\n",
        "서포트 벡터 머신 (Support Vector Machine, SVM)은 마진을 최대화 하는 것이다.\n",
        "\n",
        "마진이란 클래스를 구분하는 초평면(결정 경계)과 이 초평면에 가장 가까운 훈련 샘플 사이의 거리로 정의한다.\n",
        "\n",
        "또, 이런 샘플을 서포트 벡터(Support Vector)라고 한다."
      ]
    },
    {
      "cell_type": "markdown",
      "metadata": {
        "id": "OZgsCZnQflOo",
        "colab_type": "text"
      },
      "source": [
        "###3.4.1 최대 마진"
      ]
    },
    {
      "cell_type": "markdown",
      "metadata": {
        "id": "MH5q6EoBMXcC",
        "colab_type": "text"
      },
      "source": [
        "큰 마진의 결정 경계를 원하는 이유는 일반화 오차가 낮아지는 경향이 있기 때문이다.\n",
        "\n",
        "작은 마진의 모델은 과대적합되기 쉽다."
      ]
    },
    {
      "cell_type": "markdown",
      "metadata": {
        "id": "_fOJEbvoMz_E",
        "colab_type": "text"
      },
      "source": [
        "###3.4.2 슬랙 변수를 사용하여 비선형 분류 문제 다루기"
      ]
    },
    {
      "cell_type": "code",
      "metadata": {
        "id": "te-h_F-ZwU0k",
        "colab_type": "code",
        "colab": {}
      },
      "source": [
        "from sklearn.svm import SVC\n",
        "svm = SVC(kernel='linear', C=1.0, random_state=1)"
      ],
      "execution_count": 0,
      "outputs": []
    },
    {
      "cell_type": "code",
      "metadata": {
        "id": "G6SBpNH7syaM",
        "colab_type": "code",
        "outputId": "c297a206-2216-4a71-98b3-65eaf2ac84fd",
        "colab": {
          "base_uri": "https://localhost:8080/",
          "height": 87
        }
      },
      "source": [
        "svm.fit(X_train_std, y_train)"
      ],
      "execution_count": 36,
      "outputs": [
        {
          "output_type": "execute_result",
          "data": {
            "text/plain": [
              "SVC(C=1.0, break_ties=False, cache_size=200, class_weight=None, coef0=0.0,\n",
              "    decision_function_shape='ovr', degree=3, gamma='scale', kernel='linear',\n",
              "    max_iter=-1, probability=False, random_state=1, shrinking=True, tol=0.001,\n",
              "    verbose=False)"
            ]
          },
          "metadata": {
            "tags": []
          },
          "execution_count": 36
        }
      ]
    },
    {
      "cell_type": "code",
      "metadata": {
        "id": "p-5wXpPgs0vQ",
        "colab_type": "code",
        "outputId": "63d74e64-0684-4260-ea02-095bc0a0679a",
        "colab": {
          "base_uri": "https://localhost:8080/",
          "height": 334
        }
      },
      "source": [
        "plot_decision_regions(X_combined_std,\n",
        "y_combined,\n",
        "classifier=svm,\n",
        "test_idx=range(105, 150))\n",
        "plt.xlabel('petal length [standardized]')\n",
        "plt.ylabel('petal width [standardized]')\n",
        "plt.legend(loc='upper left')\n",
        "plt.tight_layout()\n",
        "plt.show()"
      ],
      "execution_count": 37,
      "outputs": [
        {
          "output_type": "stream",
          "text": [
            "/usr/local/lib/python3.6/dist-packages/ipykernel_launcher.py:33: MatplotlibDeprecationWarning: Using a string of single character colors as a color sequence is deprecated. Use an explicit list instead.\n"
          ],
          "name": "stderr"
        },
        {
          "output_type": "display_data",
          "data": {
            "image/png": "[encoded data removed]",
            "text/plain": [
              "<Figure size 432x288 with 1 Axes>"
            ]
          },
          "metadata": {
            "tags": [],
            "needs_background": "light"
          }
        }
      ]
    },
    {
      "cell_type": "markdown",
      "metadata": {
        "id": "R6hoIWZzOEeh",
        "colab_type": "text"
      },
      "source": [
        "선형 로지스틱 회귀와 선형 SVM은 비슷한 결과를 만든다.\n",
        "\n",
        "로지스틱 회귀는 훈련 데이터의 조건부 가능도를 최대화하기 때문에 SVM보다 이상치에 민감하다.\n",
        "\n",
        "SVM은 결정 경계에 가장 가까운 포인트(서포트 벡터)에 대부분 관심을 둔다.\n",
        "\n",
        "로지스틱 회귀는 모델이 간단하고 구현하기 쉬운 장점이 있다.\n",
        "\n",
        "로지스틱 회귀 모델은 업데이트가 용이하므로 스트리밍 데이터를 다룰 때 적합하다."
      ]
    },
    {
      "cell_type": "markdown",
      "metadata": {
        "id": "zecc73DCwDgt",
        "colab_type": "text"
      },
      "source": [
        "### 3.4.3 사이킷런의 다른 구현"
      ]
    },
    {
      "cell_type": "code",
      "metadata": {
        "id": "4WsmEX7cte4X",
        "colab_type": "code",
        "colab": {}
      },
      "source": [
        "from sklearn.linear_model import SGDClassifier\n",
        "ppn = SGDClassifier(loss='perceptron')\n",
        "lr = SGDClassifier(loss='log')\n",
        "svm = SGDClassifier(loss='hinge')"
      ],
      "execution_count": 0,
      "outputs": []
    },
    {
      "cell_type": "markdown",
      "metadata": {
        "id": "Z7JKxmJ_PNXQ",
        "colab_type": "text"
      },
      "source": [
        "##3.5 커널 SVM을 사용하여 비선형 문제 풀기"
      ]
    },
    {
      "cell_type": "markdown",
      "metadata": {
        "id": "0e-LqyfSPVPB",
        "colab_type": "text"
      },
      "source": [
        "###3.5.1 선형적으로 구분되지 않는 데이터를 위한 커널 방법"
      ]
    },
    {
      "cell_type": "code",
      "metadata": {
        "id": "i1qBjSqCw3Bq",
        "colab_type": "code",
        "outputId": "2f2e9b83-1161-48b2-d179-dfde36fbca7e",
        "colab": {
          "base_uri": "https://localhost:8080/",
          "height": 297
        }
      },
      "source": [
        "import matplotlib.pyplot as plt\n",
        "import numpy as np\n",
        "np.random.seed(1)\n",
        "X_xor = np.random.randn(200, 2)\n",
        "y_xor = np.logical_xor(X_xor[:,0]>0,\n",
        "                       X_xor[:,1]>0)\n",
        "y_xor = np.where(y_xor, 1, -1)\n",
        "plt.scatter(X_xor[y_xor == 1,0],\n",
        "            X_xor[y_xor == 1,1],\n",
        "            c='b', marker = 'x',\n",
        "            label='1')\n",
        "plt.scatter(X_xor[y_xor == -1,0],\n",
        "            X_xor[y_xor == -1,1],\n",
        "            c='r', marker = 's',\n",
        "            label='-1')\n",
        "plt.xlim([-3,3])\n",
        "plt.ylim([-3,3])\n",
        "plt.legend(loc='best')\n",
        "plt.tight_layout()\n",
        "plt.show()"
      ],
      "execution_count": 43,
      "outputs": [
        {
          "output_type": "display_data",
          "data": {
            "image/png": "[encoded data removed]",
            "text/plain": [
              "<Figure size 432x288 with 1 Axes>"
            ]
          },
          "metadata": {
            "tags": [],
            "needs_background": "light"
          }
        }
      ]
    },
    {
      "cell_type": "markdown",
      "metadata": {
        "id": "6-JQGSpvRRsO",
        "colab_type": "text"
      },
      "source": [
        "선형적으로 구분되지 않는 데이터를 다루는 커널 방법(kernel method)의 기본 아이디어는 선형적으로 구분되는 고차원 공간에 투영하는 것이다."
      ]
    },
    {
      "cell_type": "markdown",
      "metadata": {
        "id": "DqEfehR4Rh4f",
        "colab_type": "text"
      },
      "source": [
        "###3.5.2 커널 기법을 사용하여 고차원 공간에서 분할 초평면 찾기"
      ]
    },
    {
      "cell_type": "markdown",
      "metadata": {
        "id": "q4cslAXFRzav",
        "colab_type": "text"
      },
      "source": [
        "SVM은 비선형 문제를 풀기 위해 매핑 함수를 사용하여 훈련 데이터를 고차원 특성 공간으로 변환한다.\n",
        "\n",
        "이런 매핑 방식의 문제점은 새로운 특성을 만드는 계싼 비용이 비싸다는 것이다.\n",
        "\n",
        "높은 비용을 절감하기 위해 커널 함수(kernel function)가 등장한다.\n",
        "\n",
        "커널 중 하나가 방사 기저 함수(Radial Basis Function, RBF)이다. 같은 의미로 가우시안 커널(Gaussian kernel)이라고도 한다.\n",
        "\n",
        "커널이란 용어를 샘플 간의 유사도 함수(similarity function)으로 해석할 수 있다.\n",
        "\n",
        "매우 비슷한 샘플의 유사도 점수는 1\n",
        "\n",
        "매우 다른 샘플의 유사도 점수는 0이다."
      ]
    },
    {
      "cell_type": "code",
      "metadata": {
        "id": "-c0amtSRyPNa",
        "colab_type": "code",
        "colab": {}
      },
      "source": [
        "svm = SVC(kernel='rbf', random_state=1, gamma=0.10, C=10.0)"
      ],
      "execution_count": 0,
      "outputs": []
    },
    {
      "cell_type": "code",
      "metadata": {
        "id": "CO82zhXRzT-x",
        "colab_type": "code",
        "outputId": "44639bbc-24c8-4a85-c30f-4a692264dede",
        "colab": {
          "base_uri": "https://localhost:8080/",
          "height": 87
        }
      },
      "source": [
        "svm.fit(X_xor, y_xor)"
      ],
      "execution_count": 45,
      "outputs": [
        {
          "output_type": "execute_result",
          "data": {
            "text/plain": [
              "SVC(C=10.0, break_ties=False, cache_size=200, class_weight=None, coef0=0.0,\n",
              "    decision_function_shape='ovr', degree=3, gamma=0.1, kernel='rbf',\n",
              "    max_iter=-1, probability=False, random_state=1, shrinking=True, tol=0.001,\n",
              "    verbose=False)"
            ]
          },
          "metadata": {
            "tags": []
          },
          "execution_count": 45
        }
      ]
    },
    {
      "cell_type": "code",
      "metadata": {
        "id": "-aexvh_jymko",
        "colab_type": "code",
        "outputId": "827ea568-2ba7-42a9-bc94-576314cb55bd",
        "colab": {
          "base_uri": "https://localhost:8080/",
          "height": 297
        }
      },
      "source": [
        "plot_decision_regions(X_xor, y_xor, classifier=svm)\n",
        "plt.legend(loc='upper left')\n",
        "plt.tight_layout()\n",
        "plt.show()"
      ],
      "execution_count": 46,
      "outputs": [
        {
          "output_type": "display_data",
          "data": {
            "image/png": "[encoded data removed]",
            "text/plain": [
              "<Figure size 432x288 with 1 Axes>"
            ]
          },
          "metadata": {
            "tags": [],
            "needs_background": "light"
          }
        }
      ]
    },
    {
      "cell_type": "code",
      "metadata": {
        "id": "9f68dnodyThP",
        "colab_type": "code",
        "outputId": "836bce4c-3307-4680-825e-60c7526cb53c",
        "colab": {
          "base_uri": "https://localhost:8080/",
          "height": 87
        }
      },
      "source": [
        "svm = SVC(kernel='rbf', random_state=1, gamma=0.2, C=1.0)\n",
        "svm.fit(X_train_std, y_train)"
      ],
      "execution_count": 47,
      "outputs": [
        {
          "output_type": "execute_result",
          "data": {
            "text/plain": [
              "SVC(C=1.0, break_ties=False, cache_size=200, class_weight=None, coef0=0.0,\n",
              "    decision_function_shape='ovr', degree=3, gamma=0.2, kernel='rbf',\n",
              "    max_iter=-1, probability=False, random_state=1, shrinking=True, tol=0.001,\n",
              "    verbose=False)"
            ]
          },
          "metadata": {
            "tags": []
          },
          "execution_count": 47
        }
      ]
    },
    {
      "cell_type": "code",
      "metadata": {
        "id": "_43DAeMIykHY",
        "colab_type": "code",
        "outputId": "2d6c9474-7313-46f8-d858-5a5fea7c02b0",
        "colab": {
          "base_uri": "https://localhost:8080/",
          "height": 334
        }
      },
      "source": [
        "plot_decision_regions(X_combined_std,\n",
        "y_combined,\n",
        "classifier=svm,\n",
        "test_idx=range(105,150))\n",
        "plt.xlabel('petal length [standardized]')\n",
        "plt.ylabel('petal width [standardized]')\n",
        "plt.legend(loc='upper left')\n",
        "plt.tight_layout()\n",
        "plt.show()"
      ],
      "execution_count": 48,
      "outputs": [
        {
          "output_type": "stream",
          "text": [
            "/usr/local/lib/python3.6/dist-packages/ipykernel_launcher.py:33: MatplotlibDeprecationWarning: Using a string of single character colors as a color sequence is deprecated. Use an explicit list instead.\n"
          ],
          "name": "stderr"
        },
        {
          "output_type": "display_data",
          "data": {
            "image/png": "[encoded data removed]",
            "text/plain": [
              "<Figure size 432x288 with 1 Axes>"
            ]
          },
          "metadata": {
            "tags": [],
            "needs_background": "light"
          }
        }
      ]
    },
    {
      "cell_type": "code",
      "metadata": {
        "id": "HoVc3mZj2IBi",
        "colab_type": "code",
        "outputId": "e9bb891e-9954-4a1a-ac50-9e7365add54b",
        "colab": {
          "base_uri": "https://localhost:8080/",
          "height": 334
        }
      },
      "source": [
        "svm = SVC(kernel='rbf', random_state=1, gamma=100.0, C=1.0)\n",
        "svm.fit(X_train_std, y_train)\n",
        "plot_decision_regions(X_combined_std,\n",
        "y_combined,\n",
        "classifier=svm,\n",
        "test_idx=range(105,150))\n",
        "plt.xlabel('petal length [standardized]')\n",
        "plt.ylabel('petal width [standardized]')\n",
        "plt.legend(loc='upper left')\n",
        "plt.tight_layout()\n",
        "plt.show()"
      ],
      "execution_count": 49,
      "outputs": [
        {
          "output_type": "stream",
          "text": [
            "/usr/local/lib/python3.6/dist-packages/ipykernel_launcher.py:33: MatplotlibDeprecationWarning: Using a string of single character colors as a color sequence is deprecated. Use an explicit list instead.\n"
          ],
          "name": "stderr"
        },
        {
          "output_type": "display_data",
          "data": {
            "image/png": "[encoded data removed]",
            "text/plain": [
              "<Figure size 432x288 with 1 Axes>"
            ]
          },
          "metadata": {
            "tags": [],
            "needs_background": "light"
          }
        }
      ]
    },
    {
      "cell_type": "markdown",
      "metadata": {
        "id": "o0iTju9fUfgh",
        "colab_type": "text"
      },
      "source": [
        "##3.6 결정 트리 학습"
      ]
    },
    {
      "cell_type": "markdown",
      "metadata": {
        "id": "7LKULiTjUwA_",
        "colab_type": "text"
      },
      "source": [
        "결정 알고리즘은 정보 이득(Information Gain, IG)이 최대가 되는 특성으로 데이터를 나눈다.\n",
        "\n",
        "이렇게 하면 노드가 많은 깊은 트리가 만들어지고 과대적합 될 가능성이 높다. 따라서 트리의 최대 깊이를 제한하여 트리를 가지치기(pruning)한다."
      ]
    },
    {
      "cell_type": "markdown",
      "metadata": {
        "id": "U9jXS1NBVJCV",
        "colab_type": "text"
      },
      "source": [
        "### 3.6.1정보 이득 최대화: 자원을 최대로 활용"
      ]
    },
    {
      "cell_type": "code",
      "metadata": {
        "id": "Sbt0_pU63A3a",
        "colab_type": "code",
        "colab": {}
      },
      "source": [
        "import matplotlib.pyplot as plt\n",
        "import numpy as np"
      ],
      "execution_count": 0,
      "outputs": []
    },
    {
      "cell_type": "code",
      "metadata": {
        "id": "C7Y-UZ3U4KT5",
        "colab_type": "code",
        "colab": {}
      },
      "source": [
        "def gini(p):\n",
        "  return (p)*(1 - (p)) + (1 - p) * (1 - (1-p))"
      ],
      "execution_count": 0,
      "outputs": []
    },
    {
      "cell_type": "code",
      "metadata": {
        "id": "Top0HmyTKPIa",
        "colab_type": "code",
        "colab": {}
      },
      "source": [
        "def entropy(p):\n",
        "  return - p*np.log2(p) - (1-p)*np.log2((1-p))"
      ],
      "execution_count": 0,
      "outputs": []
    },
    {
      "cell_type": "code",
      "metadata": {
        "id": "rnAndBcBY0sI",
        "colab_type": "code",
        "colab": {}
      },
      "source": [
        "def error(p):\n",
        "  return 1 - np.max([p, 1-p])"
      ],
      "execution_count": 0,
      "outputs": []
    },
    {
      "cell_type": "code",
      "metadata": {
        "id": "JJb-j1G3Wcs0",
        "colab_type": "code",
        "colab": {
          "base_uri": "https://localhost:8080/",
          "height": 307
        },
        "outputId": "a3d2a4eb-9aa7-4130-a412-b6aeddeca601"
      },
      "source": [
        "x = np.arange(0.0, 1.0, 0.01)\n",
        "ent = [entropy(p) if p != 0 else None for p in x]\n",
        "sc_ent = [e*0.5 if e else None for e in ent]\n",
        "err = [error(i) for i in x]\n",
        "fig = plt.figure()\n",
        "ax = plt.subplot(111)\n",
        "for i, lab, ls, c, in zip([ent, sc_ent,gini(x), err],\n",
        "                          ['Entropy', 'Entropy (scaled)',\n",
        "                           'Gini Impurity',\n",
        "                           'Misclassification Error'],\n",
        "                          ['-', '-', '--', '-.'],\n",
        "                          ['black', 'lightgray',\n",
        "                          'red', 'green', 'cyan']):\n",
        "  line = ax.plot(x, i, label=lab,\n",
        "  linestyle=ls, lw=2, color=c)\n",
        "ax.legend(loc='upper center', bbox_to_anchor=(0.5, 1.15),\n",
        "          ncol=5, fancybox=True, shadow=False)\n",
        "ax.axhline(y=0.5, linewidth=1, color='k', linestyle='--')\n",
        "ax.axhline(y=1.0, linewidth=1, color='k', linestyle='--')\n",
        "plt.ylim([0, 1.1])\n",
        "plt.xlabel('p(i=1)')\n",
        "plt.ylabel('Impurity Index')\n",
        "plt.show()"
      ],
      "execution_count": 56,
      "outputs": [
        {
          "output_type": "display_data",
          "data": {
            "image/png": "[encoded data removed]",
            "text/plain": [
              "<Figure size 432x288 with 1 Axes>"
            ]
          },
          "metadata": {
            "tags": [],
            "needs_background": "light"
          }
        }
      ]
    },
    {
      "cell_type": "markdown",
      "metadata": {
        "id": "q6PRbufnZA74",
        "colab_type": "text"
      },
      "source": [
        "###3.6.2 결정 트리 만들기"
      ]
    },
    {
      "cell_type": "code",
      "metadata": {
        "id": "5FbAvL0HWcjD",
        "colab_type": "code",
        "colab": {}
      },
      "source": [
        "from sklearn.tree import DecisionTreeClassifier\n",
        "tree = DecisionTreeClassifier(criterion='gini',\n",
        "                              max_depth=4,\n",
        "                              random_state=1)"
      ],
      "execution_count": 0,
      "outputs": []
    },
    {
      "cell_type": "code",
      "metadata": {
        "id": "SKxgCH2mWccR",
        "colab_type": "code",
        "colab": {}
      },
      "source": [
        "tree.fit(X_train, y_train)\n",
        "X_combined = np.vstack((X_train, X_test))\n",
        "y_combined = np.hstack((y_train, y_test))"
      ],
      "execution_count": 0,
      "outputs": []
    },
    {
      "cell_type": "code",
      "metadata": {
        "id": "W8fheBRcWbtM",
        "colab_type": "code",
        "colab": {
          "base_uri": "https://localhost:8080/",
          "height": 334
        },
        "outputId": "6b55a053-90f3-497e-8e55-7e09e1bef8ed"
      },
      "source": [
        "plot_decision_regions(X_combined,\n",
        "                      y_combined,\n",
        "                      classifier=tree,\n",
        "                      test_idx=range(105, 150))\n",
        "plt.xlabel('petal length [cm]')\n",
        "plt.ylabel('petal width [cm]')\n",
        "plt.legend(loc='upper left')\n",
        "plt.tight_layout()\n",
        "plt.show()"
      ],
      "execution_count": 59,
      "outputs": [
        {
          "output_type": "stream",
          "text": [
            "/usr/local/lib/python3.6/dist-packages/ipykernel_launcher.py:33: MatplotlibDeprecationWarning: Using a string of single character colors as a color sequence is deprecated. Use an explicit list instead.\n"
          ],
          "name": "stderr"
        },
        {
          "output_type": "display_data",
          "data": {
            "image/png": "[encoded data removed]",
            "text/plain": [
              "<Figure size 432x288 with 1 Axes>"
            ]
          },
          "metadata": {
            "tags": [],
            "needs_background": "light"
          }
        }
      ]
    },
    {
      "cell_type": "markdown",
      "metadata": {
        "id": "Yy3zn_-JahPc",
        "colab_type": "text"
      },
      "source": [
        "사이킷런은 훈련한 후 결정트리르 .dot 파일로 추출할 수 있는 멋진 기능이 있다고 하는데 생략한다."
      ]
    },
    {
      "cell_type": "markdown",
      "metadata": {
        "id": "Xbdi4ilRMSkv",
        "colab_type": "text"
      },
      "source": [
        "###3.6.3 랜덤 포레스트로 여러 개의 결정 트리 연결"
      ]
    },
    {
      "cell_type": "markdown",
      "metadata": {
        "id": "IfD-B3c8bD5D",
        "colab_type": "text"
      },
      "source": [
        "랜덤 포레스트는 결정 트리의 앙상블(ensemble)이다.\n",
        "\n",
        "여러 개의 결정 트리를 평균 내는 것이다.\n",
        "\n",
        "개개의 트리는 분산이 높은 문제가 있지만, 앙상블은 견고한 모델을 만들어 일반화 성능을 높이고 과대적합의 위험을 줄인다.\n",
        "\n",
        "1. n개의 랜덤한 부트스트랩(bootstrap) 샘플을 뽑는다. (훈련 세트에서 중복을 허용하면서 랜덤하게 n개의 샘플을 선택한다.)\n",
        "\n",
        "2.부트스트랩 샘플에서 결정 트리를 학습한다. 각 노드에서 다음과 같이 한다.\n",
        "\n",
        "+ a. 중복을 허용하지 않고 랜덤하게 d개의 특성을 선택한다.\n",
        "\n",
        "+ b. 정보 이득과 같은 목적 함수를 기준으로 최선의 분할을 만드는 특성을 사용해서 노드를 분할한다.\n",
        "\n",
        "3. 1,2를 반복한다.\n",
        "\n",
        "4. 트리의 예측을 모아 다수결 투표(majority voting)로 클래스 레이블을 할당한다.\n",
        "\n",
        "랜덤 포레스트는 하이퍼파라미터 튜닝에 많은 노력을 기울이지 않아도 된다.\n",
        "\n",
        "일반적으로 가지치기할 필요가 없다.\n",
        "\n",
        "트리 개수는 신경 써야 한다. 트리 개수가 많을수록 계싼 비용이 증가하는 만큼 랜덤 포레스트 분류기의 성능이 좋아진다.\n",
        "\n",
        "부트스트랩 샘플이 작을수록 랜덤 포레스트의 전체적인 성능이 줄어든다.\n",
        "\n",
        "부트스트랩 샘플이 커질수록 과대적합 가능성이 늘어난다."
      ]
    },
    {
      "cell_type": "code",
      "metadata": {
        "id": "s2nofrzrKkQ-",
        "colab_type": "code",
        "colab": {}
      },
      "source": [
        "from sklearn.ensemble import RandomForestClassifier\n",
        "forest = RandomForestClassifier(criterion='gini',\n",
        "                                n_estimators=25,\n",
        "                                random_state=1,\n",
        "                                n_jobs=2)"
      ],
      "execution_count": 0,
      "outputs": []
    },
    {
      "cell_type": "code",
      "metadata": {
        "id": "fASw09OeZdeg",
        "colab_type": "code",
        "outputId": "6639f325-84bc-4445-94c6-8215d49f1dae",
        "colab": {
          "base_uri": "https://localhost:8080/",
          "height": 158
        }
      },
      "source": [
        "forest.fit(X_train, y_train)"
      ],
      "execution_count": 61,
      "outputs": [
        {
          "output_type": "execute_result",
          "data": {
            "text/plain": [
              "RandomForestClassifier(bootstrap=True, ccp_alpha=0.0, class_weight=None,\n",
              "                       criterion='gini', max_depth=None, max_features='auto',\n",
              "                       max_leaf_nodes=None, max_samples=None,\n",
              "                       min_impurity_decrease=0.0, min_impurity_split=None,\n",
              "                       min_samples_leaf=1, min_samples_split=2,\n",
              "                       min_weight_fraction_leaf=0.0, n_estimators=25, n_jobs=2,\n",
              "                       oob_score=False, random_state=1, verbose=0,\n",
              "                       warm_start=False)"
            ]
          },
          "metadata": {
            "tags": []
          },
          "execution_count": 61
        }
      ]
    },
    {
      "cell_type": "code",
      "metadata": {
        "id": "r8wOjL24eQtp",
        "colab_type": "code",
        "outputId": "fd6eb10a-004f-4260-fd1f-4a7b5e336385",
        "colab": {
          "base_uri": "https://localhost:8080/",
          "height": 334
        }
      },
      "source": [
        "plot_decision_regions(X_combined, y_combined,\n",
        "classifier=forest, test_idx=range(105, 150))\n",
        "plt.xlabel('petal length')\n",
        "plt.ylabel('petal width')\n",
        "plt.legend(loc='upper left')\n",
        "plt.tight_layout()\n",
        "plt.show()"
      ],
      "execution_count": 62,
      "outputs": [
        {
          "output_type": "stream",
          "text": [
            "/usr/local/lib/python3.6/dist-packages/ipykernel_launcher.py:33: MatplotlibDeprecationWarning: Using a string of single character colors as a color sequence is deprecated. Use an explicit list instead.\n"
          ],
          "name": "stderr"
        },
        {
          "output_type": "display_data",
          "data": {
            "image/png": "[encoded data removed]",
            "text/plain": [
              "<Figure size 432x288 with 1 Axes>"
            ]
          },
          "metadata": {
            "tags": [],
            "needs_background": "light"
          }
        }
      ]
    },
    {
      "cell_type": "markdown",
      "metadata": {
        "id": "2-4J-8kvfIQV",
        "colab_type": "text"
      },
      "source": [
        "##3.7 k-최근접 이웃: 게으른 학습 알고리즘"
      ]
    },
    {
      "cell_type": "markdown",
      "metadata": {
        "id": "eQNAGbJ0ef97",
        "colab_type": "text"
      },
      "source": [
        "k-최근접 이웃(K-Nearest Neighbor, KNN) 알고리즘은 훈련 데이터에서 판별 함수(discriminative function)를 학습하는 대신 훈련 데이터셋을 메모리에 저장하기 때문에 게으른 학습기로 표현한다.\n",
        "\n",
        "모수 모델(parametric model) : 훈련 데이터셋에서 모델 파리미터를 추정한다. 훈련이 끝나면 원본 훈련 데이터셋은 더 이상 필요 없다. 퍼셉트론, 로지스틱 회귀, 선형 SVM\n",
        "\n",
        "비모수 모델(nonparametric model) : 고정된 개수의 파라미터로 설명될 수 없다. 훈련 데이터가 늘어남에 따라 파라미터 개수도 늘어난다. 결정 트리, 랜덤 포레스트, 커널 SVM\n",
        "\n",
        "KNN은 비모수 모델이다. 인스턴스 기반 모델이라고도 한다. 훈련 데이터셋을 메모리에 저장하는 것이 특징이다. 인스턴스 기반학습의 특별한 경우가 게으른 학습이며 학습 과정에 비용이 전혀 들지 않는다.\n",
        "\n",
        "KNN 알고리즘 단계 :\n",
        "\n",
        "1. 숫자 k와 거리 측정 기준을 선택한다.\n",
        "\n",
        "2. 분류하려는 샘플에서 k개의 최근접 이웃을 찾는다.\n",
        "\n",
        "3. 다수결 투표를 통해 클래스 레이블을 할당한다."
      ]
    },
    {
      "cell_type": "code",
      "metadata": {
        "id": "NNSLv5v5fyyW",
        "colab_type": "code",
        "colab": {
          "base_uri": "https://localhost:8080/",
          "height": 70
        },
        "outputId": "41f56d0d-4cda-4e3f-d09c-9c947aef4b70"
      },
      "source": [
        "from sklearn.neighbors import KNeighborsClassifier\n",
        "knn = KNeighborsClassifier(n_neighbors=5, p=2,\n",
        "                           metric = 'minkowski')\n",
        "knn.fit(X_train_std, y_train)"
      ],
      "execution_count": 63,
      "outputs": [
        {
          "output_type": "execute_result",
          "data": {
            "text/plain": [
              "KNeighborsClassifier(algorithm='auto', leaf_size=30, metric='minkowski',\n",
              "                     metric_params=None, n_jobs=None, n_neighbors=5, p=2,\n",
              "                     weights='uniform')"
            ]
          },
          "metadata": {
            "tags": []
          },
          "execution_count": 63
        }
      ]
    },
    {
      "cell_type": "code",
      "metadata": {
        "id": "NVi6-JuVe_Yv",
        "colab_type": "code",
        "outputId": "19fbf04a-8031-4ff6-e70a-89ffb95ea2d9",
        "colab": {
          "base_uri": "https://localhost:8080/",
          "height": 334
        }
      },
      "source": [
        "plot_decision_regions(X_combined_std, y_combined,\n",
        "classifier=knn, test_idx=range(105, 150))\n",
        "plt.xlabel('petal length [standardized]')\n",
        "plt.ylabel('petal width [standardized]')\n",
        "plt.tight_layout()\n",
        "plt.show()"
      ],
      "execution_count": 64,
      "outputs": [
        {
          "output_type": "stream",
          "text": [
            "/usr/local/lib/python3.6/dist-packages/ipykernel_launcher.py:33: MatplotlibDeprecationWarning: Using a string of single character colors as a color sequence is deprecated. Use an explicit list instead.\n"
          ],
          "name": "stderr"
        },
        {
          "output_type": "display_data",
          "data": {
            "image/png": "[encoded data removed]",
            "text/plain": [
              "<Figure size 432x288 with 1 Axes>"
            ]
          },
          "metadata": {
            "tags": [],
            "needs_background": "light"
          }
        }
      ]
    },
    {
      "cell_type": "markdown",
      "metadata": {
        "id": "CxVCgznxhT0u",
        "colab_type": "text"
      },
      "source": [
        "KNN은 차원의 저주 때문에 과대적합되기 쉽다는 것이 중요하다.\n",
        "\n",
        "차원의 저주는 고정된 크기의 훈련 데이터셋이 차원이 늘어남에 따라 특성 공간이 점점 희소해지는 현상이다.\n",
        "\n",
        "고차원 공간에서는 가장 가까운 이웃이라도 좋은 추정 값을 만들기에는 너무 멀리 떨어져 있다는 뜻이다.\n",
        "\n",
        "결정 트리나 KNN처럼 규제를 적용할 수 없는 모델에서는 특성 선택과 차원 축소 기법을 사용하면 차원의 저주를 피하는데 도움이 된다."
      ]
    },
    {
      "cell_type": "markdown",
      "metadata": {
        "id": "R7QQoeiiiPIa",
        "colab_type": "text"
      },
      "source": [
        "##3.8 요약"
      ]
    },
    {
      "cell_type": "markdown",
      "metadata": {
        "id": "-Bnp7YaViSBI",
        "colab_type": "text"
      },
      "source": [
        "모델 해석이 중요할 때 : 결정 트리\n",
        "\n",
        "로지스틱 회귀는 확률적 경사 하강법을 사용한 온라인 학습과 특정 이번트 확률을 예측하는 것에도 사용한다.\n",
        "\n",
        "서포트 벡터 머신은 강력한 선형 모델이면서, 커널 트릭을 사용하여 비선형 문제에도 확장할 수 있다. 단, 튜닝할 하이퍼파라미터가 많다.\n",
        "\n",
        "랜덤 포레스트 같은 앙상블 모델은 매개변수 튜닝이 많이 필요하지 않고 결정 트리만큼 쉽게 과대적합 되지 않는다.\n",
        "\n",
        "KNN 분류기는 게으른 학습을 통한 다른 종류의 분류 방식을 사용한다. 모델 훈련 없이 예측을 만들지만 예측 단계의 계산 비용이 높다."
      ]
    },
    {
      "cell_type": "code",
      "metadata": {
        "id": "nlBhCXWTomsp",
        "colab_type": "code",
        "colab": {}
      },
      "source": [
        ""
      ],
      "execution_count": 0,
      "outputs": []
    }
  ]
}