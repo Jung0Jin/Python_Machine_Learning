{
 "cells": [
  {
   "cell_type": "markdown",
   "metadata": {},
   "source": [
    "# 인스타그램 이미지 크롤링"
   ]
  },
  {
   "cell_type": "markdown",
   "metadata": {},
   "source": [
    "참고 : https://yeowool0217.tistory.com/564"
   ]
  },
  {
   "cell_type": "code",
   "execution_count": 1,
   "metadata": {
    "ExecuteTime": {
     "end_time": "2020-07-12T11:55:46.867263Z",
     "start_time": "2020-07-12T11:55:45.813049Z"
    }
   },
   "outputs": [],
   "source": [
    "import pandas as pd\n",
    "import time \n",
    "import re \n",
    "import time\n",
    "import urllib\n",
    "from bs4 import BeautifulSoup \n",
    "from urllib.request import urlopen, Request\n",
    "from selenium import webdriver \n",
    "from selenium.common.exceptions import NoSuchElementException\n",
    "from urllib.error import HTTPError"
   ]
  },
  {
   "cell_type": "code",
   "execution_count": 2,
   "metadata": {
    "ExecuteTime": {
     "end_time": "2020-07-12T11:56:09.176585Z",
     "start_time": "2020-07-12T11:55:47.480604Z"
    },
    "scrolled": true
   },
   "outputs": [
    {
     "name": "stdout",
     "output_type": "stream",
     "text": [
      "검색어를 입력하세요:오오티디\n"
     ]
    }
   ],
   "source": [
    "search = input('검색어를 입력하세요:')\n",
    "url = 'https://www.instagram.com/explore/tags/'+ str(urllib.parse.quote(search)) +'/'\n",
    "\n",
    "driver = webdriver.Chrome('chromedriver.exe')\n",
    "driver.get(url)\n",
    "time.sleep(3)\n",
    "\n",
    "driver.find_element_by_css_selector('div.v1Nh3.kIKUG._bz0w').click()"
   ]
  },
  {
   "cell_type": "code",
   "execution_count": 4,
   "metadata": {
    "ExecuteTime": {
     "end_time": "2020-07-12T11:57:16.697155Z",
     "start_time": "2020-07-12T11:56:25.743291Z"
    },
    "scrolled": true
   },
   "outputs": [],
   "source": [
    "SCROLL_PAUSE_TIME = 1.0\n",
    "reallink = []\n",
    "\n",
    "while True:\n",
    "    pageString = driver.page_source\n",
    "    bsObj = BeautifulSoup(pageString, \"lxml\")\n",
    "\n",
    "    for link1 in bsObj.find_all(name=\"div\",attrs={\"class\":\"Nnq7C weEfm\"}):\n",
    "        title = link1.select('a')[0] \n",
    "        real = title.attrs['href']\n",
    "        reallink.append(real) \n",
    "        \n",
    "        title = link1.select('a')[1] \n",
    "        real = title.attrs['href']\n",
    "        reallink.append(real) \n",
    "        \n",
    "        title = link1.select('a')[2] \n",
    "        real = title.attrs['href']\n",
    "        reallink.append(real) \n",
    "\n",
    "    last_height = driver.execute_script(\"return document.body.scrollHeight\")\n",
    "    driver.execute_script(\"window.scrollTo(0, document.body.scrollHeight);\")\n",
    "    time.sleep(SCROLL_PAUSE_TIME)\n",
    "    new_height = driver.execute_script(\"return document.body.scrollHeight\")\n",
    "    \n",
    "    if new_height == last_height:\n",
    "        driver.execute_script(\"window.scrollTo(0, document.body.scrollHeight);\")\n",
    "        time.sleep(SCROLL_PAUSE_TIME)\n",
    "        new_height = driver.execute_script(\"return document.body.scrollHeight\")\n",
    "        \n",
    "        if new_height == last_height:\n",
    "            break\n",
    "        else:\n",
    "            last_height = new_height\n",
    "            continue"
   ]
  },
  {
   "cell_type": "code",
   "execution_count": 5,
   "metadata": {
    "ExecuteTime": {
     "end_time": "2020-07-12T11:57:16.711023Z",
     "start_time": "2020-07-12T11:57:16.699054Z"
    }
   },
   "outputs": [
    {
     "name": "stdout",
     "output_type": "stream",
     "text": [
      "['/p/CBajtbzAaVI/', '/p/CCiobcvjj77/', '/p/CCif7kjDf2M/', '/p/CCifhJ5Dh0I/', '/p/CCiocNXDtTg/', '/p/CCiobZ6l9HD/', '/p/CCioV56hmND/', '/p/CCiiWnDpmNi/', '/p/CCiL6UZFibw/', '/p/CCijY_ep6su/', '/p/CCiheA0h7I7/', '/p/CCioG3SJNaI/', '/p/CCiYr3npmhm/', '/p/CCinjWAJz9C/', '/p/CCioUZul_Mb/', '/p/CCimrYvgqmQ/', '/p/CBNnHX2AcQl/', '/p/CCigoJQHQf9/', '/p/CCioVd0JmR1/', '/p/CCioex1FTt-/', '/p/CCil67qj5G1/', '/p/CCiTPP4hlCj/', '/p/CCgxGnKlegd/', '/p/CCijDO_FE9F/', '/p/CCioXfwJ-MV/', '/p/CCilcYrD_93/', '/p/CCiocNvjBRI/', '/p/CCiNKQ5jDSD/', '/p/CCia4K3p1SN/', '/p/CCP3AUrBJip/', '/p/CCh739aFK06/', '/p/CChvLiPleOz/', '/p/CCiHjo3HiVx/', '/p/CCKQcKzJPSp/', '/p/CCioSb_Jlbc/', '/p/CBbw2A8AzM0/', '/p/CCiod9FJWfc/', '/p/CCioKYzj_si/', '/p/B-quWMfJB9O/', '/p/CCioSKvBsjk/', '/p/B-4MhidjUX2/', '/p/CCiRvv5Fs5l/', '/p/CCioSlEJsSE/', '/p/CBuFNPVAKHR/', '/p/CCioeknHJjh/', '/p/CCihidqFk9L/', '/p/CCioTefpSI_/', '/p/CCTBVPwHEH_/', '/p/CCimPRsDBVb/', '/p/CCifP98loq7/', '/p/CCioLZfAfAg/', '/p/CCioWpbnCXn/', '/p/CCiWO8sjbOw/', '/p/CCZHn_FFXq5/', '/p/CCZoVKinThK/', '/p/CCioVrHFwzI/', '/p/CCioPGiBmSF/', '/p/CCidWMqHvgo/', '/p/CCioZTzpcSs/', '/p/CCibqCYjtz4/', '/p/CCiIIimARU9/', '/p/CCimNK9DBTp/', '/p/CCgvy_Sh-sy/', '/p/CCimaYMBYe3/', '/p/CCim01wA4u7/', '/p/CCgMRlwJy4p/', '/p/CCidGxmlTNI/', '/p/CCioR0QnBYp/', '/p/CCil6Rnhd85/', '/p/CCioVqJHIzW/', '/p/CCim1OGlG4A/', '/p/CCiVelaFnC-/', '/p/CCioWownevu/', '/p/CCilA-tj8u6/', '/p/CCiiM3DHZyp/', '/p/CCioWvln3oC/', '/p/CCiTHKqlxkd/', '/p/CCikYiRn4Pw/', '/p/CCiobDOJZ0X/', '/p/CCioYC4gAlv/', '/p/CCimJ4mliJx/', '/p/CCioFz2ALdO/', '/p/CCih8OEFQTC/', '/p/CCgpi2GJjvd/', '/p/CCioakuASb4/', '/p/CCe6HbZhVub/', '/p/CCimTrDFECN/', '/p/CCilCTCHIw-/', '/p/CCdyHjBlCDy/', '/p/CCioWCiBZdE/', '/p/CCioPniBDhf/', '/p/BzN9S74lIRM/', '/p/CCinIxHnLnd/', '/p/CCioPmXjKQF/', '/p/CCioPgmlSYT/', '/p/CCiZZcohSbC/', '/p/CCioT3PHSG6/', '/p/CB-0ucGswpV/', '/p/CCim9lSFtcl/', '/p/CCiocmoDxtL/', '/p/CB-PFJaFuO7/', '/p/CCioJvplGl7/', '/p/CCh7vvhgnK7/', '/p/CCioZHNgfz-/', '/p/CCiocGPF6cv/', '/p/CCioTnsFM2m/', '/p/CCiZV9OsQab/', '/p/CCioOzxBr-f/', '/p/CCgeD9fFHgQ/', '/p/CChOIZsFUk2/', '/p/CCiipa3lv8_/', '/p/CCioUwfhJfc/', '/p/CCimNw5BdW8/', '/p/CCimYAQl_jo/', '/p/CChGX_dA6DE/', '/p/CCimG_xFzUF/', '/p/CCinmCipV3h/', '/p/B__ow27DqQE/', '/p/CCioVnNJA2a/', '/p/CCinuMSlWnV/', '/p/CAWzb5apZxd/', '/p/CCioU6yDOJ1/', '/p/CCiTxWZDfo-/', '/p/CCioPgKFy4E/', '/p/CCioC3-FwiH/', '/p/CCh9YWKjGF7/', '/p/CCioWcAFc9y/', '/p/CCigDXzHfZj/', '/p/CCim3kYlNmP/', '/p/CCiPEf9lmri/', '/p/CCilRZelNPH/', '/p/CCioW9RnAJ0/', '/p/CCiodMnBdDC/', '/p/CCf9YrGFRBm/', '/p/CCikjJYpzsZ/', '/p/CCigbUalI7u/', '/p/CCiY5lunNOV/', '/p/CCgPu-Zh4AC/', '/p/CCioZwwFz6D/', '/p/CCimpvihecs/', '/p/CCioZcHnuCj/', '/p/CCioa7zFdfN/', '/p/CCioQdBlXT1/', '/p/CBdCJTYgb3P/', '/p/CB5A-C1hAfZ/', '/p/CCinLWEno0m/', '/p/CCioQhgj8Gs/', '/p/CCioaFyjN-P/', '/p/CCgLShihhDM/', '/p/CCioNE8lfd_/', '/p/CCiTnbljW_u/', '/p/CCf3W_fpUH5/', '/p/CCfVjOpH8gj/', '/p/CCik51elij7/', '/p/CCgXOJ-jEKz/', '/p/CCQT-yfAU0M/', '/p/CCidIPzl3dj/', '/p/CCicbRnnrDD/', '/p/CCIme3TlSX8/', '/p/CCilRQ8JuZa/', '/p/CCh3BPMJ5pZ/', '/p/CCioWajAeDG/', '/p/CCinDhnjDla/', '/p/CCimwHLMxok/', '/p/CCik33GD4Hk/', '/p/CCioKNtHLST/', '/p/CCiIal3HWts/', '/p/CCioStfJfgY/', '/p/CCioZXPJ0ff/', '/p/CCioU4rg4-G/', '/p/CCin9-GhL18/', '/p/CCieY06HlOX/', '/p/CCiodcQpCXH/', '/p/CCiitQKHc7C/', '/p/CCa4c1bF1jM/', '/p/CCiEKfZFNSn/', '/p/CCf0HimBfti/', '/p/CCioUZIH6mU/', '/p/CCigZnKHA0w/', '/p/B3FNUQ3Abzd/', '/p/CCiZYRcBSZ9/', '/p/CCioSZzJJHe/', '/p/CCh6TTQFWnV/', '/p/CCioUMzs5eU/', '/p/CCiOr8wDQkQ/', '/p/CCil-LEDckN/', '/p/CCikOJ2Fcwj/', '/p/CCioVdxgzoF/', '/p/CCiobDNgkr_/', '/p/CCiX_WkjMp_/', '/p/CCim1iFBAmL/', '/p/CCbEWRdj0yI/', '/p/CCh0j1EF0_g/', '/p/CCioVi3p3JH/', '/p/CCiT0fzlQRe/', '/p/CCiobTRHnXJ/', '/p/CCin7eeFUPk/', '/p/CCiP54HlAN_/', '/p/CCf-f64JZdf/', '/p/CCiobIIB-Or/', '/p/CCimaiEj0R8/', '/p/CCVsiPshDhW/', '/p/CCinFMelWS8/', '/p/CCiYuUXFzKb/', '/p/CCijbRIn6gE/', '/p/CCic3K0F5um/', '/p/CCieryfl43o/', '/p/CCimuKkDZdB/', '/p/CCh1uiMnspq/', '/p/CCil1DWFEgw/', '/p/CCigWHipRz4/', '/p/CCaR_LApZXA/', '/p/CCiiykmn-Ye/', '/p/CCim8z9jXLJ/', '/p/CCioUqrp-QO/', '/p/CCimLRvlPje/', '/p/CCLqkLShxg8/', '/p/CCigWTZBeUW/', '/p/CCiobWpJIhD/', '/p/CCifCL-Ff7H/', '/p/CCik1MylHKF/', '/p/CCh42VRlYcH/', '/p/CCioBIWHdiR/', '/p/CCijuesjpG2/', '/p/CCibgh6lSRe/', '/p/CCioSq-jWz1/', '/p/CCiUcIhJaju/', '/p/CCilaBQlKuI/', '/p/CCikpX9lPMw/', '/p/CCh32twFKTz/', '/p/B8baYdsp70f/', '/p/CCioYbplYUx/', '/p/CCinZNxlD2_/', '/p/CCiodrHgQtA/', '/p/CCioIfIlBGz/', '/p/CCifxSUDo2i/', '/p/CCP4kEIhOYx/', '/p/CCgF7xJHz_9/', '/p/CCimsBelUNF/', '/p/CCioS3yj0tX/', '/p/CCioIl3Bjig/', '/p/CCieDt_Jurz/', '/p/CCioEYzBGKx/', '/p/CCilMYYlM7I/', '/p/CCioSB8HPhh/', '/p/CCilQGlpnIX/', '/p/CCiff_wl_nB/', '/p/CCimwoODarq/', '/p/CCihiL0lsxP/', '/p/CCiobHbgRPd/', '/p/CCin4qiDTjk/', '/p/CCinwLhBerg/', '/p/CCioPsYjpfh/', '/p/CCinrJ0F0xg/', '/p/CCioTupH7Le/', '/p/CCiLwZzAoUN/', '/p/CCifc6dBudo/', '/p/CCioSGUHNfc/', '/p/CCioasXHzuV/', '/p/CCiITU9hKjA/', '/p/CCioVO6lOc7/', '/p/CCiFbp2lGLk/', '/p/CCig9ZWJXDN/', '/p/CCildMRnEU5/', '/p/CBUQeACJtf0/', '/p/CCiobScBYTU/', '/p/CCioTIVlE-A/', '/p/CCioPOQB2cj/', '/p/CCin-2zgGHw/', '/p/CCioI62gqT8/', '/p/CCijUa4B45N/', '/p/CCibUH0se8l/', '/p/CCioRYmDoeN/', '/p/CCiQhGZnOlh/', '/p/CCgVNKMn5E5/', '/p/CCioXMpBs9d/', '/p/CCiBoaplhth/', '/p/CCiofK2pUBq/', '/p/CCioVYKHyKZ/', '/p/CCioV5JFvPc/', '/p/CCiVSScHumB/', '/p/CCioVpAHbqg/', '/p/CCiob1mj30O/', '/p/CCgCCslH6bE/', '/p/CCioSEkD6GX/', '/p/CCinVWvHsqv/', '/p/CCiHTWhFBNM/', '/p/CCil5CfBAoI/', '/p/CCijIEUpPf4/', '/p/CCin5iQp83f/', '/p/CCioWeFlum6/', '/p/CCikUWeFlUX/', '/p/CCiFnq8j8Am/', '/p/CCinUNiHGkY/', '/p/CCioZgwJMQh/', '/p/CCiDKd8lAZ7/', '/p/CCioHjMJhWy/', '/p/CCig1CgnSz7/', '/p/CCiBomClIkQ/', '/p/CCioO9zJ41F/', '/p/CCiiM3Dlwto/', '/p/CCig45GlZMO/', '/p/CCioOcvHcoq/', '/p/CCiYHWyBAgG/', '/p/CCiXQbCjMYk/', '/p/CCijZcIJz0Z/', '/p/CCflt8xlKID/', '/p/CCilQhVHjL0/', '/p/CCioXZFHI2J/', '/p/CCioWA4lI22/', '/p/CCidiLiAwTE/', '/p/CBYTfQUJFaO/', '/p/B_4j-wEBPri/', '/p/CCioeCCFPtE/', '/p/CCiazR9BwTo/', '/p/CCikDMrlHzx/', '/p/CCioRFEHwav/', '/p/CCiTMXklk8M/', '/p/CCimKHRFXHn/', '/p/CCioaxrsPKc/', '/p/CCidEOTFQW2/', '/p/CCiZ_BYF-ds/', '/p/CCinKbJnAlL/', '/p/CCin1iml-XE/', '/p/CCigHHtB5RE/', '/p/CCh32OIlYUM/', '/p/CCUpa8nlML_/', '/p/CCd26I9ggBo/', '/p/CCioMawJRbG/', '/p/CCh9vtrBB3L/', '/p/CCif9-3H__n/', '/p/CCiltN-lMJS/', '/p/CCioTHQDGO8/', '/p/CCioXz-Blhx/', '/p/CChyElUHb13/', '/p/CCiaUT-lKpK/', '/p/CCiofuBHfuI/', '/p/CCife9LgxRG/', '/p/CCioOYphHVE/', '/p/CCioKCTnWj0/', '/p/CCioC7DJQ1C/', '/p/CCioad8HVNH/', '/p/CCQgHXQAMIv/', '/p/CCindA0FfHh/', '/p/CCfQ9PRhprr/', '/p/CCdPhselmUQ/', '/p/CCioV6Pj8kJ/', '/p/CCioRGWBrNP/', '/p/CCicIbAAV7h/', '/p/CCimyXbjoI3/', '/p/CCioQLup8DB/', '/p/CCioBlll1-4/', '/p/CCioLQSlV7Q/', '/p/CCiik2oFI6h/', '/p/CCik12KhtdV/', '/p/CCioOGmBrst/', '/p/B27eHNeAHHd/', '/p/CCimgKEHI-V/', '/p/CCioXvZlRgZ/', '/p/CCikqJjsEAu/', '/p/CCiQ2rRjGu8/', '/p/CCinoBRne21/', '/p/CCioDkMHeOy/', '/p/CCioeSAjfX1/', '/p/CBK0CNGALp4/', '/p/CCiod1ihOCV/', '/p/CCioACbp60q/', '/p/CCib3fUlfTm/', '/p/CCbOai2FAFG/', '/p/CCiISAmlr_a/', '/p/CCin8HLjfhv/', '/p/CCil3u7lSgn/', '/p/CCiixWIFP3X/', '/p/CCinndbDXFa/', '/p/CCiV28tjos7/', '/p/CCinTToH31D/', '/p/CCcG7YYn5k4/', '/p/CCioVRDAi3f/', '/p/CCimqxEhoaG/', '/p/CCioWCYFZXv/', '/p/CCh1hJTFA5K/', '/p/CCODC2vB2c-/', '/p/CCii9oBjpMn/', '/p/CCiSlzSpIQk/', '/p/CCiYDrsH498/', '/p/CCiluHcDHrk/', '/p/CCdvs0tHzWF/', '/p/CCin7dtFYVm/', '/p/CCcRd3TFZel/', '/p/CCijH20FFDd/', '/p/CCifVEUFWVU/', '/p/CCSTFVKFBJz/', '/p/CCcVdL6lhPr/', '/p/CCioT0iHGWG/', '/p/CCilSTMneB8/', '/p/CCioH-9lp4Z/', '/p/CCioYnfHUjZ/', '/p/CCioYXFD4IZ/', '/p/CCioUlIFmvk/', '/p/CCUeu_2BeLb/', '/p/CCiBnQWFgXV/', '/p/B-WETJbJH-2/', '/p/CCia8CaDY71/', '/p/CCioKL9JOcI/', '/p/CCgUHFuHgMi/', '/p/CCioaT3jTi-/', '/p/CCTS2BYh3B3/', '/p/CCioOuUltLf/', '/p/CCiByjEFAeK/', '/p/CCiIvNalotm/', '/p/CCioT2KhTzZ/', '/p/CBFirn9AW2Z/', '/p/CCikv3PlTUC/', '/p/CCioYKWjDAq/', '/p/CCheW5mh0vQ/', '/p/CCiNvwKlmVg/', '/p/CCioXJcH9Ns/', '/p/CCioTyyhHX5/', '/p/CCimiOqFoew/', '/p/CCijjLshwuJ/', '/p/CCiimtShy7d/', '/p/CCiaUFoDZvn/', '/p/CCioXtxHQs2/', '/p/CCilnFuDdaT/', '/p/CCioTgcHFz3/', '/p/CCijG3vFn10/', '/p/CCioSwRJ66v/', '/p/CCYWGdhFtxI/', '/p/CCioPu2F-9p/', '/p/CCgqL-zlLVS/', '/p/CCioHaMpeN1/', '/p/CCioTLlF47M/', '/p/CCinKHPAy_H/', '/p/CCioR9zFPGb/', '/p/CCil2oyFiT7/', '/p/CCgVySVFPsH/', '/p/CCgFP-2j4F3/', '/p/CCiocpwHq4c/', '/p/CCeZTcIHJMu/', '/p/CCinm6ip0vs/', '/p/CCilFwblUGK/', '/p/CCfd1jplYqE/', '/p/CCioJnyjUp0/', '/p/CCioSbyJWRF/', '/p/CCioUSlJPvx/', '/p/CCiXqyjB0ox/', '/p/CCioUCBhiub/', '/p/CCilvVOgBVm/', '/p/CCPZoo1FWYK/', '/p/CCigbMnHjTh/', '/p/CCiivM-BubL/', '/p/CChy71jJMQS/', '/p/CCioSIph3qo/', '/p/CCdVIOfFhcV/', '/p/CCilvp0llwK/', '/p/CCiZBq2nyoW/', '/p/CCinq7jJmFK/', '/p/B3mQO-FlnWl/', '/p/CCioV1sj3ip/', '/p/CCif_P9pJGW/', '/p/CCijenxBki1/', '/p/CChvxl0lPrQ/', '/p/CCilQuqlP7N/', '/p/CCQdKrcgQrr/', '/p/CCioMySgVvD/']\n",
      "총 465 개의 URL 수집\n"
     ]
    }
   ],
   "source": [
    "reallink = list(set(reallink))\n",
    "print(reallink)\n",
    "print(\"총\", len(reallink), \"개의 URL 수집\")"
   ]
  },
  {
   "cell_type": "code",
   "execution_count": null,
   "metadata": {
    "ExecuteTime": {
     "start_time": "2020-07-12T11:56:30.245Z"
    }
   },
   "outputs": [
    {
     "name": "stdout",
     "output_type": "stream",
     "text": [
      "0\n",
      "10\n",
      "20\n",
      "30\n",
      "40\n",
      "50\n",
      "60\n",
      "70\n",
      "80\n",
      "90\n",
      "100\n",
      "110\n",
      "120\n",
      "130\n",
      "140\n",
      "150\n",
      "160\n",
      "170\n",
      "180\n",
      "<urllib.request.Request object at 0x00000200A323AA88> HTTP Error 404: Not Found\n",
      "190\n",
      "200\n",
      "210\n",
      "220\n",
      "230\n",
      "240\n",
      "250\n",
      "260\n"
     ]
    }
   ],
   "source": [
    "csvtext = []\n",
    "\n",
    "for i in range(0, len(reallink)):\n",
    "    if i % 10 == 0:\n",
    "        print(i)\n",
    "    csvtext.append([])\n",
    "    req = Request('https://www.instagram.com/p' + reallink[i], headers={'User-Agent':'Mozilla/5.0'})\n",
    "    \n",
    "    try:\n",
    "        webpage = urlopen(req).read()\n",
    "    except HTTPError:\n",
    "        print(req, 'HTTP Error 404: Not Found')\n",
    "        reallink.remove(reallink[i])\n",
    "        \n",
    "    soup = BeautifulSoup(webpage, 'lxml', from_encoding='utf-8')\n",
    "    soup1 = soup.find('meta', attrs={'property':'og:description'})\n",
    "    \n",
    "    reallink1 = soup1['content']\n",
    "    reallink1 = reallink1[reallink1.find('@') + 1 : reallink1.find(')')]\n",
    "    reallink1 = reallink1[:10]\n",
    "    if reallink1 == '':\n",
    "        reallink1 = 'Null'\n",
    "    csvtext[i].append(reallink1)\n",
    "    \n",
    "    for reallink2 in soup.find_all('meta', attrs={'property':'instapp:hashtags'}):\n",
    "        reallink2 = reallink2['content']\n",
    "        csvtext[i].append(reallink2)"
   ]
  },
  {
   "cell_type": "code",
   "execution_count": null,
   "metadata": {
    "ExecuteTime": {
     "start_time": "2020-07-12T11:56:30.877Z"
    }
   },
   "outputs": [],
   "source": [
    "data = pd.DataFrame(csvtext)\n",
    "data.to_csv(str(search) +'.txt', encoding='utf-8')"
   ]
  },
  {
   "cell_type": "code",
   "execution_count": null,
   "metadata": {
    "ExecuteTime": {
     "start_time": "2020-07-12T11:56:31.335Z"
    },
    "scrolled": true
   },
   "outputs": [],
   "source": [
    "data = pd.read_csv(str(search) +'.txt')\n",
    "data.head()"
   ]
  },
  {
   "cell_type": "code",
   "execution_count": null,
   "metadata": {
    "ExecuteTime": {
     "start_time": "2020-07-12T11:56:31.813Z"
    },
    "scrolled": true
   },
   "outputs": [],
   "source": [
    "img = []\n",
    "date = []\n",
    "\n",
    "for i, v in enumerate(reallink):\n",
    "    if i % 10 == 0:\n",
    "        print(i)\n",
    "    url = 'https://www.instagram.com/'+str(v)\n",
    "    driver.get(url)\n",
    "\n",
    "    while(1):\n",
    "        time.sleep(1)\n",
    "        pageString = driver.page_source \n",
    "        soup = BeautifulSoup(pageString, \"lxml\")\n",
    "        imgs = soup.select('img')[1]\n",
    "        imgs = imgs.attrs['src']\n",
    "        img.append(imgs)\n",
    "        \n",
    "        try :\n",
    "            temp = driver.find_element_by_css_selector(\"time._1o9PC.Nzb55\" ).text\n",
    "            date.append(temp)\n",
    "            print(temp)\n",
    "            driver.find_element_by_class_name(\"coreSpriteRightChevron\").click()\n",
    "\n",
    "        except NoSuchElementException:\n",
    "            break\n",
    "\n",
    "driver.close()\n",
    "print('이미지 주소 수집완료')\n",
    "img = list(set(img))"
   ]
  },
  {
   "cell_type": "code",
   "execution_count": null,
   "metadata": {
    "ExecuteTime": {
     "start_time": "2020-07-12T11:56:32.397Z"
    }
   },
   "outputs": [],
   "source": [
    "n = 0\n",
    "for i, v in enumerate(img):\n",
    "    filename = str(n)+search+date[i]+'.png'\n",
    "    urllib.request.urlretrieve(v, filename)\n",
    "    n += 1\n",
    "print('저장성공')"
   ]
  },
  {
   "cell_type": "code",
   "execution_count": null,
   "metadata": {},
   "outputs": [],
   "source": []
  }
 ],
 "metadata": {
  "kernelspec": {
   "display_name": "Python 3",
   "language": "python",
   "name": "python3"
  },
  "language_info": {
   "codemirror_mode": {
    "name": "ipython",
    "version": 3
   },
   "file_extension": ".py",
   "mimetype": "text/x-python",
   "name": "python",
   "nbconvert_exporter": "python",
   "pygments_lexer": "ipython3",
   "version": "3.7.7"
  },
  "toc": {
   "base_numbering": 1,
   "nav_menu": {},
   "number_sections": false,
   "sideBar": true,
   "skip_h1_title": false,
   "title_cell": "Table of Contents",
   "title_sidebar": "Contents",
   "toc_cell": false,
   "toc_position": {
    "height": "calc(100% - 180px)",
    "left": "10px",
    "top": "150px",
    "width": "255.594px"
   },
   "toc_section_display": true,
   "toc_window_display": true
  }
 },
 "nbformat": 4,
 "nbformat_minor": 4
}
