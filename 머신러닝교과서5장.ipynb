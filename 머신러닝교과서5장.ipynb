{
  "nbformat": 4,
  "nbformat_minor": 0,
  "metadata": {
    "colab": {
      "name": "머신러닝교과서5장.ipynb",
      "provenance": [],
      "collapsed_sections": [],
      "toc_visible": true,
      "authorship_tag": "ABX9TyNsvGzvu7NNg2sqva7zFFOt",
      "include_colab_link": true
    },
    "kernelspec": {
      "name": "python3",
      "display_name": "Python 3"
    }
  },
  "cells": [
    {
      "cell_type": "markdown",
      "metadata": {
        "id": "view-in-github",
        "colab_type": "text"
      },
      "source": [
        "<a href=\"https://colab.research.google.com/github/Jung0Jin/Python_Machine_Learning/blob/master/%EB%A8%B8%EC%8B%A0%EB%9F%AC%EB%8B%9D%EA%B5%90%EA%B3%BC%EC%84%9C5%EC%9E%A5.ipynb\" target=\"_parent\"><img src=\"https://colab.research.google.com/assets/colab-badge.svg\" alt=\"Open In Colab\"/></a>"
      ]
    },
    {
      "cell_type": "markdown",
      "metadata": {
        "id": "4Q_4BZJRHA3T",
        "colab_type": "text"
      },
      "source": [
        "# 5장 차원 축소를 사용한 데이터 압축"
      ]
    },
    {
      "cell_type": "markdown",
      "metadata": {
        "id": "UDDbDs7RHQgt",
        "colab_type": "text"
      },
      "source": [
        "+ 주성분 분석(Principal Component Analysis, PCA)을 사용한 비지도 데이터 압축하기\n",
        "\n",
        "+ 지도 방식의 차원 축소 기법인 선형 판별 분석(Linear Discriminant Analysis, LDA)을 이용하여 클래스 구별 능력 최대화하기\n",
        "\n",
        "+ 커널 PCA(kernel Principal Component Analysis, KPCA)를 사용한 비선형 차원 축소하기"
      ]
    },
    {
      "cell_type": "markdown",
      "metadata": {
        "id": "Qo_zEOTnHpd4",
        "colab_type": "text"
      },
      "source": [
        "## 5.1 주성분 분석을 통한 비지도 차원 축소"
      ]
    },
    {
      "cell_type": "markdown",
      "metadata": {
        "id": "t-qm4vrnKQPI",
        "colab_type": "text"
      },
      "source": [
        "순차 후진 선택 같은 특성 선택 알고리즘을 사용할 때는 원본 특성을 유지하지만 특성 추출은 새로운 특성 공간으로 데이터를 변환하거나 투영한다.\n",
        "\n",
        "차원 축소 관점에서 보면 특성 추출은 대부분의 관련 있는 정보를 유지하면서 데이터를 압축하는 방법으로 이해할 수 있다.\n",
        "\n",
        "특성 추출이 저장 공간을 절약하거나 학습 알고리즘의 계산 효율성을 향상할 뿐만 아니라 차원의 저주 문제를 감소시켜 예측 성능을 향상하기도 한다."
      ]
    },
    {
      "cell_type": "markdown",
      "metadata": {
        "id": "wnhv1FC9H8Xc",
        "colab_type": "text"
      },
      "source": [
        "###5.1.1 주성분 분석의 주요 단계"
      ]
    },
    {
      "cell_type": "markdown",
      "metadata": {
        "id": "DN4TN3KzIZge",
        "colab_type": "text"
      },
      "source": [
        "PCA는 특성 사이의 상관관계를 기반으로 하여 데이터에 있는 특성을 잡아낼 수 있다.\n",
        "\n",
        "PCA는 고차원 데이터에서 분산이 가장 큰 방향을 찾고 좀 더 작거나 같은 수의 차원을 갖는 새로운 부분 공간으로 이를 투영한다.\n",
        "\n",
        "새로운 부분 공간의 직교 좌표(주성분(principal component))는 주어진 조건하에서 분산이 최대인 방향으로 해석할 수 있다.\n",
        "\n",
        "PCA를 사용하여 차원을 축소하기 위해 d x k 차원의 변환 행렬 W를 만든다. 이 행렬로 샘플 벡터 $x$를 새로운 k 차원의 특성 부분 공간으로 매핑한다.\n",
        "\n",
        "원본은 d 차원 새로운 특성 부분 공간은 k 차원이 되는 것이다.\n",
        "\n",
        "변환하여 만들어진 첫번째 주성분이 가장 큰 분산을 가질 것이다. 모든 주성분은 다른 주성분들과 상관관계가 없다는(직교한다는) 제약하에 가장 큰 분산을 가진다.\n",
        "\n",
        "PCA 방향은 데이터 스케일에 매우 민감하니 특성의 스케일이 다르고 모든 특성의 중요도를 동일하게 취급하려면 PCA를 적용하기 전에 특성을 표준화 전처리해야 한다.\n",
        "\n",
        "PCA 전에 사용해야 하는 것들\n",
        "\n",
        "1. d차원 데이터셋을 표준화 전처리한다.\n",
        "\n",
        "2. 공분산 행렬(covariance matrix)을 만든다.\n",
        "\n",
        "3. 공분산 행렬을 고유 벡터(eigenvector)와 고윳값(eigenvalue)으로 분해한다.\n",
        "\n",
        "4. 고윳값을 내림차순으로 정렬하고 그에 해당하는 고유 벡터의 순위를 매긴다.\n",
        "\n",
        "5. 고윳값이 가장 큰 k개의 고유 벡터를 선택한다. \n",
        "\n",
        "6. 최상위 k개의 고유 벡터로 투영 행렬(projection matrix) W를 만든다.\n",
        "\n",
        "7. 투영 행렬 W를 사용해서 d 차원 입력 데이터셋 X를 새로운 k 차원의 특성 부분 공간으로 변환한다."
      ]
    },
    {
      "cell_type": "markdown",
      "metadata": {
        "id": "GiI_Xn4-Ner2",
        "colab_type": "text"
      },
      "source": [
        "###5.1.2 주성분 추출 단계"
      ]
    },
    {
      "cell_type": "markdown",
      "metadata": {
        "id": "stc7AkZrNqub",
        "colab_type": "text"
      },
      "source": [
        "1. 데이터를 표쥰화 전처리한다.\n",
        "\n",
        "2. 공분산 행렬을 구성한다.\n",
        "\n",
        "3. 공분산 행렬의 고윳값과 고유 벡터를 구한다.\n",
        "\n",
        "4. 고윳값을 내림차순으로 정렬하여 고유 벡터의 순위를 매긴다."
      ]
    },
    {
      "cell_type": "code",
      "metadata": {
        "id": "iTBRQWFUG4x9",
        "colab_type": "code",
        "colab": {}
      },
      "source": [
        "import pandas as pd\n",
        "df_wine = pd.read_csv('https://archive.ics.uci.edu/ml/machine-learning-databases/wine/wine.data', header=None)"
      ],
      "execution_count": 0,
      "outputs": []
    },
    {
      "cell_type": "code",
      "metadata": {
        "id": "TMKUqtNhONMC",
        "colab_type": "code",
        "colab": {}
      },
      "source": [
        "from sklearn.model_selection import train_test_split\n",
        "X, y = df_wine.iloc[:, 1:].values, df_wine.iloc[:, 0].values\n",
        "X_train, X_test, y_train, y_test = train_test_split(X, y, test_size=0.3,\n",
        "                                                    stratify=y,\n",
        "                                                    random_state=0)"
      ],
      "execution_count": 0,
      "outputs": []
    },
    {
      "cell_type": "code",
      "metadata": {
        "id": "5cHxWKDhO2-h",
        "colab_type": "code",
        "colab": {}
      },
      "source": [
        "from sklearn.preprocessing import StandardScaler\n",
        "sc = StandardScaler()\n",
        "X_train_std = sc.fit_transform(X_train)\n",
        "X_test_std = sc.transform(X_test)"
      ],
      "execution_count": 0,
      "outputs": []
    },
    {
      "cell_type": "code",
      "metadata": {
        "id": "ZEZRvucqPEh2",
        "colab_type": "code",
        "outputId": "38c1f015-8d20-4a07-fa4e-a3218cb55a37",
        "colab": {
          "base_uri": "https://localhost:8080/",
          "height": 53
        }
      },
      "source": [
        "import numpy as np\n",
        "cov_mat = np.cov(X_train_std.T) # 표준화 전처리된 훈련 데이터셋의 공분산 행렬 계산하기\n",
        "eigen_vals, eigen_vecs = np.linalg.eig(cov_mat) # 고윳값 분해 수행하기\n",
        "print(f'고유값 {eigen_vals}') # eigen_vals : 13개의 고윳값이 들어 있는 벡터, eigen_vecs : 각 고유값에 대응하는 고유 벡터가 열에 저장된 13x13차원의 행렬"
      ],
      "execution_count": 149,
      "outputs": [
        {
          "output_type": "stream",
          "text": [
            "고유값 [4.8427 2.416  1.5485 0.9612 0.8417 0.6621 0.5183 0.3465 0.3131 0.1075\n",
            " 0.2136 0.1536 0.1809]\n"
          ],
          "name": "stdout"
        }
      ]
    },
    {
      "cell_type": "markdown",
      "metadata": {
        "id": "GqtK4AcRQ__i",
        "colab_type": "text"
      },
      "source": [
        "###5.1.3 총분산과 설명된 분산"
      ]
    },
    {
      "cell_type": "markdown",
      "metadata": {
        "id": "O9wUJ63f1uFO",
        "colab_type": "text"
      },
      "source": [
        "데이터셋 차원을 새로운 특성 부분 공간으로 압축하여 줄여야 하기에 가장 많은 정보(분산)을 가진 고유 벡터(주성분) 일부만 선택한다."
      ]
    },
    {
      "cell_type": "code",
      "metadata": {
        "id": "FbwcpW6aP3H9",
        "colab_type": "code",
        "colab": {}
      },
      "source": [
        "tot = sum(eigen_vals)\n",
        "var_exp = [(i / tot) for i in\n",
        "           sorted(eigen_vals, reverse=True)]"
      ],
      "execution_count": 0,
      "outputs": []
    },
    {
      "cell_type": "code",
      "metadata": {
        "id": "fKmvINWF2CXW",
        "colab_type": "code",
        "colab": {}
      },
      "source": [
        "cum_ver_exp = np.cumsum(var_exp) # 분산의 누적 합 계산"
      ],
      "execution_count": 0,
      "outputs": []
    },
    {
      "cell_type": "code",
      "metadata": {
        "id": "VnQQwSz32IW3",
        "colab_type": "code",
        "colab": {}
      },
      "source": [
        "import matplotlib.pyplot as plt"
      ],
      "execution_count": 0,
      "outputs": []
    },
    {
      "cell_type": "code",
      "metadata": {
        "id": "V0dGQVcC2KEj",
        "colab_type": "code",
        "colab": {
          "base_uri": "https://localhost:8080/",
          "height": 297
        },
        "outputId": "ef6268b5-9c03-49e3-c471-a94928f0d14f"
      },
      "source": [
        "plt.bar(range(1, 14), var_exp, alpha=0.5, align='center',\n",
        "        label = 'individual explained variance')\n",
        "plt.step(range(1, 14), cum_ver_exp, where='mid',\n",
        "         label = 'cumulative explained variance')\n",
        "plt.ylabel('Explained variance ratio')\n",
        "plt.xlabel('Principal component index')\n",
        "plt.legend(loc='best')\n",
        "plt.tight_layout()\n",
        "plt.show()"
      ],
      "execution_count": 153,
      "outputs": [
        {
          "output_type": "display_data",
          "data": {
            "image/png": "[encoded data removed]",
            "text/plain": [
              "<Figure size 432x288 with 1 Axes>"
            ]
          },
          "metadata": {
            "tags": [],
            "needs_background": "light"
          }
        }
      ]
    },
    {
      "cell_type": "markdown",
      "metadata": {
        "id": "XuqZBain3tOt",
        "colab_type": "text"
      },
      "source": [
        "랜덤 포레스트의 특성 중요도 : 클래스 소속 정보를 사용하여 노드의 불순도를 계산한다.\n",
        "\n",
        "PCA : 비지도 학습 데이터의 분산, 특성 축을 따라 값들이 퍼진 정도를 측정한다."
      ]
    },
    {
      "cell_type": "markdown",
      "metadata": {
        "id": "DhRiKEFN382c",
        "colab_type": "text"
      },
      "source": [
        "###5.1.4 특성 변환"
      ]
    },
    {
      "cell_type": "markdown",
      "metadata": {
        "id": "nGHApZbi4Mcr",
        "colab_type": "text"
      },
      "source": [
        "1. 고윳값이 가장 큰 k개의 고유 벡터를 선택하여 새로운 특성 부분 공간을 만들거다.\n",
        "\n",
        "2. 최상위 k개의 고유 벡터로 투영 행렬 W를 만든다.\n",
        "\n",
        "3. 투영 행렬 W를 사용해서 d차원 입력 데이터셋 X를 새로운 k차원의 특성 부분 공간으로 변환한다."
      ]
    },
    {
      "cell_type": "code",
      "metadata": {
        "id": "1x5vG_yV2vJP",
        "colab_type": "code",
        "colab": {}
      },
      "source": [
        "# (고윳값, 고유 벡터) 튜플의 리스트를 만들자.\n",
        "eigen_pairs = [(np.abs(eigen_vals[i]), eigen_vecs[:, i]) for i in range(len(eigen_vals))]\n",
        "# 높은 값에서 낮은 값으로 (고윳값, 고유 벡터) 튜플을 정렬하자.\n",
        "eigen_pairs.sort(key=lambda k: k[0], reverse=True)"
      ],
      "execution_count": 0,
      "outputs": []
    },
    {
      "cell_type": "code",
      "metadata": {
        "id": "stHoy3KF5DnG",
        "colab_type": "code",
        "colab": {
          "base_uri": "https://localhost:8080/",
          "height": 269
        },
        "outputId": "a4264f3e-4013-4356-983e-0a5fd12a459c"
      },
      "source": [
        "# 가장 큰 두 개의 고윳값에 해당하는 고유 벡터를 선택하자.\n",
        "w = np.hstack((eigen_pairs[0][1][:, np.newaxis],\n",
        "               eigen_pairs[1][1][:, np.newaxis]))\n",
        "print(f'투영 행렬 W : \\n{w}')"
      ],
      "execution_count": 155,
      "outputs": [
        {
          "output_type": "stream",
          "text": [
            "투영 행렬 W : \n",
            "[[-0.1372  0.503 ]\n",
            " [ 0.2472  0.1649]\n",
            " [-0.0255  0.2446]\n",
            " [ 0.2069 -0.1135]\n",
            " [-0.1544  0.2897]\n",
            " [-0.3938  0.0508]\n",
            " [-0.4174 -0.0229]\n",
            " [ 0.3057  0.0905]\n",
            " [-0.3067  0.0084]\n",
            " [ 0.0755  0.5498]\n",
            " [-0.3261 -0.2072]\n",
            " [-0.3686 -0.249 ]\n",
            " [-0.2967  0.3802]]\n"
          ],
          "name": "stdout"
        }
      ]
    },
    {
      "cell_type": "code",
      "metadata": {
        "id": "gFVv9ukY5a-y",
        "colab_type": "code",
        "colab": {
          "base_uri": "https://localhost:8080/",
          "height": 35
        },
        "outputId": "a7d27c3a-4b19-4503-db9b-980f25d102a3"
      },
      "source": [
        "X_train_std[0].dot(w)"
      ],
      "execution_count": 156,
      "outputs": [
        {
          "output_type": "execute_result",
          "data": {
            "text/plain": [
              "array([2.383 , 0.4546])"
            ]
          },
          "metadata": {
            "tags": []
          },
          "execution_count": 156
        }
      ]
    },
    {
      "cell_type": "code",
      "metadata": {
        "id": "y-PKXJmL5n6z",
        "colab_type": "code",
        "colab": {}
      },
      "source": [
        "X_train_pca = X_train_std.dot(w)"
      ],
      "execution_count": 0,
      "outputs": []
    },
    {
      "cell_type": "code",
      "metadata": {
        "id": "NwsNW9557CBa",
        "colab_type": "code",
        "colab": {
          "base_uri": "https://localhost:8080/",
          "height": 297
        },
        "outputId": "10c9697c-a604-4adc-a5c5-967d8f7108b5"
      },
      "source": [
        "colors = ['r', 'b', 'g']\n",
        "markers = ['s', 'x', 'o']\n",
        "for l, c, m in zip(np.unique(y_train), colors, markers):\n",
        "  plt.scatter(X_train_pca[y_train==l, 0],\n",
        "              X_train_pca[y_train==l, 1],\n",
        "              c=c, label=l, marker=m)\n",
        "plt.xlabel('PC 1')\n",
        "plt.ylabel('PC 2')\n",
        "plt.legend(loc = 'lower left')\n",
        "plt.tight_layout()\n",
        "plt.show()"
      ],
      "execution_count": 158,
      "outputs": [
        {
          "output_type": "display_data",
          "data": {
            "image/png": "[encoded data removed]",
            "text/plain": [
              "<Figure size 432x288 with 1 Axes>"
            ]
          },
          "metadata": {
            "tags": [],
            "needs_background": "light"
          }
        }
      ]
    },
    {
      "cell_type": "markdown",
      "metadata": {
        "id": "IQmcJseX9Iuq",
        "colab_type": "text"
      },
      "source": [
        "x축은 첫번째 주성분, y축은 두번째 주성분이다. x축을 따라 더 넓게 퍼져 있는 것을 알 수 있다.\n",
        "\n",
        "산점도를 그리기 위한 목적으로 클래스 레이블 정보를 인코딩했지만 PCA는 비지도 학습 기법이라는 것을 기억하자."
      ]
    },
    {
      "cell_type": "markdown",
      "metadata": {
        "id": "gJ_zCp589hqC",
        "colab_type": "text"
      },
      "source": [
        "###5.1.5 사이킷런의 주성분 분석"
      ]
    },
    {
      "cell_type": "code",
      "metadata": {
        "id": "gzhdMXrS9CYu",
        "colab_type": "code",
        "colab": {}
      },
      "source": [
        "from matplotlib.colors import ListedColormap"
      ],
      "execution_count": 0,
      "outputs": []
    },
    {
      "cell_type": "code",
      "metadata": {
        "id": "4ronXo13915q",
        "colab_type": "code",
        "colab": {}
      },
      "source": [
        "def plot_decision_regions(X, y, classifier, resolution=0.02):\n",
        "\n",
        "  # 마커와 컬러맵 준비\n",
        "  markers = ('s', 'x', 'o', '^', 'v')\n",
        "  colors = ('red', 'blue', 'lightgreen', 'gray', 'cyan')\n",
        "  cmap = ListedColormap(colors[:len(np.unique(y))])\n",
        "\n",
        "  # 결정 경계를 그리자\n",
        "  x1_min, x1_max = X[:, 0].min() - 1 , X[:, 0].max() + 1\n",
        "  x2_min, x2_max = X[:, 1].min() - 1 , X[:, 1].max() + 1\n",
        "  xx1, xx2 = np.meshgrid(np.arange(x1_min, x1_max, resolution),\n",
        "                         np.arange(x2_min, x2_max, resolution))\n",
        "  Z = classifier.predict(np.array([xx1.ravel(), xx2.ravel()]).T)\n",
        "  Z = Z.reshape(xx1.shape)\n",
        "  plt.contourf(xx1, xx2, Z, alpha=0.4, cmap=cmap)\n",
        "  plt.xlim(xx1.min(), xx1.max())\n",
        "  plt.ylim(xx2.min(), xx2.max())\n",
        "\n",
        "  # 클래스 샘플을 표시하자.\n",
        "  for idx, cl in enumerate(np.unique(y)):\n",
        "    plt.scatter(x=X[y == cl, 0],\n",
        "                y=X[y == cl, 1],\n",
        "                alpha=0.6,\n",
        "                c=cmap.colors[idx],\n",
        "                edgecolor='black',\n",
        "                marker=markers[idx],\n",
        "                label=cl)  "
      ],
      "execution_count": 0,
      "outputs": []
    },
    {
      "cell_type": "code",
      "metadata": {
        "id": "6SVaJDaa_SOM",
        "colab_type": "code",
        "colab": {}
      },
      "source": [
        "from sklearn.linear_model import LogisticRegression\n",
        "from sklearn.decomposition import PCA\n",
        "pca = PCA(n_components=2)\n",
        "X_train_pca = pca.fit_transform(X_train_std)\n",
        "X_test_pca = pca.transform(X_test_std)"
      ],
      "execution_count": 0,
      "outputs": []
    },
    {
      "cell_type": "code",
      "metadata": {
        "id": "A0HUKF0f_msR",
        "colab_type": "code",
        "colab": {
          "base_uri": "https://localhost:8080/",
          "height": 107
        },
        "outputId": "257616b7-1631-4470-ca99-e185a732724f"
      },
      "source": [
        "lr = LogisticRegression(solver='liblinear', multi_class='auto')\n",
        "lr.fit(X_train_pca, y_train)"
      ],
      "execution_count": 162,
      "outputs": [
        {
          "output_type": "execute_result",
          "data": {
            "text/plain": [
              "LogisticRegression(C=1.0, class_weight=None, dual=False, fit_intercept=True,\n",
              "                   intercept_scaling=1, l1_ratio=None, max_iter=100,\n",
              "                   multi_class='auto', n_jobs=None, penalty='l2',\n",
              "                   random_state=None, solver='liblinear', tol=0.0001, verbose=0,\n",
              "                   warm_start=False)"
            ]
          },
          "metadata": {
            "tags": []
          },
          "execution_count": 162
        }
      ]
    },
    {
      "cell_type": "code",
      "metadata": {
        "id": "W4hemccJ_1N0",
        "colab_type": "code",
        "colab": {
          "base_uri": "https://localhost:8080/",
          "height": 297
        },
        "outputId": "5ab8f68f-6f87-42aa-b91c-16d0f9a59991"
      },
      "source": [
        "plot_decision_regions(X_train_pca, y_train, classifier=lr)\n",
        "plt.xlabel('PC 1')\n",
        "plt.ylabel('PC 2')\n",
        "plt.legend(loc='lower left')\n",
        "plt.tight_layout()\n",
        "plt.show()"
      ],
      "execution_count": 163,
      "outputs": [
        {
          "output_type": "display_data",
          "data": {
            "image/png": "[encoded data removed]",
            "text/plain": [
              "<Figure size 432x288 with 1 Axes>"
            ]
          },
          "metadata": {
            "tags": [],
            "needs_background": "light"
          }
        }
      ]
    },
    {
      "cell_type": "code",
      "metadata": {
        "id": "cNlBivF7ACcx",
        "colab_type": "code",
        "colab": {
          "base_uri": "https://localhost:8080/",
          "height": 297
        },
        "outputId": "1980e88b-620e-4674-a2e5-afa0acd42c38"
      },
      "source": [
        "plot_decision_regions(X_test_pca, y_test, classifier=lr)\n",
        "plt.xlabel('PC 1')\n",
        "plt.ylabel('PC 2')\n",
        "plt.legend(loc = 'lower left')\n",
        "plt.tight_layout()\n",
        "plt.show()"
      ],
      "execution_count": 164,
      "outputs": [
        {
          "output_type": "display_data",
          "data": {
            "image/png": "[encoded data removed]",
            "text/plain": [
              "<Figure size 432x288 with 1 Axes>"
            ]
          },
          "metadata": {
            "tags": [],
            "needs_background": "light"
          }
        }
      ]
    },
    {
      "cell_type": "code",
      "metadata": {
        "id": "Q9hTJS_3BbFE",
        "colab_type": "code",
        "colab": {
          "base_uri": "https://localhost:8080/",
          "height": 53
        },
        "outputId": "872f61d9-2376-4b16-fdab-206f5c28ff49"
      },
      "source": [
        "# 전체 주성분의 설명된 분산 비율 알기\n",
        "pca = PCA(n_components=None)\n",
        "X_train_pca = pca.fit_transform(X_train_std)\n",
        "pca.explained_variance_ratio_"
      ],
      "execution_count": 165,
      "outputs": [
        {
          "output_type": "execute_result",
          "data": {
            "text/plain": [
              "array([0.3695, 0.1843, 0.1182, 0.0733, 0.0642, 0.0505, 0.0395, 0.0264,\n",
              "       0.0239, 0.0163, 0.0138, 0.0117, 0.0082])"
            ]
          },
          "metadata": {
            "tags": []
          },
          "execution_count": 165
        }
      ]
    },
    {
      "cell_type": "markdown",
      "metadata": {
        "id": "AwfhqEKYBx1Z",
        "colab_type": "text"
      },
      "source": [
        "##5.2 선형 판별 분석을 통한 지도 방식의 데이터 압축"
      ]
    },
    {
      "cell_type": "markdown",
      "metadata": {
        "id": "ZGsT92IfB5ww",
        "colab_type": "text"
      },
      "source": [
        "선형 판별 분석(Linear Discriminant Analysis, LDA)은 규제가 없는 모델에서 차원의 저주로 인한 과대적합 정도를 줄이고 계산 효율성을 높이기 위한 특성 추출의 기법이다.\n",
        "\n",
        "PCA : 데이터셋에 있는 분산이 최대인 직교 성분 축을 찾는다.\n",
        "\n",
        "LDA : 클래스를 최적으로 구분할 수 있는 특성 부분 공간을 찾는다."
      ]
    },
    {
      "cell_type": "markdown",
      "metadata": {
        "id": "coKMU3cvCLvR",
        "colab_type": "text"
      },
      "source": [
        "###5.2.1 주성분 분석 vs 선형 판별 분석"
      ]
    },
    {
      "cell_type": "markdown",
      "metadata": {
        "id": "ENJDz9_tCSui",
        "colab_type": "text"
      },
      "source": [
        "PCA와 LDA 모두 데이터셋의 차원 개수를 줄일 수 있는 선형 변환 기법이다.\n",
        "\n",
        "PCA : 비지도 학습, LDA : 지도 학습"
      ]
    },
    {
      "cell_type": "markdown",
      "metadata": {
        "id": "zJw1LWDmCzeQ",
        "colab_type": "text"
      },
      "source": [
        "###5.2.2 선형 판별 분석의 내부 동작 방식"
      ]
    },
    {
      "cell_type": "markdown",
      "metadata": {
        "id": "gwq5oJhpC5iA",
        "colab_type": "text"
      },
      "source": [
        "LDA 수행에 필요한 주요 단계\n",
        "\n",
        "1. d차원의 데이터셋을 표준화 전처리한다.\n",
        "\n",
        "2. 각 클래스에 대해 d차원의 평균 벡터를 계산한다.\n",
        "\n",
        "3. 클래스 간의 산포 행렬(scatter matrix) 과 클래스 내 산포 행렬을 구성한다.\n",
        "\n",
        "4. 두 행렬의 고유 벡터와 고윳값을 계산한다.\n",
        "\n",
        "5. 고윳값을 내림차순으로 정렬하여 고유 벡터의 순서를 매긴다.\n",
        "\n",
        "6. 고윳값이 가장 큰 k개의 고유 벡터를 선택하여 d x k 차원의 변환 행렬 W를 구성한다. 이 행렬의 열이 고유 벡터다\n",
        "\n",
        "7. 변환 행렬 W를 사용하여 샘플을 새로운 특성 부분 공간으로 투영한다.\n",
        "\n",
        "행렬을 고윳값과 고유 벡터로 분해하여 새로운 저차원 특성 공간을 구성한다는 점에서 PCA와 유사하다. 단계 2에서 계싼하는 평균 벡터를 만드는 데 클래스 레이블 정보를 사용하는 것이 차이점이다."
      ]
    },
    {
      "cell_type": "markdown",
      "metadata": {
        "id": "VtaTs5aTD88a",
        "colab_type": "text"
      },
      "source": [
        "###5.2.3 산포 행렬 계산"
      ]
    },
    {
      "cell_type": "code",
      "metadata": {
        "id": "GzVZ-5QHBmFp",
        "colab_type": "code",
        "colab": {
          "base_uri": "https://localhost:8080/",
          "height": 125
        },
        "outputId": "50f513ea-ab0f-4b25-e87d-084419657c7d"
      },
      "source": [
        "# 평균 벡터를 사용하여 클래스 간의 산포 행렬과 클래스 내 산포 행렬을 구성하자.\n",
        "np.set_printoptions(precision=4)\n",
        "mean_vecs = []\n",
        "for label in range(1, 4):\n",
        "  mean_vecs.append(np.mean(X_train_std[y_train==label], axis=0))\n",
        "  print(f'MV {label} : {mean_vecs[label-1]}')"
      ],
      "execution_count": 166,
      "outputs": [
        {
          "output_type": "stream",
          "text": [
            "MV 1 : [ 0.9066 -0.3497  0.3201 -0.7189  0.5056  0.8807  0.9589 -0.5516  0.5416\n",
            "  0.2338  0.5897  0.6563  1.2075]\n",
            "MV 2 : [-0.8749 -0.2848 -0.3735  0.3157 -0.3848 -0.0433  0.0635 -0.0946  0.0703\n",
            " -0.8286  0.3144  0.3608 -0.7253]\n",
            "MV 3 : [ 0.1992  0.866   0.1682  0.4148 -0.0451 -1.0286 -1.2876  0.8287 -0.7795\n",
            "  0.9649 -1.209  -1.3622 -0.4013]\n"
          ],
          "name": "stdout"
        }
      ]
    },
    {
      "cell_type": "code",
      "metadata": {
        "id": "NHZRPfb5EgxL",
        "colab_type": "code",
        "colab": {
          "base_uri": "https://localhost:8080/",
          "height": 35
        },
        "outputId": "5e4ac232-9704-4ebe-acb4-026869b580fd"
      },
      "source": [
        "# 평균 벡터를 사용하여 클래스 내 산포행렬을 계산하고, 이 행렬의 개별 클래스 i의 산포 행렬을 더하여 구하자.\n",
        "d = 13 # 특성 개수\n",
        "S_W = np.zeros((d,d))\n",
        "for label, mv in zip(range(1,4), mean_vecs):\n",
        "  class_scatter = np.zeros((d,d))\n",
        "  for row in X_train_std[y_train == label]:\n",
        "    row, mv = row.reshape(d, 1), mv.reshape(d, 1)\n",
        "    class_scatter += (row - mv).dot((row - mv).T)\n",
        "  S_W += class_scatter\n",
        "print(f'클래스 내의 산포 행렬 : {S_W.shape[0], S_W.shape[1]}')"
      ],
      "execution_count": 167,
      "outputs": [
        {
          "output_type": "stream",
          "text": [
            "클래스 내의 산포 행렬 : (13, 13)\n"
          ],
          "name": "stdout"
        }
      ]
    },
    {
      "cell_type": "code",
      "metadata": {
        "id": "XryjxxbyZjoO",
        "colab_type": "code",
        "colab": {
          "base_uri": "https://localhost:8080/",
          "height": 35
        },
        "outputId": "2d553cdc-b933-4ec5-d5bb-2b2dcf76ae2e"
      },
      "source": [
        "print(f'클래스 레이블 분포 : {np.bincount(y_train)[1:]}')"
      ],
      "execution_count": 168,
      "outputs": [
        {
          "output_type": "stream",
          "text": [
            "클래스 레이블 분포 : [41 50 33]\n"
          ],
          "name": "stdout"
        }
      ]
    },
    {
      "cell_type": "code",
      "metadata": {
        "id": "gTdfgzEkZs0r",
        "colab_type": "code",
        "colab": {
          "base_uri": "https://localhost:8080/",
          "height": 35
        },
        "outputId": "b8bffd6f-653c-48d8-9800-370ca87eec22"
      },
      "source": [
        "# 개별 산포 행렬을 산포 행렬로 모두 더하기 전에 스케일 조정을 해야 한다.\n",
        "d = 13 # 특성 개수\n",
        "S_W = np.zeros((d,d))\n",
        "for label, mv in zip(range(1,4), mean_vecs):\n",
        "  class_scatter = np.cov(X_train_std[y_train==label].T, bias=True)\n",
        "  S_W += class_scatter\n",
        "print(f'스케일 조정된 클래스 내의 산포 행렬 : {S_W.shape[0], S_W.shape[1]}')"
      ],
      "execution_count": 169,
      "outputs": [
        {
          "output_type": "stream",
          "text": [
            "스케일 조정된 클래스 내의 산포 행렬 : (13, 13)\n"
          ],
          "name": "stdout"
        }
      ]
    },
    {
      "cell_type": "code",
      "metadata": {
        "id": "YkhCt6q3aQnG",
        "colab_type": "code",
        "colab": {
          "base_uri": "https://localhost:8080/",
          "height": 35
        },
        "outputId": "9c664857-a042-44c2-9c3c-faf2ba4ab54c"
      },
      "source": [
        "# 클래스 내 산포 행렬(또는 공분산 행렬)을 계산한 후 다음 단계로 넘어가 클래스 간의 산포 행렬을 계산하자.\n",
        "mean_overall = np.mean(X_train_std, axis=0)\n",
        "mean_overall = mean_overall.reshape(d, 1) # 열 벡터로 만들기\n",
        "d = 13 # 특성 개수\n",
        "S_B = np.zeros((d,d))\n",
        "for i, mean_vec in enumerate(mean_vecs):\n",
        "  n = X_train[y_train == i+1, :].shape[0]\n",
        "  mean_vec = mean_vec.reshape(d,1) # 열 벡터로 만들기\n",
        "  S_B += n * (mean_vec - mean_overall).dot(\n",
        "      (mean_vec - mean_overall).T)\n",
        "print(f'클래스 간의 산포 행렬 : {S_B.shape[0], S_B.shape[1]}')"
      ],
      "execution_count": 170,
      "outputs": [
        {
          "output_type": "stream",
          "text": [
            "클래스 간의 산포 행렬 : (13, 13)\n"
          ],
          "name": "stdout"
        }
      ]
    },
    {
      "cell_type": "markdown",
      "metadata": {
        "id": "odCSXsGnbW6i",
        "colab_type": "text"
      },
      "source": [
        "###5.2.4 새로운 특성 부분 공간을 위해 선형 판별 벡터 선택"
      ]
    },
    {
      "cell_type": "code",
      "metadata": {
        "id": "uppij1robVMl",
        "colab_type": "code",
        "colab": {
          "base_uri": "https://localhost:8080/",
          "height": 269
        },
        "outputId": "84531828-b149-4c3a-9ac5-c2ec3d67f952"
      },
      "source": [
        "# 공분산 행렬에 대한 고윳값 분해를 수행하는 대신 행렬의 고유값을 계산하자\n",
        "eigen_vals, eigen_vecs = np.linalg.eig(np.linalg.inv(S_W).dot(S_B))\n",
        "\n",
        "# 고유 벡터와 고윳값 쌍을 계산한 후 내림차순으로 고윳값을 정렬하자.\n",
        "eigen_pairs = [(np.abs(eigen_vals[i]), eigen_vecs[:, i]) for i in range(len(eigen_vals))]\n",
        "eigen_pairs = sorted(eigen_pairs, key=lambda k: k[0], reverse=True)\n",
        "\n",
        "print(f'내림차순의 고윳값')\n",
        "for eigen_val in eigen_pairs:\n",
        "  print(eigen_val[0])"
      ],
      "execution_count": 171,
      "outputs": [
        {
          "output_type": "stream",
          "text": [
            "내림차순의 고윳값\n",
            "358.0042070133659\n",
            "177.07768640666225\n",
            "2.842170943040401e-14\n",
            "2.2513016031041443e-14\n",
            "1.800270811737676e-14\n",
            "1.800270811737676e-14\n",
            "1.578515719598725e-14\n",
            "1.3662940131811948e-14\n",
            "1.3662940131811948e-14\n",
            "9.798790178197109e-15\n",
            "9.798790178197109e-15\n",
            "2.90135780637586e-15\n",
            "9.905045812450375e-16\n"
          ],
          "name": "stdout"
        }
      ]
    },
    {
      "cell_type": "markdown",
      "metadata": {
        "id": "muM2gjq2cVwj",
        "colab_type": "text"
      },
      "source": [
        "LDA에서 선형 판별 벡터는 최대 c-1개다. c는 클래스 레이블의 개수이다.\n",
        "\n",
        "클래스 내 산포 행렬이 랭크(rank) 1 또는 그 이하인 c개의 행렬을 한한 것이기 때문이다. 클래스별 평균 벡터인 mean_vec을 (13, 1) 크기의 열 벡터로 만든 후 외적을 하여 (13, 13) 행렬을 만들었다. 이 행렬은 행과 열이 같은 배수로 증가하기 때문에 최대 랭크가 1이다. 마지막 클래스의 평균 벡터는 다른 클래스의 평균 벡터에 종속적이므로 전체 산포 행렬의 랭크는 c-1이 된다.\n",
        "\n",
        "드물게 완벽하게 공선성을 가지는 경우(모든 샘플이 동일 선상에 위치한 경우) 공분산 행렬의 랭크는 1이다. 이때는 0이 아닌 고윳값을 가진 고유 벡터가 하나만 만들어진다."
      ]
    },
    {
      "cell_type": "code",
      "metadata": {
        "id": "tWISea84cCSW",
        "colab_type": "code",
        "colab": {
          "base_uri": "https://localhost:8080/",
          "height": 297
        },
        "outputId": "9de07baf-5d76-4d44-9ec9-0bef9d656af7"
      },
      "source": [
        "tot = sum(eigen_vals.real)\n",
        "discr = [(i / tot) for i in sorted(eigen_vals.real, reverse=True)]\n",
        "cum_discr = np.cumsum(discr)\n",
        "plt.bar(range(1,14), discr, alpha=0.5, align='center',\n",
        "        label='individual \"discriminability\"')\n",
        "plt.step(range(1,14), cum_discr, where='mid',\n",
        "         label='cumulative \"discriminability\"')\n",
        "plt.ylabel('\"discriminability\" ratio')\n",
        "plt.xlabel('Linear Discriminants')\n",
        "plt.ylim([-0.1, 1.1])\n",
        "plt.legend(loc='best')\n",
        "plt.tight_layout()\n",
        "plt.show()"
      ],
      "execution_count": 172,
      "outputs": [
        {
          "output_type": "display_data",
          "data": {
            "image/png": "[encoded data removed]",
            "text/plain": [
              "<Figure size 432x288 with 1 Axes>"
            ]
          },
          "metadata": {
            "tags": [],
            "needs_background": "light"
          }
        }
      ]
    },
    {
      "cell_type": "markdown",
      "metadata": {
        "id": "y2kIwcvjetTp",
        "colab_type": "text"
      },
      "source": [
        "처음 두 개의 선형 판별 벡터가 Wine 데이터셋 에 있는 정보 중 거의 100%를 잡아낸다.\n",
        "\n",
        "두 개의 판별 고유 벡터를 열로 쌓아서 변환 행렬 W를 만들어 보자."
      ]
    },
    {
      "cell_type": "code",
      "metadata": {
        "id": "RsxHj_Q5ehzN",
        "colab_type": "code",
        "colab": {
          "base_uri": "https://localhost:8080/",
          "height": 269
        },
        "outputId": "61409b02-edfb-4410-ee0a-393865711fe1"
      },
      "source": [
        "w = np.hstack((eigen_pairs[0][1][:, np.newaxis].real,\n",
        "               eigen_pairs[1][1][:, np.newaxis].real))\n",
        "print(f'행렬 W: \\n {w}')"
      ],
      "execution_count": 173,
      "outputs": [
        {
          "output_type": "stream",
          "text": [
            "행렬 W: \n",
            " [[-0.1484 -0.4093]\n",
            " [ 0.091  -0.1583]\n",
            " [-0.0168 -0.3536]\n",
            " [ 0.1487  0.322 ]\n",
            " [-0.0165 -0.0813]\n",
            " [ 0.1912  0.0841]\n",
            " [-0.7333  0.2828]\n",
            " [-0.0751 -0.0099]\n",
            " [ 0.002   0.0902]\n",
            " [ 0.2953 -0.2168]\n",
            " [-0.0327  0.274 ]\n",
            " [-0.3539 -0.0133]\n",
            " [-0.3918 -0.5954]]\n"
          ],
          "name": "stdout"
        }
      ]
    },
    {
      "cell_type": "markdown",
      "metadata": {
        "id": "1hBjzfhmfIjS",
        "colab_type": "text"
      },
      "source": [
        "###5.2.5 새로운 특성 공간으로 샘플 투영"
      ]
    },
    {
      "cell_type": "code",
      "metadata": {
        "id": "96l7ZHBtfEWJ",
        "colab_type": "code",
        "colab": {
          "base_uri": "https://localhost:8080/",
          "height": 297
        },
        "outputId": "206b3846-1dc0-4b20-e4c1-d941b6c9c78d"
      },
      "source": [
        "X_train_lda = X_train_std.dot(w)\n",
        "colors = ['r', 'b', 'g']\n",
        "markers = ['s', 'x', 'o']\n",
        "for l, c, m in zip(np.unique(y_train), colors, markers):\n",
        "  plt.scatter(X_train_lda[y_train==l, 0],\n",
        "              X_train_lda[y_train==l, 1] * (-1),\n",
        "              c=c, label=l, marker=m)\n",
        "plt.xlabel('LD 1')\n",
        "plt.ylabel('LD 2')\n",
        "plt.legend(loc='lower right')\n",
        "plt.tight_layout()\n",
        "plt.show()"
      ],
      "execution_count": 174,
      "outputs": [
        {
          "output_type": "display_data",
          "data": {
            "image/png": "[encoded data removed]",
            "text/plain": [
              "<Figure size 432x288 with 1 Axes>"
            ]
          },
          "metadata": {
            "tags": [],
            "needs_background": "light"
          }
        }
      ]
    },
    {
      "cell_type": "markdown",
      "metadata": {
        "id": "U2tSU3fbf6Ch",
        "colab_type": "text"
      },
      "source": [
        "###5.2.6 사이킷런의 LDA"
      ]
    },
    {
      "cell_type": "code",
      "metadata": {
        "id": "KrfzX-smfw5V",
        "colab_type": "code",
        "colab": {}
      },
      "source": [
        "from sklearn.discriminant_analysis import LinearDiscriminantAnalysis as LDA\n",
        "lda = LDA(n_components=2)\n",
        "X_train_lda = lda.fit_transform(X_train_std, y_train)"
      ],
      "execution_count": 0,
      "outputs": []
    },
    {
      "cell_type": "code",
      "metadata": {
        "id": "ystbZ7-OhKaJ",
        "colab_type": "code",
        "colab": {
          "base_uri": "https://localhost:8080/",
          "height": 297
        },
        "outputId": "a914709e-1787-423b-99a9-216df967e8da"
      },
      "source": [
        "lr = LogisticRegression(solver='liblinear', multi_class='auto')\n",
        "lr = lr.fit(X_train_lda, y_train)\n",
        "plot_decision_regions(X_train_lda, y_train, classifier=lr)\n",
        "plt.xlabel('LD 1')\n",
        "plt.ylabel('LD 2')\n",
        "plt.legend(loc='lower left')\n",
        "plt.tight_layout()\n",
        "plt.show()"
      ],
      "execution_count": 176,
      "outputs": [
        {
          "output_type": "display_data",
          "data": {
            "image/png": "[encoded data removed]",
            "text/plain": [
              "<Figure size 432x288 with 1 Axes>"
            ]
          },
          "metadata": {
            "tags": [],
            "needs_background": "light"
          }
        }
      ]
    },
    {
      "cell_type": "code",
      "metadata": {
        "id": "Zjl_HX3DhdB4",
        "colab_type": "code",
        "colab": {
          "base_uri": "https://localhost:8080/",
          "height": 297
        },
        "outputId": "f7c72d27-2000-4084-d8d7-08331fee53f8"
      },
      "source": [
        "X_test_lda = lda.transform(X_test_std)\n",
        "plot_decision_regions(X_test_lda, y_test, classifier=lr)\n",
        "plt.xlabel('LD 1')\n",
        "plt.ylabel('LD 2')\n",
        "plt.legend(loc='lower left')\n",
        "plt.tight_layout()\n",
        "plt.show()"
      ],
      "execution_count": 177,
      "outputs": [
        {
          "output_type": "display_data",
          "data": {
            "image/png": "[encoded data removed]",
            "text/plain": [
              "<Figure size 432x288 with 1 Axes>"
            ]
          },
          "metadata": {
            "tags": [],
            "needs_background": "light"
          }
        }
      ]
    },
    {
      "cell_type": "markdown",
      "metadata": {
        "id": "TeMJ8Nf3ia16",
        "colab_type": "text"
      },
      "source": [
        "이전 절에서 단계별로 설명한 LDA 구현은 LinearDiscriminantAnalysis 클래스의 solver 매개변수가 'eigen'일 때이다. 실제 사이킷런의 LDA 구현은 책과는 조금 다르다."
      ]
    },
    {
      "cell_type": "code",
      "metadata": {
        "id": "pwqsXqJZhwoA",
        "colab_type": "code",
        "colab": {
          "base_uri": "https://localhost:8080/",
          "height": 35
        },
        "outputId": "79f6b9f8-a33d-42f6-9db2-4dbe752a1484"
      },
      "source": [
        "y_nuiq, y_count = np.unique(y_train, return_counts=True)\n",
        "priors = y_count / X_train_std.shape[0]\n",
        "priors"
      ],
      "execution_count": 178,
      "outputs": [
        {
          "output_type": "execute_result",
          "data": {
            "text/plain": [
              "array([0.3306, 0.4032, 0.2661])"
            ]
          },
          "metadata": {
            "tags": []
          },
          "execution_count": 178
        }
      ]
    },
    {
      "cell_type": "code",
      "metadata": {
        "id": "YcEmFsHZixKg",
        "colab_type": "code",
        "colab": {}
      },
      "source": [
        "s_w = np.zeros((X_train_std.shape[1], X_train_std.shape[1]))\n",
        "for i, label in enumerate(y_nuiq):\n",
        "  s_w += priors[i] * np.cov(X_train_std[y_train == label].T, bias=True)"
      ],
      "execution_count": 0,
      "outputs": []
    },
    {
      "cell_type": "code",
      "metadata": {
        "id": "UYUgyA5djDBz",
        "colab_type": "code",
        "colab": {}
      },
      "source": [
        "s_b = np.zeros((X_train_std.shape[1], X_train_std.shape[1]))\n",
        "for i, mean_vec in enumerate(mean_vecs):\n",
        "  n = X_train_std[y_train == i + 1].shape[0]\n",
        "  mean_vec = mean_vec.reshape(-1, 1)\n",
        "  s_b += priors[i] * (mean_vec - mean_overall).dot((mean_vec - mean_overall).T)"
      ],
      "execution_count": 0,
      "outputs": []
    },
    {
      "cell_type": "code",
      "metadata": {
        "id": "P4GXFxNxjm5T",
        "colab_type": "code",
        "colab": {}
      },
      "source": [
        "import scipy\n",
        "ei_val, ei_vec = scipy.linalg.eigh(s_b, s_w)\n",
        "ei_vec = ei_vec[:, np.argsort(ei_val)[::-1]]\n",
        "ei_vec /= np.linalg.norm(ei_vec, axis=0)"
      ],
      "execution_count": 0,
      "outputs": []
    },
    {
      "cell_type": "code",
      "metadata": {
        "id": "r-bEWDGSj52A",
        "colab_type": "code",
        "colab": {
          "base_uri": "https://localhost:8080/",
          "height": 53
        },
        "outputId": "5a9a7855-1f85-4778-ec62-56c26ee3e65f"
      },
      "source": [
        "lda_eigen = LDA(solver='eigen')\n",
        "lda_eigen.fit(X_train_std, y_train)"
      ],
      "execution_count": 182,
      "outputs": [
        {
          "output_type": "execute_result",
          "data": {
            "text/plain": [
              "LinearDiscriminantAnalysis(n_components=None, priors=None, shrinkage=None,\n",
              "                           solver='eigen', store_covariance=False, tol=0.0001)"
            ]
          },
          "metadata": {
            "tags": []
          },
          "execution_count": 182
        }
      ]
    },
    {
      "cell_type": "code",
      "metadata": {
        "id": "fahKac22kDdH",
        "colab_type": "code",
        "colab": {
          "base_uri": "https://localhost:8080/",
          "height": 35
        },
        "outputId": "893e3917-7f01-4ba6-c32a-d02808cf1739"
      },
      "source": [
        "np.allclose(s_w, lda_eigen.covariance_)"
      ],
      "execution_count": 183,
      "outputs": [
        {
          "output_type": "execute_result",
          "data": {
            "text/plain": [
              "True"
            ]
          },
          "metadata": {
            "tags": []
          },
          "execution_count": 183
        }
      ]
    },
    {
      "cell_type": "code",
      "metadata": {
        "id": "4qjm8t9ZkJDX",
        "colab_type": "code",
        "colab": {
          "base_uri": "https://localhost:8080/",
          "height": 35
        },
        "outputId": "bd7139ed-3c4a-4373-ae26-551d46fdf962"
      },
      "source": [
        "Sb =np.cov(X_train_std.T, bias=True) - lda_eigen.covariance_\n",
        "np.allclose(Sb, s_b)"
      ],
      "execution_count": 187,
      "outputs": [
        {
          "output_type": "execute_result",
          "data": {
            "text/plain": [
              "True"
            ]
          },
          "metadata": {
            "tags": []
          },
          "execution_count": 187
        }
      ]
    },
    {
      "cell_type": "code",
      "metadata": {
        "id": "CftLuAcPkXmw",
        "colab_type": "code",
        "colab": {
          "base_uri": "https://localhost:8080/",
          "height": 35
        },
        "outputId": "e77422e0-b291-4ea4-8728-138eefb7ca7c"
      },
      "source": [
        "np.allclose(lda_eigen.scalings_[:, :2], ei_vec[:, :2])"
      ],
      "execution_count": 189,
      "outputs": [
        {
          "output_type": "execute_result",
          "data": {
            "text/plain": [
              "False"
            ]
          },
          "metadata": {
            "tags": []
          },
          "execution_count": 189
        }
      ]
    },
    {
      "cell_type": "code",
      "metadata": {
        "id": "cMfYUWSDkeGI",
        "colab_type": "code",
        "colab": {
          "base_uri": "https://localhost:8080/",
          "height": 35
        },
        "outputId": "968a9554-03ad-4212-d9af-d74f626bea66"
      },
      "source": [
        "np.allclose(lda_eigen.transform(X_test_std), np.dot(X_test_std, ei_vec[:, :2]))"
      ],
      "execution_count": 190,
      "outputs": [
        {
          "output_type": "execute_result",
          "data": {
            "text/plain": [
              "False"
            ]
          },
          "metadata": {
            "tags": []
          },
          "execution_count": 190
        }
      ]
    },
    {
      "cell_type": "markdown",
      "metadata": {
        "id": "K-i6JJy7llRg",
        "colab_type": "text"
      },
      "source": [
        "##5.3 커널 PCA를 사용하여 비선형 매핑"
      ]
    },
    {
      "cell_type": "markdown",
      "metadata": {
        "id": "pvpIObnOogjS",
        "colab_type": "text"
      },
      "source": [
        "PCA, LDA 같은 차원 축소를 위한 선형 변환 기법은 비선형 문제에서 최선의 선택이 아니다.\n",
        "\n",
        "이 절에서 PCA의 커널화 버전 또는 KPCA를 다룬다."
      ]
    },
    {
      "cell_type": "markdown",
      "metadata": {
        "id": "Keqr56qRo73g",
        "colab_type": "text"
      },
      "source": [
        "###5.3.1 커널 함수와 커널 트릭"
      ]
    },
    {
      "cell_type": "markdown",
      "metadata": {
        "id": "JwqmdyEcpMD-",
        "colab_type": "text"
      },
      "source": [
        "커널 PCA를 통한 비선형 매핑을 수행하여 데이터를 고차원 공간으로 변환한다.\n",
        "\n",
        "그다음 고차원 공간에 표준 PCA를 사용하여 샘플이 선형 분류기로 구분될 수 있는 저차원 공간으로 데이터를 투영한다.(샘플이 이 입력 공간에서 잘 구분도리 수 있다고 가정한다.)\n",
        "\n",
        "이 방식의 단점은 계산 비용이 매우 비싸다는 것인데, 해결하기 위해 커널 트릭(kernel trick)을 사용한다. 커널 트릭을 사용하면 원본 특성 공간에서 두 고차원 특성 벡터의 유사도를 계산할 수 있다.\n",
        "\n",
        "커널 트릭을 사용하면 고유 벡터를 명시적으로 계산할 필요가 없다. 커널 PCA로 얻은 것은 표준 PCA 방식에서처럼 투영 행렬을 구성한 것이 아니고 각각의 성분에 이미 투영된 샘플이다. 커널 함수는 두 벡터 사이의 점곱을 계산할 수 있는 함수고 유사도를 측정할 수 있는 함수다.\n",
        "\n",
        "널리 사용되는 커널은 다음고 같다.\n",
        "+ 다항 커널\n",
        "\n",
        "+ 하이퍼볼릭 탄젠트(hyperbolic tangent) (시그모이드(sigmoid)) 커널\n",
        "\n",
        "+ 방사 기저 함수(Radial Basis Function, RBF)\n",
        "\n",
        "RBF 커널 PCA를 구현하기 위해 다음 세 단계를 정의한다.\n",
        "\n",
        "1. 커널 (유사도) 행렬 K를 계산한다. 예를 들어 100개의 훈련 샘플이 담긴 데이터셋이라면 각 쌍의 유사도를 담은 대칭 커널 행렬은 100 x 100 차원이 된다.\n",
        "\n",
        "2. 커널 행렬 K를 중앙에 맞춘다.\n",
        "\n",
        "3. 고윳값 크기대로 내림차순을 정렬하여 중앙에 맞춘 커널 행렬에서 최상위 k개의 고유 벡터를 고른다. 표준 PCA와 다르게 고유 벡터는 주성분 축이 아니며, 이미 이 축에 투영된 샘플이다.\n",
        "\n",
        "두 번째 단계에서 커널 행렬을 중앙에 맞추는 이유는 다음과 같다. 표준화 전처리된 데이터를 다룬다고 가정하는데, 공분산 행렬을 구성하고 비선형 특성 조합으로 점곱을 비선형 매핑 함수를 사용한 비선형 특성 조합으로 접곰을 대체할 때 사용한 모든 특성의 평균이 0이다. 반면 새로운 특성 공간을 명시적으로 계산하지 않기 때문에 이 특성 공간이 중아에 맞추어져 있느지 보장할 수 없다. 이것이 커널 행렬의 중앙을 맞추는 것이 필요한 이유다."
      ]
    },
    {
      "cell_type": "code",
      "metadata": {
        "id": "OnAeqCuTljHZ",
        "colab_type": "code",
        "colab": {}
      },
      "source": [
        "# 커널을 중앙에 맞추기\n",
        "# from sklearn.preprocessing import KernelCenterer\n",
        "# K_centered = KernelCenterer().fit_transform(K)"
      ],
      "execution_count": 0,
      "outputs": []
    },
    {
      "cell_type": "markdown",
      "metadata": {
        "id": "cBKOmIqVs-yg",
        "colab_type": "text"
      },
      "source": [
        "###5.3.2 파이썬으로 커널 PCA 구현"
      ]
    },
    {
      "cell_type": "code",
      "metadata": {
        "id": "tbxh3a7-sIzA",
        "colab_type": "code",
        "colab": {}
      },
      "source": [
        "from scipy.spatial.distance import pdist, squareform\n",
        "from scipy import exp\n",
        "from scipy.linalg import eigh\n",
        "import numpy as np"
      ],
      "execution_count": 0,
      "outputs": []
    },
    {
      "cell_type": "code",
      "metadata": {
        "id": "nIGrl0DsteVW",
        "colab_type": "code",
        "colab": {}
      },
      "source": [
        "def rbf_kernel_pca(X, gamma, n_components):\n",
        "  \"\"\"\n",
        "  RBF 커널 PCA 구현\n",
        "\n",
        "  매개변수\n",
        "  ----------\n",
        "  X: {넘파이 ndarray}, shape = [n_samples, n_featrues]\n",
        "\n",
        "  gamma: float\n",
        "    RBF 커널 튜닝 매개변수\n",
        "\n",
        "  n_components: int\n",
        "    반환할 주성분 개수\n",
        "\n",
        "  반환값\n",
        "  ----------\n",
        "  X_pc: {넘파이 ndarray}, shape = [n_samples, k_features]\n",
        "    투영된 데이터셋\n",
        "\n",
        "  \"\"\"\n",
        "  # MxN 차원의 데이터셋에서 샘플 간의 유클리디안 거리의 제곱을 계산한다.\n",
        "  sq_dists = pdist(X, 'sqeuclidean')\n",
        "\n",
        "  # 샘플 간의 거리를 정방 대칭 행렬로 변환한다.\n",
        "  mat_sq_dists = squareform(sq_dists)\n",
        "\n",
        "  # 커널 행렬을 계산한다.\n",
        "  K = exp(-gamma * mat_sq_dists)\n",
        "\n",
        "  # 커널 행렬을 중앙에 맞춘다.\n",
        "  N = K.shape[0]\n",
        "  one_n = np.ones((N,N)) / N\n",
        "  K = K - one_n.dot(K) - K.dot(one_n) + one_n.dot(K).dot(one_n)\n",
        "\n",
        "  # 중앙에 맞춰진 커널 행렬의 고윳값과 고유 벡터를 구한다.\n",
        "  # scipy.linalg.eigh 함수는 오름차순으로 반환한다.\n",
        "  eigvals, eigvecs = eigh(K)\n",
        "  eigvals, eigvecs = eigvals[::-1], eigvecs[:, ::-1]\n",
        "\n",
        "  # 최상위 k개의 고유 벡터를 선택한다.(투영 결과)\n",
        "  X_pc = np.column_stack([eigvecs[:, i] for i in range(n_components)])\n",
        "\n",
        "  return X_pc"
      ],
      "execution_count": 0,
      "outputs": []
    },
    {
      "cell_type": "code",
      "metadata": {
        "id": "fIPpTk8GxCc4",
        "colab_type": "code",
        "colab": {
          "base_uri": "https://localhost:8080/",
          "height": 265
        },
        "outputId": "056b3642-c1c1-405b-de92-e107fdabe3d9"
      },
      "source": [
        "# 예제 1: 반달 모양 구분하기\n",
        "from sklearn.datasets import make_moons\n",
        "X, y = make_moons(n_samples=100, random_state=123)\n",
        "plt.scatter(X[y==0, 0], X[y==0, 1],\n",
        "            color='red', marker='^', alpha=0.5)\n",
        "plt.scatter(X[y==1, 0], X[y==1, 1],\n",
        "            color='blue', marker='o', alpha=0.5)\n",
        "plt.show()"
      ],
      "execution_count": 195,
      "outputs": [
        {
          "output_type": "display_data",
          "data": {
            "image/png": "[encoded data removed]",
            "text/plain": [
              "<Figure size 432x288 with 1 Axes>"
            ]
          },
          "metadata": {
            "tags": [],
            "needs_background": "light"
          }
        }
      ]
    },
    {
      "cell_type": "code",
      "metadata": {
        "id": "3WFm6I7R36H3",
        "colab_type": "code",
        "colab": {
          "base_uri": "https://localhost:8080/",
          "height": 225
        },
        "outputId": "f87dd153-e75d-4667-9740-adb4f49074e4"
      },
      "source": [
        "# 커널 PCA로 반달 모양을 펼쳐서 선형 분류기에 적합한 입력 데이터셋으로 만들자.\n",
        "# 일단 먼저 기본 PCA 부터\n",
        "from sklearn.decomposition import PCA\n",
        "scikit_pca = PCA(n_components=2)\n",
        "X_spca = scikit_pca.fit_transform(X)\n",
        "fig, ax = plt.subplots(nrows=1, ncols=2, figsize=(7,3))\n",
        "ax[0].scatter(X_spca[y==0, 0], X_spca[y==0, 1],\n",
        "              color='red', marker='^', alpha=0.5)\n",
        "ax[0].scatter(X_spca[y==1, 0], X_spca[y==1, 1],\n",
        "              color='blue', marker='o', alpha=0.5)\n",
        "ax[1].scatter(X_spca[y==0, 0], np.zeros((50, 1))+0.02,\n",
        "              color='red', marker='^', alpha=0.5)\n",
        "ax[1].scatter(X_spca[y==1, 0], np.zeros((50,1))-0.02,\n",
        "              color='blue', marker='o', alpha=0.5)\n",
        "ax[0].set_xlabel('PC1')\n",
        "ax[0].set_ylabel('PC2')\n",
        "ax[1].set_ylim([-1, 1])\n",
        "ax[1].set_yticks([])\n",
        "ax[1].set_xlabel('PC1')\n",
        "plt.show()"
      ],
      "execution_count": 200,
      "outputs": [
        {
          "output_type": "display_data",
          "data": {
            "image/png": "[encoded data removed]",
            "text/plain": [
              "<Figure size 504x216 with 2 Axes>"
            ]
          },
          "metadata": {
            "tags": [],
            "needs_background": "light"
          }
        }
      ]
    },
    {
      "cell_type": "markdown",
      "metadata": {
        "id": "3ks7WAYp6KZM",
        "colab_type": "text"
      },
      "source": [
        "기본 PCA로는 선형적으로 구분하기 어렵다.\n",
        "\n",
        "PCA는 비지도 학습 방법임을 기억하자. LDA는 클래스 레이블 정보를 사용하지만 PCA는 아니다. 여기서는 구분이 잘 되는지를 나타내기 위해 시각적 효과의 목적으로 레이블이 추가된 것이다."
      ]
    },
    {
      "cell_type": "code",
      "metadata": {
        "id": "ydgsYBeJ4RaD",
        "colab_type": "code",
        "colab": {
          "base_uri": "https://localhost:8080/",
          "height": 243
        },
        "outputId": "c57441f1-ecea-480b-9b39-9c1f1b4cb198"
      },
      "source": [
        "# 앞에서 만든 커널 PCA 함수 rbf_kernel_pca를 적용해보자.\n",
        "X_kpca = rbf_kernel_pca(X, gamma=15, n_components=2)\n",
        "fig, ax = plt.subplots(nrows=1, ncols=2, figsize=(7,3))\n",
        "ax[0].scatter(X_kpca[y==0, 0], X_kpca[y==0, 1],\n",
        "              color='red', marker='^', alpha=0.5)\n",
        "ax[0].scatter(X_kpca[y==1, 0], X_kpca[y==1, 1],\n",
        "              color='blue', marker='o', alpha=0.5)\n",
        "ax[1].scatter(X_kpca[y==0, 0], np.zeros((50,1))+0.02,\n",
        "              color='red', marker='^', alpha=0.5)\n",
        "ax[1].scatter(X_kpca[y==1, 0], np.zeros((50,1))-0.02,\n",
        "              color='blue', marker='o', alpha=0.5)\n",
        "ax[0].set_xlabel('PC1')\n",
        "ax[0].set_ylabel('PC2')\n",
        "ax[1].set_ylim([-1, 1])\n",
        "ax[1].set_yticks([])\n",
        "ax[1].set_xlabel('PC1')\n",
        "plt.tight_layout()\n",
        "plt.show()"
      ],
      "execution_count": 202,
      "outputs": [
        {
          "output_type": "stream",
          "text": [
            "/usr/local/lib/python3.6/dist-packages/ipykernel_launcher.py:28: DeprecationWarning: scipy.exp is deprecated and will be removed in SciPy 2.0.0, use numpy.exp instead\n"
          ],
          "name": "stderr"
        },
        {
          "output_type": "display_data",
          "data": {
            "image/png": "[encoded data removed]",
            "text/plain": [
              "<Figure size 504x216 with 2 Axes>"
            ]
          },
          "metadata": {
            "tags": [],
            "needs_background": "light"
          }
        }
      ]
    },
    {
      "cell_type": "code",
      "metadata": {
        "id": "-W6Z1MF77bL-",
        "colab_type": "code",
        "colab": {
          "base_uri": "https://localhost:8080/",
          "height": 297
        },
        "outputId": "c4237ed6-f6ce-4596-ca97-fdbe8832ac83"
      },
      "source": [
        "# 예제 2: 동심원 분리하기\n",
        "from sklearn.datasets import make_circles\n",
        "X, y = make_circles(n_samples=1000,\n",
        "                    random_state=123, noise=0.1, factor=0.2)\n",
        "plt.scatter(X[y==0, 0], X[y==0, 1],\n",
        "            color='red', marker='^', alpha=0.5)\n",
        "plt.scatter(X[y==1, 0], X[y==1, 1],\n",
        "            color='blue', marker='o', alpha=0.5)\n",
        "plt.tight_layout()\n",
        "plt.show()"
      ],
      "execution_count": 204,
      "outputs": [
        {
          "output_type": "display_data",
          "data": {
            "image/png": "[encoded data removed]",
            "text/plain": [
              "<Figure size 432x288 with 1 Axes>"
            ]
          },
          "metadata": {
            "tags": [],
            "needs_background": "light"
          }
        }
      ]
    },
    {
      "cell_type": "code",
      "metadata": {
        "id": "gVt9HCGF-P61",
        "colab_type": "code",
        "colab": {
          "base_uri": "https://localhost:8080/",
          "height": 225
        },
        "outputId": "1cef9ca4-e4be-4754-9c62-cf51b38542fb"
      },
      "source": [
        "# 기본 PCA 부터 적용해보자\n",
        "scikit_pca = PCA(n_components=2)\n",
        "X_spca = scikit_pca.fit_transform(X)\n",
        "fig, ax = plt.subplots(nrows=1, ncols=2, figsize=(7,3))\n",
        "ax[0].scatter(X_spca[y==0, 0], X_spca[y==0, 1],\n",
        "              color='red', marker='^', alpha=0.5)\n",
        "ax[0].scatter(X_spca[y==1, 0], X_spca[y==1, 1],\n",
        "              color='blue', marker='o', alpha=0.5)\n",
        "ax[1].scatter(X_spca[y==0, 0], np.zeros((500,1))+0.02,\n",
        "              color='red', marker='^', alpha=0.5)\n",
        "ax[1].scatter(X_spca[y==1, 0], np.zeros((500,1))-0.02,\n",
        "              color='blue', marker='o', alpha=0.5)\n",
        "ax[0].set_xlabel('PC1')\n",
        "ax[0].set_ylabel('PC2')\n",
        "ax[1].set_ylim([-1, 1])\n",
        "ax[1].set_yticks([])\n",
        "ax[1].set_xlabel('PC1')\n",
        "plt.tight_layout()\n",
        "plt.show()"
      ],
      "execution_count": 205,
      "outputs": [
        {
          "output_type": "display_data",
          "data": {
            "image/png": "[encoded data removed]",
            "text/plain": [
              "<Figure size 504x216 with 2 Axes>"
            ]
          },
          "metadata": {
            "tags": [],
            "needs_background": "light"
          }
        }
      ]
    },
    {
      "cell_type": "code",
      "metadata": {
        "id": "8ue5oPzqACgl",
        "colab_type": "code",
        "colab": {
          "base_uri": "https://localhost:8080/",
          "height": 243
        },
        "outputId": "9531a960-9e4f-4608-e65f-8a7f03ea2217"
      },
      "source": [
        "# 커널 PCA 를 적용해보자\n",
        "X_kpca = rbf_kernel_pca(X, gamma=15, n_components=2)\n",
        "fig, ax = plt.subplots(nrows=1, ncols=2, figsize=(7,3))\n",
        "ax[0].scatter(X_kpca[y==0, 0], X_kpca[y==0, 1],\n",
        "              color='red', marker='^', alpha=0.5)\n",
        "ax[0].scatter(X_kpca[y==1, 0], X_kpca[y==1, 1],\n",
        "              color='blue', marker='o', alpha=0.5)\n",
        "ax[1].scatter(X_kpca[y==0, 0], np.zeros((500,1))+0.02,\n",
        "              color='red', marker='^', alpha=0.5)\n",
        "ax[1].scatter(X_kpca[y==1, 0], np.zeros((500,1))-0.02,\n",
        "              color='blue', marker='o', alpha=0.5)\n",
        "ax[0].set_xlabel('PC1')\n",
        "ax[0].set_ylabel('PC2')\n",
        "ax[1].set_ylim([-1, 1])\n",
        "ax[1].set_yticks([])\n",
        "ax[1].set_xlabel('PC1')\n",
        "plt.tight_layout()\n",
        "plt.show()"
      ],
      "execution_count": 207,
      "outputs": [
        {
          "output_type": "stream",
          "text": [
            "/usr/local/lib/python3.6/dist-packages/ipykernel_launcher.py:28: DeprecationWarning: scipy.exp is deprecated and will be removed in SciPy 2.0.0, use numpy.exp instead\n"
          ],
          "name": "stderr"
        },
        {
          "output_type": "display_data",
          "data": {
            "image/png": "[encoded data removed]",
            "text/plain": [
              "<Figure size 504x216 with 2 Axes>"
            ]
          },
          "metadata": {
            "tags": [],
            "needs_background": "light"
          }
        }
      ]
    },
    {
      "cell_type": "markdown",
      "metadata": {
        "id": "SF5-TpdSA9iB",
        "colab_type": "text"
      },
      "source": [
        "###5.3.3 새로운 데이터 포인트 투영"
      ]
    },
    {
      "cell_type": "code",
      "metadata": {
        "id": "J7z7qdNDAevh",
        "colab_type": "code",
        "colab": {}
      },
      "source": [
        "from scipy.spatial.distance import pdist, squareform\n",
        "from scipy import exp\n",
        "from scipy.linalg import eigh\n",
        "import numpy as np"
      ],
      "execution_count": 0,
      "outputs": []
    },
    {
      "cell_type": "code",
      "metadata": {
        "id": "Q0pSfKzFBmih",
        "colab_type": "code",
        "colab": {}
      },
      "source": [
        "def rbf_kernel_pca(X, gamma, n_components):\n",
        "  \"\"\"\n",
        "  RBF 커널 PCA 구현\n",
        "\n",
        "  매개변수\n",
        "  ----------\n",
        "  X: {넘파이 ndarray}, shape = [n_samples, n_featrues]\n",
        "\n",
        "  gamma: float\n",
        "    RBF 커널 튜닝 매개변수\n",
        "\n",
        "  n_components: int\n",
        "    반환할 주성분 개수\n",
        "\n",
        "  반환값\n",
        "  ----------\n",
        "  alphas: {넘파이 ndarray}, shape = [n_samples, k_features]\n",
        "    투영된 데이터셋\n",
        "\n",
        "  lambdas: list\n",
        "    고유값\n",
        "    \n",
        "  \"\"\"\n",
        "  # MxN 차원의 데이터셋에서 샘플 간의 유클리디안 거리의 제곱을 계산한다.\n",
        "  sq_dists = pdist(X, 'sqeuclidean')\n",
        "\n",
        "  # 샘플 간의 거리를 정방 대칭 행렬로 변환한다.\n",
        "  mat_sq_dists = squareform(sq_dists)\n",
        "\n",
        "  # 커널 행렬을 계산한다.\n",
        "  K = exp(-gamma * mat_sq_dists)\n",
        "\n",
        "  # 커널 행렬을 중앙에 맞춘다.\n",
        "  N = K.shape[0]\n",
        "  one_n = np.ones((N,N)) / N\n",
        "  K = K - one_n.dot(K) - K.dot(one_n) + one_n.dot(K).dot(one_n)\n",
        "\n",
        "  # 중앙에 맞춰진 커널 행렬의 고윳값과 고유 벡터를 구한다.\n",
        "  # scipy.linalg.eigh 함수는 오름차순으로 반환한다.\n",
        "  eigvals, eigvecs = eigh(K)\n",
        "  eigvals, eigvecs = eigvals[::-1], eigvecs[:, ::-1]\n",
        "\n",
        "  # 최상위 k개의 고유 벡터를 선택한다.(투영 결과)\n",
        "  alphas = np.column_stack([eigvecs[:, i] for i in range(n_components)])\n",
        "\n",
        "  # 고유 벡터에 상응하는 고윳값을 선택한다.\n",
        "  lambdas = [eigvals[i] for i in range(n_components)]\n",
        "\n",
        "  return alphas, lambdas"
      ],
      "execution_count": 0,
      "outputs": []
    },
    {
      "cell_type": "code",
      "metadata": {
        "id": "vZvRp8Z3Ccqk",
        "colab_type": "code",
        "colab": {
          "base_uri": "https://localhost:8080/",
          "height": 35
        },
        "outputId": "ea8a6f51-bed3-4486-bd0b-21716ac7805f"
      },
      "source": [
        "X, y = make_moons(n_samples=100, random_state=123)\n",
        "alphas, lambdas = rbf_kernel_pca(X, gamma=15, n_components=1)"
      ],
      "execution_count": 212,
      "outputs": [
        {
          "output_type": "stream",
          "text": [
            "/usr/local/lib/python3.6/dist-packages/ipykernel_launcher.py:31: DeprecationWarning: scipy.exp is deprecated and will be removed in SciPy 2.0.0, use numpy.exp instead\n"
          ],
          "name": "stderr"
        }
      ]
    },
    {
      "cell_type": "code",
      "metadata": {
        "id": "uGcnupinCqrB",
        "colab_type": "code",
        "colab": {
          "base_uri": "https://localhost:8080/",
          "height": 35
        },
        "outputId": "51567de0-5ead-4d02-b6f5-026f0d62eef7"
      },
      "source": [
        "x_new = X[25]\n",
        "x_new"
      ],
      "execution_count": 213,
      "outputs": [
        {
          "output_type": "execute_result",
          "data": {
            "text/plain": [
              "array([1.8713, 0.0093])"
            ]
          },
          "metadata": {
            "tags": []
          },
          "execution_count": 213
        }
      ]
    },
    {
      "cell_type": "code",
      "metadata": {
        "id": "yLa9KIu2CxpI",
        "colab_type": "code",
        "colab": {
          "base_uri": "https://localhost:8080/",
          "height": 35
        },
        "outputId": "f225f69a-0248-4801-bdef-a39f7dcd969a"
      },
      "source": [
        "x_proj = alphas[25]\n",
        "x_proj"
      ],
      "execution_count": 214,
      "outputs": [
        {
          "output_type": "execute_result",
          "data": {
            "text/plain": [
              "array([0.0788])"
            ]
          },
          "metadata": {
            "tags": []
          },
          "execution_count": 214
        }
      ]
    },
    {
      "cell_type": "code",
      "metadata": {
        "id": "tBxEAzgHC0x4",
        "colab_type": "code",
        "colab": {}
      },
      "source": [
        "def project_x(x_new, X, gamma, alphas, lambdas):\n",
        "  pair_dist = np.array([np.sum((x_new-row)**2) for row in X])\n",
        "  k = np.exp(-gamma * pair_dist)\n",
        "  return k.dot(alphas / lambdas)"
      ],
      "execution_count": 0,
      "outputs": []
    },
    {
      "cell_type": "code",
      "metadata": {
        "id": "EsNkodqYDJXI",
        "colab_type": "code",
        "colab": {
          "base_uri": "https://localhost:8080/",
          "height": 35
        },
        "outputId": "66550520-788c-4a34-c02b-ca8ec705fc18"
      },
      "source": [
        "x_reproj = project_x(x_new, X, gamma=15, alphas=alphas, lambdas=lambdas)\n",
        "x_reproj"
      ],
      "execution_count": 216,
      "outputs": [
        {
          "output_type": "execute_result",
          "data": {
            "text/plain": [
              "array([0.0788])"
            ]
          },
          "metadata": {
            "tags": []
          },
          "execution_count": 216
        }
      ]
    },
    {
      "cell_type": "code",
      "metadata": {
        "id": "EEGCNVZIDXx4",
        "colab_type": "code",
        "colab": {
          "base_uri": "https://localhost:8080/",
          "height": 297
        },
        "outputId": "e77a8423-5637-4b84-c33f-703fa9f4cb71"
      },
      "source": [
        "plt.scatter(alphas[y==0, 0], np.zeros((50)),\n",
        "            color='red', marker='^', alpha=0.5)\n",
        "plt.scatter(alphas[y==1, 0], np.zeros((50)),\n",
        "            color='blue', marker='o', alpha=0.5)\n",
        "plt.scatter(x_proj, 0, color='black',\n",
        "            label='original projection of point X[25]',\n",
        "            marker='^', s=100)\n",
        "plt.scatter(x_reproj, 0, color='green',\n",
        "            label='remapped point X[25]',\n",
        "            marker='x', s=500)\n",
        "plt.legend(scatterpoints=1)\n",
        "plt.tight_layout()\n",
        "plt.show()"
      ],
      "execution_count": 217,
      "outputs": [
        {
          "output_type": "display_data",
          "data": {
            "image/png": "[encoded data removed]",
            "text/plain": [
              "<Figure size 432x288 with 1 Axes>"
            ]
          },
          "metadata": {
            "tags": [],
            "needs_background": "light"
          }
        }
      ]
    },
    {
      "cell_type": "markdown",
      "metadata": {
        "id": "3pu7Q6V8EN4h",
        "colab_type": "text"
      },
      "source": [
        "###5.3.4 사이킷런의 커널 PCA"
      ]
    },
    {
      "cell_type": "code",
      "metadata": {
        "id": "9f9L_jirEEuU",
        "colab_type": "code",
        "colab": {}
      },
      "source": [
        "from sklearn.decomposition import KernelPCA\n",
        "X, y = make_moons(n_samples=100, random_state=123)\n",
        "scikit_kpca = KernelPCA(n_components=2,\n",
        "                        kernel='rbf', gamma=15)\n",
        "X_skernpca = scikit_kpca.fit_transform(X)"
      ],
      "execution_count": 0,
      "outputs": []
    },
    {
      "cell_type": "code",
      "metadata": {
        "id": "p4w7ADtDEo8I",
        "colab_type": "code",
        "colab": {
          "base_uri": "https://localhost:8080/",
          "height": 297
        },
        "outputId": "ae86f9af-a75a-4d6e-eab2-5e036ffc5c6b"
      },
      "source": [
        "plt.scatter(X_skernpca[y==0, 0], X_skernpca[y==0, 1],\n",
        "            color='red', marker='^', alpha=0.5)\n",
        "plt.scatter(X_skernpca[y==1, 0], X_skernpca[y==1, 1],\n",
        "            color='blue', marker='o', alpha=0.5)\n",
        "plt.xlabel('PC1')\n",
        "plt.ylabel('PC2')\n",
        "plt.tight_layout()\n",
        "plt.show()"
      ],
      "execution_count": 219,
      "outputs": [
        {
          "output_type": "display_data",
          "data": {
            "image/png": "[encoded data removed]",
            "text/plain": [
              "<Figure size 432x288 with 1 Axes>"
            ]
          },
          "metadata": {
            "tags": [],
            "needs_background": "light"
          }
        }
      ]
    },
    {
      "cell_type": "markdown",
      "metadata": {
        "id": "ywsvNuB4FMPQ",
        "colab_type": "text"
      },
      "source": [
        "##5.4 요약"
      ]
    },
    {
      "cell_type": "markdown",
      "metadata": {
        "id": "W3-eUxDFFQBH",
        "colab_type": "text"
      },
      "source": [
        "+ 기본 PCA : 클래스 레이블을 사용하지 않고 직교하는 특성 축을 따라 분산이 최대가 되는 저차원 부분 공간으로 데이터를 투영한다.\n",
        "\n",
        "+ LDA : 지도 학습 방법의 차원 축소 기법이다. 클래스 정보를 사용하여 선형 특성 공간에서 클래스 구분 능력을 최대화한다.\n",
        "\n",
        "+ 커널  PCA : 커널 트릭과 코차원 특성 공간으로의 가상 투영을 통하여 비선형 특성을 가진 데이터셋을 저차원 부분 공간으로 극적으로 압축한다. 이 부분 공간에서 클래스는 선형적으로 구분된다."
      ]
    },
    {
      "cell_type": "code",
      "metadata": {
        "id": "AYDE1_K_FG3K",
        "colab_type": "code",
        "colab": {}
      },
      "source": [
        ""
      ],
      "execution_count": 0,
      "outputs": []
    }
  ]
}