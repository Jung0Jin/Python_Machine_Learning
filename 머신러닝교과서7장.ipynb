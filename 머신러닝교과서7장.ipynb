{
  "nbformat": 4,
  "nbformat_minor": 0,
  "metadata": {
    "colab": {
      "name": "머신러닝교과서7장.ipynb",
      "provenance": [],
      "collapsed_sections": [],
      "authorship_tag": "ABX9TyNaoqWJWp2McJQliTJ1DNjT",
      "include_colab_link": true
    },
    "kernelspec": {
      "name": "python3",
      "display_name": "Python 3"
    }
  },
  "cells": [
    {
      "cell_type": "markdown",
      "metadata": {
        "id": "view-in-github",
        "colab_type": "text"
      },
      "source": [
        "<a href=\"https://colab.research.google.com/github/Jung0Jin/Python_Machine_Learning/blob/master/%EB%A8%B8%EC%8B%A0%EB%9F%AC%EB%8B%9D%EA%B5%90%EA%B3%BC%EC%84%9C7%EC%9E%A5.ipynb\" target=\"_parent\"><img src=\"https://colab.research.google.com/assets/colab-badge.svg\" alt=\"Open In Colab\"/></a>"
      ]
    },
    {
      "cell_type": "markdown",
      "metadata": {
        "id": "hsveZc_Te-4N",
        "colab_type": "text"
      },
      "source": [
        "#7장 다양한 모델을 결합한 앙상블 학습"
      ]
    },
    {
      "cell_type": "markdown",
      "metadata": {
        "id": "l8JEmNBJfJui",
        "colab_type": "text"
      },
      "source": [
        "분류기 집합을 구성하는 여러 가지 방법을 살펴본다.\n",
        "\n",
        "분류기 집합은 개별 분류기보다 더 뛰어난 예측 성능을 내는 경우가 많다.\n",
        "\n",
        "* 다수결 투표를 기반으로 예측 만들기\n",
        "\n",
        "* 중복을 허용하여 랜덤하게 훈련 샘플을 뽑는 배깅(bagging)을 사용해서 과대적합 감소하기\n",
        "\n",
        "* 앞선 모델의 오차를 학습하는 약한 학습기(weak learner)로 구성된 부스팅(boosting)으로 강력한 모델 구축하기"
      ]
    },
    {
      "cell_type": "markdown",
      "metadata": {
        "id": "o0h6YH8tfqLi",
        "colab_type": "text"
      },
      "source": [
        "##7.1 앙상블 학습"
      ]
    },
    {
      "cell_type": "markdown",
      "metadata": {
        "id": "a4cm_U5ufuHh",
        "colab_type": "text"
      },
      "source": [
        "앙상블 학습(ensemble learning) : 여러 분류기를 하나의 메타 분류기로 연결하여 개별 분류기보다 더 좋은 일반화 성능을 달성\n",
        "\n",
        "과반수 투표(majority voting) :앙상블 방법 중 하나. 분류기의 과반수가 예측한 클래스 레이블을 선택하는 방법. 이진 분류에 쓰인다.\n",
        "\n",
        "다수결 투표(plurality voting) : 과반수 투표를 다중 클래스 문제에서 사용한 것\n",
        "\n",
        "앙상블 학습 방법 1 : 훈련 세트를 사용하여 m개의 다른 분류기를 훈련시킨다. 결정 트리, 서포트 벡터 머신, 로지스틱 회귀 분류기와 같은 여러 가지 알고리즘들을 사용한다.\n",
        "\n",
        "앙상블 학습 방법 2 : 같은 분류 알고리즘을 사용하고 훈련 세트의 부분 집합(subset)을 달리하여 학습한다.\n",
        "\n",
        "유명한 앙상블 방법 중 하나 : 서로 다른 결정 트리를 연결한 랜덤 포레스트(random forest)\n",
        "\n",
        "앙상블 방법이 개별 분류기보다 성능이 뛰어난 이유 : \n",
        "\n",
        "이진 분류 작업에 대해 동일한 에러율(error rate)을 가진 n개의 분류기를 가정하자.\n",
        " \n",
        " 모든 분류기는 독립적이고 발생하는 오차는 서로 상관관계가 없다고 가정. \n",
        " \n",
        " 이 분류기의 앙상블이 만드는 오차 확을 이항 분포(binomial distribution)의 확률 질량 함수(probability mass function)로 표현할 수 있다. \n",
        " \n",
        " 즉, 에러율이 0.25인 분류기 11개로 구성된 앙상블의 에러율은 0.034이다. \n",
        "\n"
      ]
    },
    {
      "cell_type": "code",
      "metadata": {
        "id": "vX704wYae57l",
        "colab_type": "code",
        "colab": {}
      },
      "source": [
        "from scipy.special import comb\n",
        "import math"
      ],
      "execution_count": 0,
      "outputs": []
    },
    {
      "cell_type": "code",
      "metadata": {
        "id": "U1AhRRWuijkL",
        "colab_type": "code",
        "colab": {}
      },
      "source": [
        "def ensemble_error(n_classifier, error):\n",
        "  k_start = int(math.ceil(n_classifier / 2.)) # math.ceil 주어진 숫자 중 크거나 같은 숫자 중 가장 작은 수\n",
        "  probs = [comb(n_classifier, k) * # comb : 조합\n",
        "           error**k *\n",
        "           (1-error)**(n_classifier-k)\n",
        "           for k in range(k_start, n_classifier + 1)]\n",
        "  return sum(probs)"
      ],
      "execution_count": 0,
      "outputs": []
    },
    {
      "cell_type": "code",
      "metadata": {
        "id": "YFRuXIEzjxYj",
        "colab_type": "code",
        "colab": {
          "base_uri": "https://localhost:8080/",
          "height": 35
        },
        "outputId": "22e13089-5ece-43e1-aec9-95d5467517b9"
      },
      "source": [
        "ensemble_error(n_classifier=11, error=0.25)"
      ],
      "execution_count": 12,
      "outputs": [
        {
          "output_type": "execute_result",
          "data": {
            "text/plain": [
              "0.03432750701904297"
            ]
          },
          "metadata": {
            "tags": []
          },
          "execution_count": 12
        }
      ]
    },
    {
      "cell_type": "code",
      "metadata": {
        "id": "p2EFG7y2j5AD",
        "colab_type": "code",
        "colab": {}
      },
      "source": [
        "import numpy as np\n",
        "import matplotlib.pyplot as plt"
      ],
      "execution_count": 0,
      "outputs": []
    },
    {
      "cell_type": "code",
      "metadata": {
        "id": "cgNlJGmTmCY6",
        "colab_type": "code",
        "colab": {
          "base_uri": "https://localhost:8080/",
          "height": 279
        },
        "outputId": "ec55aef6-a215-4707-9236-054c3693f19e"
      },
      "source": [
        "error_range = np.arange(0.0, 1.01, 0.01)\n",
        "ens_errors = [ensemble_error(n_classifier=11, error=error)\n",
        "              for error in error_range]\n",
        "plt.plot(error_range, ens_errors,\n",
        "         label='Ensemble error',\n",
        "         linewidth=2)\n",
        "plt.plot(error_range, error_range,\n",
        "         linestyle='--', label='Base error',\n",
        "         linewidth=2)\n",
        "plt.xlabel('Base error')\n",
        "plt.ylabel('Base/Ensemble error')\n",
        "plt.legend(loc='upper left')\n",
        "plt.grid(alpha=0.5)\n",
        "plt.show()"
      ],
      "execution_count": 14,
      "outputs": [
        {
          "output_type": "display_data",
          "data": {
            "image/png": "[encoded data removed]",
            "text/plain": [
              "<Figure size 432x288 with 1 Axes>"
            ]
          },
          "metadata": {
            "tags": [],
            "needs_background": "light"
          }
        }
      ]
    },
    {
      "cell_type": "markdown",
      "metadata": {
        "id": "-vhco3UwnAi7",
        "colab_type": "text"
      },
      "source": [
        "에러율이 0.5보다 낮으면 앙상블의 에러 확률은 개별 분류기보다 항상 좋다."
      ]
    },
    {
      "cell_type": "markdown",
      "metadata": {
        "id": "k6bHiSVCnGoz",
        "colab_type": "text"
      },
      "source": [
        "##7.2 다수결 투표를 사용한 분류 앙상블"
      ]
    },
    {
      "cell_type": "markdown",
      "metadata": {
        "id": "_KVIzlx_nL01",
        "colab_type": "text"
      },
      "source": [
        "###7.2.1 간단한 다수결 투표 분류기 구현"
      ]
    },
    {
      "cell_type": "code",
      "metadata": {
        "id": "7NT70-z-m4Kv",
        "colab_type": "code",
        "colab": {}
      },
      "source": [
        "import numpy as np"
      ],
      "execution_count": 0,
      "outputs": []
    },
    {
      "cell_type": "code",
      "metadata": {
        "id": "4A1UhMkMprTi",
        "colab_type": "code",
        "colab": {
          "base_uri": "https://localhost:8080/",
          "height": 35
        },
        "outputId": "abd03e28-7023-4874-cdef-8728de8ab5eb"
      },
      "source": [
        "np.argmax(np.bincount([0, 0, 1],\n",
        "                      weights=[0.2, 0.2, 0.6]))"
      ],
      "execution_count": 16,
      "outputs": [
        {
          "output_type": "execute_result",
          "data": {
            "text/plain": [
              "1"
            ]
          },
          "metadata": {
            "tags": []
          },
          "execution_count": 16
        }
      ]
    },
    {
      "cell_type": "code",
      "metadata": {
        "id": "DK8LYZMupyck",
        "colab_type": "code",
        "colab": {
          "base_uri": "https://localhost:8080/",
          "height": 53
        },
        "outputId": "0f2cb73a-b033-4e9a-e230-d2780f00ec47"
      },
      "source": [
        "ex = np.array([[0.9, 0.1],\n",
        "               [0.8, 0.2],\n",
        "               [0.4, 0.6]])\n",
        "p = np.average(ex, axis=0, weights=[0.2, 0.2, 0.6])\n",
        "print(p)\n",
        "print(np.argmax(p))"
      ],
      "execution_count": 18,
      "outputs": [
        {
          "output_type": "stream",
          "text": [
            "[0.58 0.42]\n",
            "0\n"
          ],
          "name": "stdout"
        }
      ]
    },
    {
      "cell_type": "code",
      "metadata": {
        "id": "H-CNwkyGOVa7",
        "colab_type": "code",
        "colab": {}
      },
      "source": [
        "from sklearn.base import BaseEstimator\n",
        "from sklearn.base import ClassifierMixin\n",
        "from sklearn.preprocessing import LabelEncoder\n",
        "import six\n",
        "from sklearn.base import clone\n",
        "from sklearn.pipeline import _name_estimators\n",
        "import numpy as np\n",
        "import operator\n",
        "\n",
        "\n",
        "class MajorityVoteClassifier(BaseEstimator, \n",
        "                             ClassifierMixin):\n",
        "    \"\"\"다수결 투표 앙상블 분류기\n",
        "\n",
        "    매개변수\n",
        "    ----------\n",
        "    classifiers : 배열 타입, 크기 = [n_classifiers]\n",
        "      앙상블에 사용할 분류기\n",
        "\n",
        "    vote : str, {'classlabel', 'probability'}\n",
        "      기본값: 'classlabel'\n",
        "      'classlabel'이면 예측은 다수인 클래스 레이블의 인덱스가 됩니다.\n",
        "      'probability'이면 확률 합이 가장 큰 인덱스로 \n",
        "      클래스 레이블을 예측합니다(보정된 분류기에 추천합니다).\n",
        "\n",
        "    weights : 배열 타입, 크기 = [n_classifiers]\n",
        "      선택사항, 기본값: None\n",
        "      `int` 또는 `float` 값의 리스트가 주어지면 분류기가 이 중요도로 가중치됩니다.\n",
        "      `weights=None`이면 동일하게 취급합니다.\n",
        "\n",
        "    \"\"\"\n",
        "    def __init__(self, classifiers, vote='classlabel', weights=None):\n",
        "\n",
        "        self.classifiers = classifiers\n",
        "        self.named_classifiers = {key: value for key, value\n",
        "                                  in _name_estimators(classifiers)}\n",
        "        self.vote = vote\n",
        "        self.weights = weights\n",
        "\n",
        "    def fit(self, X, y):\n",
        "        \"\"\"분류기를 학습합니다.\n",
        "\n",
        "        매개변수\n",
        "        ----------\n",
        "        X : {배열 타입, 희소 행렬},\n",
        "            크기 = [n_samples, n_features]\n",
        "            훈련 샘플 행렬\n",
        "\n",
        "        y : 배열 타입, 크기 = [n_samples]\n",
        "            타깃 클래스 레이블 벡터\n",
        "\n",
        "        반환값\n",
        "        -------\n",
        "        self : 객체\n",
        "\n",
        "        \"\"\"\n",
        "        if self.vote not in ('probability', 'classlabel'):\n",
        "            raise ValueError(\"vote는 'probability' 또는 'classlabel'이어야 합니다.\"\n",
        "                             \"; (vote=%r)이 입력되었습니다.\"\n",
        "                             % self.vote)\n",
        "\n",
        "        if self.weights and len(self.weights) != len(self.classifiers):\n",
        "            raise ValueError('분류기 개수와 가중치 개수는 동일해야 합니다.'\n",
        "                             '; %d개의 가중치와, %d개의 분류기가 입력되었습니다.'\n",
        "                             % (len(self.weights), len(self.classifiers)))\n",
        "\n",
        "        # self.predict 메서드에서 np.argmax를 호출할 때 \n",
        "        # 클래스 레이블이 0부터 시작되어야 하므로 LabelEncoder를 사용합니다.\n",
        "        self.lablenc_ = LabelEncoder()\n",
        "        self.lablenc_.fit(y)\n",
        "        self.classes_ = self.lablenc_.classes_\n",
        "        self.classifiers_ = []\n",
        "        for clf in self.classifiers:\n",
        "            fitted_clf = clone(clf).fit(X, self.lablenc_.transform(y))\n",
        "            self.classifiers_.append(fitted_clf)\n",
        "        return self\n",
        "\n",
        "    def predict(self, X):\n",
        "        \"\"\"X에 대한 클래스 레이블을 예측합니다.\n",
        "\n",
        "        매개변수\n",
        "        ----------\n",
        "        X : {배열 타입, 희소 행렬},\n",
        "            크기 = [n_samples, n_features]\n",
        "            샘플 데이터 행렬\n",
        "\n",
        "        반환값\n",
        "        ----------\n",
        "        maj_vote : 배열 타입, 크기 = [n_samples]\n",
        "            예측된 클래스 레이블\n",
        "            \n",
        "        \"\"\"\n",
        "        if self.vote == 'probability':\n",
        "            maj_vote = np.argmax(self.predict_proba(X), axis=1)\n",
        "        else:  # 'classlabel' 투표\n",
        "\n",
        "            #  clf.predict 메서드를 사용해 결과를 모읍니다.\n",
        "            predictions = np.asarray([clf.predict(X)\n",
        "                                      for clf in self.classifiers_]).T\n",
        "\n",
        "            maj_vote = np.apply_along_axis(\n",
        "                                      lambda x:\n",
        "                                      np.argmax(np.bincount(x,\n",
        "                                                weights=self.weights)),\n",
        "                                      axis=1,\n",
        "                                      arr=predictions)\n",
        "        maj_vote = self.lablenc_.inverse_transform(maj_vote)\n",
        "        return maj_vote\n",
        "\n",
        "    def predict_proba(self, X):\n",
        "        \"\"\"X에 대한 클래스 확률을 예측합니다.\n",
        "\n",
        "        매개변수\n",
        "        ----------\n",
        "        X : {배열 타입, 희소 행렬},\n",
        "            크기 = [n_samples, n_features]\n",
        "            n_samples는 샘플의 개수이고 n_features는 특성의 개수인\n",
        "            샘플 데이터 행렬\n",
        "\n",
        "        반환값\n",
        "        ----------\n",
        "        avg_proba : 배열 타입,\n",
        "            크기 = [n_samples, n_classes]\n",
        "            샘플마다 가중치가 적용된 클래스의 평균 확률\n",
        "\n",
        "        \"\"\"\n",
        "        probas = np.asarray([clf.predict_proba(X)\n",
        "                             for clf in self.classifiers_])\n",
        "        avg_proba = np.average(probas, axis=0, weights=self.weights)\n",
        "        return avg_proba\n",
        "\n",
        "    def get_params(self, deep=True):\n",
        "        \"\"\"GridSearch를 위해서 분류기의 매개변수 이름을 반환합니다\"\"\"\n",
        "        if not deep:\n",
        "            return super(MajorityVoteClassifier, self).get_params(deep=False)\n",
        "        else:\n",
        "            out = self.named_classifiers.copy()\n",
        "            for name, step in six.iteritems(self.named_classifiers):\n",
        "                for key, value in six.iteritems(step.get_params(deep=True)):\n",
        "                    out['%s__%s' % (name, key)] = value\n",
        "            return out"
      ],
      "execution_count": 0,
      "outputs": []
    },
    {
      "cell_type": "markdown",
      "metadata": {
        "id": "DpgkVawuANfH",
        "colab_type": "text"
      },
      "source": [
        "###7.2.2 다수결 투표 방식을 사용하여 예측 만들기"
      ]
    },
    {
      "cell_type": "code",
      "metadata": {
        "id": "tIWtxX-ENH95",
        "colab_type": "code",
        "colab": {}
      },
      "source": [
        "from sklearn import datasets\n",
        "from sklearn.preprocessing import StandardScaler\n",
        "from sklearn.preprocessing import LabelEncoder\n",
        "from sklearn.model_selection import train_test_split\n",
        "\n",
        "iris = datasets.load_iris()\n",
        "X, y = iris.data[50:, [1, 2]], iris.target[50:]\n",
        "le = LabelEncoder()\n",
        "y = le.fit_transform(y)\n",
        "\n",
        "X_train, X_test, y_train, y_test =\\\n",
        "       train_test_split(X, y, \n",
        "                        test_size=0.5, \n",
        "                        random_state=1,\n",
        "                        stratify=y)"
      ],
      "execution_count": 0,
      "outputs": []
    },
    {
      "cell_type": "code",
      "metadata": {
        "id": "zTCmfxuSCKY7",
        "colab_type": "code",
        "colab": {
          "base_uri": "https://localhost:8080/",
          "height": 107
        },
        "outputId": "8d998dc7-cb74-446a-c7da-3a6878fcc638"
      },
      "source": [
        "import numpy as np\n",
        "from sklearn.linear_model import LogisticRegression\n",
        "from sklearn.tree import DecisionTreeClassifier\n",
        "from sklearn.neighbors import KNeighborsClassifier \n",
        "from sklearn.pipeline import Pipeline\n",
        "from sklearn.model_selection import cross_val_score\n",
        "\n",
        "clf1 = LogisticRegression(solver='liblinear',\n",
        "                          penalty='l2', \n",
        "                          C=0.001,\n",
        "                          random_state=1)\n",
        "\n",
        "clf2 = DecisionTreeClassifier(max_depth=1,\n",
        "                              criterion='entropy',\n",
        "                              random_state=0)\n",
        "\n",
        "clf3 = KNeighborsClassifier(n_neighbors=1,\n",
        "                            p=2,\n",
        "                            metric='minkowski')\n",
        "\n",
        "pipe1 = Pipeline([['sc', StandardScaler()],\n",
        "                  ['clf', clf1]])\n",
        "pipe3 = Pipeline([['sc', StandardScaler()],\n",
        "                  ['clf', clf3]])\n",
        "\n",
        "clf_labels = ['Logistic regression', 'Decision tree', 'KNN']\n",
        "\n",
        "print('10-겹 교차 검증:\\n')\n",
        "for clf, label in zip([pipe1, clf2, pipe3], clf_labels):\n",
        "    scores = cross_val_score(estimator=clf,\n",
        "                             X=X_train,\n",
        "                             y=y_train,\n",
        "                             cv=10,\n",
        "                             scoring='roc_auc')\n",
        "    print(\"ROC AUC: %0.2f (+/- %0.2f) [%s]\"\n",
        "          % (scores.mean(), scores.std(), label))"
      ],
      "execution_count": 105,
      "outputs": [
        {
          "output_type": "stream",
          "text": [
            "10-겹 교차 검증:\n",
            "\n",
            "ROC AUC: 0.92 (+/- 0.15) [Logistic regression]\n",
            "ROC AUC: 0.87 (+/- 0.18) [Decision tree]\n",
            "ROC AUC: 0.85 (+/- 0.13) [KNN]\n"
          ],
          "name": "stdout"
        }
      ]
    },
    {
      "cell_type": "code",
      "metadata": {
        "id": "9wsRhOdvDvRI",
        "colab_type": "code",
        "colab": {
          "base_uri": "https://localhost:8080/",
          "height": 89
        },
        "outputId": "e6d342cc-9e8f-4582-e003-7aaaae1a873f"
      },
      "source": [
        "# 다수결 투표 (클래스 레이블 카운트\u001b)\n",
        "\n",
        "mv_clf = MajorityVoteClassifier(classifiers=[pipe1, clf2, pipe3])\n",
        "\n",
        "clf_labels += ['Majority voting']\n",
        "all_clf = [pipe1, clf2, pipe3, mv_clf]\n",
        "\n",
        "for clf, label in zip(all_clf, clf_labels):\n",
        "    scores = cross_val_score(estimator=clf,\n",
        "                             X=X_train,\n",
        "                             y=y_train,\n",
        "                             cv=10,\n",
        "                             scoring='roc_auc')\n",
        "    print(\"ROC AUC: %0.2f (+/- %0.2f) [%s]\"\n",
        "          % (scores.mean(), scores.std(), label))"
      ],
      "execution_count": 106,
      "outputs": [
        {
          "output_type": "stream",
          "text": [
            "ROC AUC: 0.92 (+/- 0.15) [Logistic regression]\n",
            "ROC AUC: 0.87 (+/- 0.18) [Decision tree]\n",
            "ROC AUC: 0.85 (+/- 0.13) [KNN]\n",
            "ROC AUC: 0.98 (+/- 0.05) [Majority voting]\n"
          ],
          "name": "stdout"
        }
      ]
    },
    {
      "cell_type": "markdown",
      "metadata": {
        "id": "gQCFaQd6Pjnm",
        "colab_type": "text"
      },
      "source": [
        "###7.2.3 앙상블 분류기의 평가와 튜닝"
      ]
    },
    {
      "cell_type": "code",
      "metadata": {
        "id": "LjpFfCALDUH7",
        "colab_type": "code",
        "colab": {
          "base_uri": "https://localhost:8080/",
          "height": 279
        },
        "outputId": "37e2e6f8-f60a-4606-cd6a-dedf753aa15b"
      },
      "source": [
        "from sklearn.metrics import roc_curve\n",
        "from sklearn.metrics import auc\n",
        "\n",
        "colors = ['black', 'orange', 'blue', 'green']\n",
        "linestyles = [':', '--', '-.', '-']\n",
        "for clf, label, clr, ls in zip(all_clf, clf_labels, colors, linestyles):\n",
        "  # 양성 클래스의 레이블이 1이라고 가정\n",
        "  y_pred = clf.fit(X_train, y_train).predict_proba(X_test)[:, 1]\n",
        "  fpr, tpr, thresholds = roc_curve(y_true=y_test, y_score=y_pred)\n",
        "  roc_auc = auc(x=fpr, y=tpr)\n",
        "  plt.plot(fpr, tpr, color=clr, linestyle=ls, label='%s (auc = %0.2f)' % (label, roc_auc))\n",
        "\n",
        "plt.legend(loc='lower right')\n",
        "plt.plot([0, 1], [0, 1],\n",
        "         linestyle='--',\n",
        "         color='gray',\n",
        "         linewidth=2)\n",
        "plt.xlim([-0.1, 1.1])\n",
        "plt.ylim([-0.1, 1.1])\n",
        "plt.grid(alpha=0.5)\n",
        "plt.xlabel('False positive rate (FPR)')\n",
        "plt.ylabel('True positive rate (TPR)')\n",
        "plt.show()"
      ],
      "execution_count": 110,
      "outputs": [
        {
          "output_type": "display_data",
          "data": {
            "image/png": "[encoded data removed]",
            "text/plain": [
              "<Figure size 432x288 with 1 Axes>"
            ]
          },
          "metadata": {
            "tags": [],
            "needs_background": "light"
          }
        }
      ]
    },
    {
      "cell_type": "code",
      "metadata": {
        "id": "DNduj-77SWuE",
        "colab_type": "code",
        "colab": {
          "base_uri": "https://localhost:8080/",
          "height": 347
        },
        "outputId": "332c0dcb-0561-4afe-e6c3-f1a61f882886"
      },
      "source": [
        "sc = StandardScaler()\n",
        "X_train_std = sc.fit_transform(X_train)\n",
        "from itertools import product\n",
        "x_min = X_train_std[:, 0].min() - 1\n",
        "x_max = X_train_std[:, 0].max() + 1\n",
        "y_min = X_train_std[:, 1].min() - 1\n",
        "y_max = X_train_std[:, 1].max() + 1\n",
        "xx, yy = np.meshgrid(np.arange(x_min, x_max, 0.1),\n",
        "                     np.arange(y_min, y_max, 0.1))\n",
        "f, axarr = plt.subplots(nrows=2, ncols=2,\n",
        "                        sharex='col',\n",
        "                        sharey='row',\n",
        "                        figsize=(7, 5))\n",
        "for idx, clf, tt in zip(product([0, 1], [0, 1]),\n",
        "                        all_clf, clf_labels):\n",
        "  clf.fit(X_train_std, y_train)\n",
        "  Z = clf.predict(np.c_[xx.ravel(), yy.ravel()])\n",
        "  Z = Z.reshape(xx.shape)\n",
        "  axarr[idx[0], idx[1]].contourf(xx, yy, Z, alpha=0.3)\n",
        "  axarr[idx[0], idx[1]].scatter(X_train_std[y_train==0, 0],\n",
        "                                X_train_std[y_train==0, 1],\n",
        "                                c='blue',\n",
        "                                marker='^',\n",
        "                                s=50)\n",
        "  axarr[idx[0], idx[1]].scatter(X_train_std[y_train==1, 0],\n",
        "                                X_train_std[y_train==1, 1],\n",
        "                                c='green',\n",
        "                                marker='o',\n",
        "                                s=50)\n",
        "  axarr[idx[0], idx[1]].set_title(tt)\n",
        "plt.text(-3.5, -4.5,\n",
        "         s='Sepal width [standardized]',\n",
        "         ha='center', va='center', fontsize=12)\n",
        "plt.text(-10.5, 4.5,\n",
        "         s='Petal width [standardized]',\n",
        "         ha='center', va='center', \n",
        "         fontsize=12, rotation=90)\n",
        "plt.show()"
      ],
      "execution_count": 111,
      "outputs": [
        {
          "output_type": "display_data",
          "data": {
            "image/png": "[encoded data removed]",
            "text/plain": [
              "<Figure size 504x360 with 4 Axes>"
            ]
          },
          "metadata": {
            "tags": [],
            "needs_background": "light"
          }
        }
      ]
    },
    {
      "cell_type": "code",
      "metadata": {
        "id": "gdJkVv5KXJGm",
        "colab_type": "code",
        "colab": {
          "base_uri": "https://localhost:8080/",
          "height": 197
        },
        "outputId": "3dd8aed2-d881-4939-c34b-4eef76f90bf0"
      },
      "source": [
        "from sklearn.model_selection import GridSearchCV\n",
        "\n",
        "params = {'decisiontreeclassifier__max_depth' : [1, 2],\n",
        "          'pipeline-1__clf__C' : [0.001, 0.1, 100.0]}\n",
        "\n",
        "grid = GridSearchCV(estimator=mv_clf,\n",
        "                    param_grid=params,\n",
        "                    cv=10,\n",
        "                    scoring='roc_auc',\n",
        "                    iid=False)\n",
        "grid.fit(X_train, y_train)\n",
        "\n",
        "for r, _ in enumerate(grid.cv_results_['mean_test_score']):\n",
        "    print(\"%0.3f +/- %0.2f %r\"\n",
        "          % (grid.cv_results_['mean_test_score'][r], \n",
        "             grid.cv_results_['std_test_score'][r] / 2.0, \n",
        "             grid.cv_results_['params'][r]))\n",
        "\n",
        "print('최적의 매개변수: %s' % grid.best_params_)\n",
        "print('정확도: %.2f' % grid.best_score_)"
      ],
      "execution_count": 114,
      "outputs": [
        {
          "output_type": "stream",
          "text": [
            "0.983 +/- 0.02 {'decisiontreeclassifier__max_depth': 1, 'pipeline-1__clf__C': 0.001}\n",
            "0.983 +/- 0.02 {'decisiontreeclassifier__max_depth': 1, 'pipeline-1__clf__C': 0.1}\n",
            "0.967 +/- 0.05 {'decisiontreeclassifier__max_depth': 1, 'pipeline-1__clf__C': 100.0}\n",
            "0.983 +/- 0.02 {'decisiontreeclassifier__max_depth': 2, 'pipeline-1__clf__C': 0.001}\n",
            "0.983 +/- 0.02 {'decisiontreeclassifier__max_depth': 2, 'pipeline-1__clf__C': 0.1}\n",
            "0.967 +/- 0.05 {'decisiontreeclassifier__max_depth': 2, 'pipeline-1__clf__C': 100.0}\n",
            "최적의 매개변수: {'decisiontreeclassifier__max_depth': 1, 'pipeline-1__clf__C': 0.001}\n",
            "정확도: 0.98\n"
          ],
          "name": "stdout"
        },
        {
          "output_type": "stream",
          "text": [
            "/usr/local/lib/python3.6/dist-packages/sklearn/model_selection/_search.py:823: FutureWarning: The parameter 'iid' is deprecated in 0.22 and will be removed in 0.24.\n",
            "  \"removed in 0.24.\", FutureWarning\n"
          ],
          "name": "stderr"
        }
      ]
    },
    {
      "cell_type": "markdown",
      "metadata": {
        "id": "u-Q6lZcNZNAt",
        "colab_type": "text"
      },
      "source": [
        "##7.3 배깅: 부트스트랩 샘플링을 통한 분류 앙상블"
      ]
    },
    {
      "cell_type": "markdown",
      "metadata": {
        "id": "wcHq4zKQqnKJ",
        "colab_type": "text"
      },
      "source": [
        "배깅(bootstrap aggregating) : 앙상블에 있는 개별 분류기를 동일한 훈련 세트로 학습하는 것이 아니라 원본 훈련 세트에서 부트스트랩(bootstrap) 샘플(중복을 허용한 랜덤 샘플)을 뽑아서 사용한다."
      ]
    },
    {
      "cell_type": "markdown",
      "metadata": {
        "id": "k1Kne4GDrM4W",
        "colab_type": "text"
      },
      "source": [
        "###7.3.1 배깅 알고리즘의 작동 방식"
      ]
    },
    {
      "cell_type": "markdown",
      "metadata": {
        "id": "EkMJ_g8csMh2",
        "colab_type": "text"
      },
      "source": [
        "예를 들면, 일곱 개의 훈련 샘플이 있다고 가정하자.\n",
        "\n",
        "배깅 단계마다 중복을 허용하여 랜덤하게 샘플링된다.\n",
        "\n",
        "각각의 부트스트랩 샘플을 사용하여 분류기를 학습한다.\n",
        "\n",
        "일반적으로 가지치기하지 않는 결정 트리를 분류기로 사용한다.\n",
        "\n",
        "중복을 허용한 샘플링을 하기 때문에 각 부분 집합에는 일부가 중복되어 있고 원본 샘플 중 일부는 포함되어 있지 않을 수도 있다.\n",
        "\n",
        "개별 분류기가 부트스트랩 샘플에 학습되고 나면 다수결 투표를 사용하여 예측을 모은다.\n",
        "\n"
      ]
    },
    {
      "cell_type": "markdown",
      "metadata": {
        "id": "1_oukYjMtD4f",
        "colab_type": "text"
      },
      "source": [
        "###7.3.2 배깅으로 Wine 데이터셋의 샘플 분류"
      ]
    },
    {
      "cell_type": "code",
      "metadata": {
        "id": "Gkixo4WuX08W",
        "colab_type": "code",
        "colab": {}
      },
      "source": [
        "import pandas as pd\n",
        "\n",
        "df_wine = pd.read_csv('https://archive.ics.uci.edu/ml/'\n",
        "                      'machine-learning-databases/wine/wine.data',\n",
        "                      header=None)\n",
        "\n",
        "df_wine.columns = ['Class label', 'Alcohol', 'Malic acid', 'Ash',\n",
        "                   'Alcalinity of ash', 'Magnesium', 'Total phenols',\n",
        "                   'Flavanoids', 'Nonflavanoid phenols', 'Proanthocyanins',\n",
        "                   'Color intensity', 'Hue', 'OD280/OD315 of diluted wines',\n",
        "                   'Proline']\n",
        "\n",
        "# 클래스 1 제외하기\n",
        "df_wine = df_wine[df_wine['Class label'] != 1]\n",
        "\n",
        "y = df_wine['Class label'].values\n",
        "X = df_wine[['Alcohol', 'OD280/OD315 of diluted wines']].values"
      ],
      "execution_count": 0,
      "outputs": []
    },
    {
      "cell_type": "code",
      "metadata": {
        "id": "-TlUGh2atVMl",
        "colab_type": "code",
        "colab": {}
      },
      "source": [
        "from sklearn.preprocessing import LabelEncoder\n",
        "from sklearn.model_selection import train_test_split\n",
        "\n",
        "\n",
        "le = LabelEncoder()\n",
        "y = le.fit_transform(y)\n",
        "\n",
        "X_train, X_test, y_train, y_test =\\\n",
        "            train_test_split(X, y, \n",
        "                             test_size=0.2, \n",
        "                             random_state=1,\n",
        "                             stratify=y)"
      ],
      "execution_count": 0,
      "outputs": []
    },
    {
      "cell_type": "code",
      "metadata": {
        "id": "S2yr2uwntXF2",
        "colab_type": "code",
        "colab": {}
      },
      "source": [
        "from sklearn.ensemble import BaggingClassifier\n",
        "from sklearn.tree import DecisionTreeClassifier\n",
        "\n",
        "tree = DecisionTreeClassifier(criterion='entropy', \n",
        "                              max_depth=None,\n",
        "                              random_state=1)\n",
        "\n",
        "bag = BaggingClassifier(base_estimator=tree,\n",
        "                        n_estimators=500, \n",
        "                        max_samples=1.0, \n",
        "                        max_features=1.0, \n",
        "                        bootstrap=True, \n",
        "                        bootstrap_features=False, \n",
        "                        n_jobs=1, \n",
        "                        random_state=1)"
      ],
      "execution_count": 0,
      "outputs": []
    },
    {
      "cell_type": "code",
      "metadata": {
        "id": "-Xq279xltcAG",
        "colab_type": "code",
        "colab": {
          "base_uri": "https://localhost:8080/",
          "height": 53
        },
        "outputId": "b16f3d7b-8c1f-4ce3-98a8-0dee4e0c5339"
      },
      "source": [
        "from sklearn.metrics import accuracy_score\n",
        "\n",
        "tree = tree.fit(X_train, y_train)\n",
        "y_train_pred = tree.predict(X_train)\n",
        "y_test_pred = tree.predict(X_test)\n",
        "\n",
        "tree_train = accuracy_score(y_train, y_train_pred)\n",
        "tree_test = accuracy_score(y_test, y_test_pred)\n",
        "print('결정 트리의 훈련 정확도/테스트 정확도 %.3f/%.3f'\n",
        "      % (tree_train, tree_test))\n",
        "\n",
        "bag = bag.fit(X_train, y_train)\n",
        "y_train_pred = bag.predict(X_train)\n",
        "y_test_pred = bag.predict(X_test)\n",
        "\n",
        "bag_train = accuracy_score(y_train, y_train_pred) \n",
        "bag_test = accuracy_score(y_test, y_test_pred) \n",
        "print('배깅의 훈련 정확도/테스트 정확도 %.3f/%.3f'\n",
        "      % (bag_train, bag_test))"
      ],
      "execution_count": 119,
      "outputs": [
        {
          "output_type": "stream",
          "text": [
            "결정 트리의 훈련 정확도/테스트 정확도 1.000/0.833\n",
            "배깅의 훈련 정확도/테스트 정확도 1.000/0.917\n"
          ],
          "name": "stdout"
        }
      ]
    },
    {
      "cell_type": "code",
      "metadata": {
        "id": "fBma1S33tgyF",
        "colab_type": "code",
        "colab": {
          "base_uri": "https://localhost:8080/",
          "height": 222
        },
        "outputId": "7faeb392-90b0-4f9f-b470-f4ac2ac62f13"
      },
      "source": [
        "import numpy as np\n",
        "import matplotlib.pyplot as plt\n",
        "\n",
        "x_min = X_train[:, 0].min() - 1\n",
        "x_max = X_train[:, 0].max() + 1\n",
        "y_min = X_train[:, 1].min() - 1\n",
        "y_max = X_train[:, 1].max() + 1\n",
        "\n",
        "xx, yy = np.meshgrid(np.arange(x_min, x_max, 0.1),\n",
        "                     np.arange(y_min, y_max, 0.1))\n",
        "\n",
        "f, axarr = plt.subplots(nrows=1, ncols=2, \n",
        "                        sharex='col', \n",
        "                        sharey='row', \n",
        "                        figsize=(8, 3))\n",
        "\n",
        "\n",
        "for idx, clf, tt in zip([0, 1],\n",
        "                        [tree, bag],\n",
        "                        ['Decision tree', 'Bagging']):\n",
        "    clf.fit(X_train, y_train)\n",
        "\n",
        "    Z = clf.predict(np.c_[xx.ravel(), yy.ravel()])\n",
        "    Z = Z.reshape(xx.shape)\n",
        "\n",
        "    axarr[idx].contourf(xx, yy, Z, alpha=0.3)\n",
        "    axarr[idx].scatter(X_train[y_train == 0, 0],\n",
        "                       X_train[y_train == 0, 1],\n",
        "                       c='blue', marker='^')\n",
        "\n",
        "    axarr[idx].scatter(X_train[y_train == 1, 0],\n",
        "                       X_train[y_train == 1, 1],\n",
        "                       c='green', marker='o')\n",
        "\n",
        "    axarr[idx].set_title(tt)\n",
        "\n",
        "axarr[0].set_ylabel('Alcohol', fontsize=12)\n",
        "plt.text(10.2, -0.5,\n",
        "         s='OD280/OD315 of diluted wines',\n",
        "         ha='center', va='center', fontsize=12)\n",
        "\n",
        "plt.tight_layout()\n",
        "plt.show()"
      ],
      "execution_count": 120,
      "outputs": [
        {
          "output_type": "display_data",
          "data": {
            "image/png": "[encoded data removed]",
            "text/plain": [
              "<Figure size 576x216 with 2 Axes>"
            ]
          },
          "metadata": {
            "tags": [],
            "needs_background": "light"
          }
        }
      ]
    },
    {
      "cell_type": "markdown",
      "metadata": {
        "id": "V_DJtxxUtz_6",
        "colab_type": "text"
      },
      "source": [
        "고차원 데이터셋을 사용하는 더 복잡한 분류 문제라면 단일 경정 트리가 쉽게 과대적합될 수 있다.\n",
        "\n",
        "이런 경우에 배깅 알고리즘의 강력함이 제대로 발휘된다.\n",
        "\n",
        "배깅 알고리즘은 모델의 분산을 감소하는 효과적인 방법이지만 모델의 편향을 낮추는 데는 효과적이지 않다.\n",
        "\n",
        "이것이 배깅을 수행할 때 편향이 낮은 모델, 예를 들어 가지치기하지 않은 결정 트리를 분류기로 사용하여 앙상블을 만드는 이유이다."
      ]
    },
    {
      "cell_type": "markdown",
      "metadata": {
        "id": "kYiESWKRuJde",
        "colab_type": "text"
      },
      "source": [
        "##7.4 약한 학습기를 이용한 에이다부스트"
      ]
    },
    {
      "cell_type": "markdown",
      "metadata": {
        "id": "DFR42Xy7uY5F",
        "colab_type": "text"
      },
      "source": [
        "부스팅(boosting) : 앙상블을 약한 학습기(weak learner)인 매우 간단한 분류기로 구성한다. 이 분류기는 랜덤 추측보다 조금 성능이 좋다. 전형적인 예로 깊이가 1인 결정 트리가 있다. 부스팅의 핵심 아이디어는 분류하기 어려운 훈련 샘플에 초점을 맞추는 것이다. 즉, 잘못 분류된 훈련 샘플을 그다음 약한 학습기가 학습하여 앙상블 성능을 향상시킨다.\n",
        "\n",
        "에이다부스트(AdaBoost, Adaptive Boosting) : 가장 유명한 부스팅 구현"
      ]
    },
    {
      "cell_type": "markdown",
      "metadata": {
        "id": "ThBfEOfZvHGN",
        "colab_type": "text"
      },
      "source": [
        "###7.4.1 부스팅 작동 원리"
      ]
    },
    {
      "cell_type": "markdown",
      "metadata": {
        "id": "NwbfFEkFvMJH",
        "colab_type": "text"
      },
      "source": [
        "배깅과 달리 부스팅의 초창기 방법은 중복을 허용하지 않고 훈련 세트에서 랜덤 샘플을 추출하여 부분 집합을 구성한다.\n",
        "\n",
        "1. 훈련 세트에서 중복을 허용하지 않고 랜덤한 부분 집합을 뽑아 약한 학습기를 훈련한다.\n",
        "\n",
        "2. 훈련 세트에서 중복을 허용하지 않고 두 번째 랜덤한 훈련 부분 집합을 뽑고 이전에 잘못 분류된 샘플의 50%를 더해서 약한 학습기를 훈련한다.\n",
        "\n",
        "3. 훈련 세트에서 1.과 2.에서 잘못 분류한 훈련 샘플을 찾아 세 번째 약한 학습기로 훈련한다.\n",
        "\n",
        "4. 약한 학습기 세 개를 다수결 투표로 연결한다."
      ]
    },
    {
      "cell_type": "markdown",
      "metadata": {
        "id": "GND9D5i6xtcQ",
        "colab_type": "text"
      },
      "source": [
        "###7.4.2 사이킷런에서 에이다부스트 사용"
      ]
    },
    {
      "cell_type": "code",
      "metadata": {
        "id": "yw1BUW84ti-G",
        "colab_type": "code",
        "colab": {}
      },
      "source": [
        "from sklearn.ensemble import AdaBoostClassifier\n",
        "\n",
        "tree = DecisionTreeClassifier(criterion='entropy', \n",
        "                              max_depth=1,\n",
        "                              random_state=1)\n",
        "\n",
        "ada = AdaBoostClassifier(base_estimator=tree,\n",
        "                         n_estimators=500, \n",
        "                         learning_rate=0.1,\n",
        "                         random_state=1)"
      ],
      "execution_count": 0,
      "outputs": []
    },
    {
      "cell_type": "code",
      "metadata": {
        "id": "GXxndKK5x2C4",
        "colab_type": "code",
        "colab": {
          "base_uri": "https://localhost:8080/",
          "height": 53
        },
        "outputId": "918dd00d-292b-46cb-e2e6-523c3ad5c26a"
      },
      "source": [
        "tree = tree.fit(X_train, y_train)\n",
        "y_train_pred = tree.predict(X_train)\n",
        "y_test_pred = tree.predict(X_test)\n",
        "\n",
        "tree_train = accuracy_score(y_train, y_train_pred)\n",
        "tree_test = accuracy_score(y_test, y_test_pred)\n",
        "print('결정 트리의 훈련 정확도/테스트 정확도 %.3f/%.3f'\n",
        "      % (tree_train, tree_test))\n",
        "\n",
        "ada = ada.fit(X_train, y_train)\n",
        "y_train_pred = ada.predict(X_train)\n",
        "y_test_pred = ada.predict(X_test)\n",
        "\n",
        "ada_train = accuracy_score(y_train, y_train_pred) \n",
        "ada_test = accuracy_score(y_test, y_test_pred) \n",
        "print('에이다부스트의 훈련 정확도/테스트 정확도 %.3f/%.3f'\n",
        "      % (ada_train, ada_test))"
      ],
      "execution_count": 122,
      "outputs": [
        {
          "output_type": "stream",
          "text": [
            "결정 트리의 훈련 정확도/테스트 정확도 0.916/0.875\n",
            "에이다부스트의 훈련 정확도/테스트 정확도 1.000/0.917\n"
          ],
          "name": "stdout"
        }
      ]
    },
    {
      "cell_type": "code",
      "metadata": {
        "id": "iiolbnMlx3P-",
        "colab_type": "code",
        "colab": {
          "base_uri": "https://localhost:8080/",
          "height": 222
        },
        "outputId": "c4987b8e-179b-45db-a9b1-0e4cd658edd6"
      },
      "source": [
        "x_min, x_max = X_train[:, 0].min() - 1, X_train[:, 0].max() + 1\n",
        "y_min, y_max = X_train[:, 1].min() - 1, X_train[:, 1].max() + 1\n",
        "xx, yy = np.meshgrid(np.arange(x_min, x_max, 0.1),\n",
        "                     np.arange(y_min, y_max, 0.1))\n",
        "\n",
        "f, axarr = plt.subplots(1, 2, sharex='col', sharey='row', figsize=(8, 3))\n",
        "\n",
        "\n",
        "for idx, clf, tt in zip([0, 1],\n",
        "                        [tree, ada],\n",
        "                        ['Decision tree', 'AdaBoost']):\n",
        "    clf.fit(X_train, y_train)\n",
        "\n",
        "    Z = clf.predict(np.c_[xx.ravel(), yy.ravel()])\n",
        "    Z = Z.reshape(xx.shape)\n",
        "\n",
        "    axarr[idx].contourf(xx, yy, Z, alpha=0.3)\n",
        "    axarr[idx].scatter(X_train[y_train == 0, 0],\n",
        "                       X_train[y_train == 0, 1],\n",
        "                       c='blue', marker='^')\n",
        "    axarr[idx].scatter(X_train[y_train == 1, 0],\n",
        "                       X_train[y_train == 1, 1],\n",
        "                       c='green', marker='o')\n",
        "    axarr[idx].set_title(tt)\n",
        "\n",
        "axarr[0].set_ylabel('Alcohol', fontsize=12)\n",
        "plt.text(10.2, -0.5,\n",
        "         s='OD280/OD315 of diluted wines',\n",
        "         ha='center', va='center', fontsize=12)\n",
        "\n",
        "plt.tight_layout()\n",
        "plt.show()"
      ],
      "execution_count": 123,
      "outputs": [
        {
          "output_type": "display_data",
          "data": {
            "image/png": "[encoded data removed]",
            "text/plain": [
              "<Figure size 576x216 with 2 Axes>"
            ]
          },
          "metadata": {
            "tags": [],
            "needs_background": "light"
          }
        }
      ]
    },
    {
      "cell_type": "code",
      "metadata": {
        "id": "aWOhN7-Px_3G",
        "colab_type": "code",
        "colab": {
          "base_uri": "https://localhost:8080/",
          "height": 53
        },
        "outputId": "95da8199-d792-4525-ee44-ecaf40713a62"
      },
      "source": [
        "# 부스팅 알고리즘 중 인기 있는 다른 알고리즘은 그래디언트 부스팅(Gradient Boosting)이다.\n",
        "# 에이다부스트와는 달리 이전의 약한 학습기가 만든 잔차 오차(residual error)에 대해 학습하는 새로운 학습기를 추가한다.\n",
        "from sklearn.ensemble import GradientBoostingClassifier\n",
        "\n",
        "gbrt = GradientBoostingClassifier(n_estimators=20, random_state=42)\n",
        "\n",
        "gbrt.fit(X_train, y_train)\n",
        "gbrt_train_score = gbrt.score(X_train, y_train)\n",
        "gbrt_test_score = gbrt.score(X_test, y_test)\n",
        "\n",
        "print('앙상블에 사용한 트리 개수 %d' % gbrt.n_estimators_)\n",
        "print('그래디언트 부스팅 train/test 정확도 %.3f/%.3f'\n",
        "      % (gbrt_train_score, gbrt_test_score))"
      ],
      "execution_count": 125,
      "outputs": [
        {
          "output_type": "stream",
          "text": [
            "앙상블에 사용한 트리 개수 20\n",
            "그래디언트 부스팅 train/test 정확도 1.000/0.917\n"
          ],
          "name": "stdout"
        }
      ]
    },
    {
      "cell_type": "markdown",
      "metadata": {
        "id": "ioq2CgvHyx_h",
        "colab_type": "text"
      },
      "source": [
        "##7.5 요약"
      ]
    },
    {
      "cell_type": "markdown",
      "metadata": {
        "id": "3be-C4UIy1Pv",
        "colab_type": "text"
      },
      "source": [
        "앙상블 방법은 개별 분류기의 약점을 보완하기 위해 다양한 모델을 결합한다.\n",
        "\n",
        "배깅은 훈련 세트에서 랜덤한 부트스트랩 샘플을 추출하고 다수결 투표를 통해 훈련된 개별 분류기를 결합함으로써 모델의 분산을 감소시킨다.\n",
        "\n",
        "에이다부스트는 오차로부터 점진적으로 학습하는 약한 학습기를 기반으로 하는 알고리즘이다."
      ]
    },
    {
      "cell_type": "code",
      "metadata": {
        "id": "i_5tp5bhynQm",
        "colab_type": "code",
        "colab": {}
      },
      "source": [
        ""
      ],
      "execution_count": 0,
      "outputs": []
    }
  ]
}