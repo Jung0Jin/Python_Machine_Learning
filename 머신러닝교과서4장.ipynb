{
  "nbformat": 4,
  "nbformat_minor": 0,
  "metadata": {
    "colab": {
      "name": "머신러닝교과서4장.ipynb",
      "provenance": [],
      "collapsed_sections": [],
      "toc_visible": true,
      "authorship_tag": "ABX9TyPhEkywleaGAqAr77UuMUpl",
      "include_colab_link": true
    },
    "kernelspec": {
      "name": "python3",
      "display_name": "Python 3"
    }
  },
  "cells": [
    {
      "cell_type": "markdown",
      "metadata": {
        "id": "view-in-github",
        "colab_type": "text"
      },
      "source": [
        "<a href=\"https://colab.research.google.com/github/Jung0Jin/Python_Machine_Learning/blob/master/%EB%A8%B8%EC%8B%A0%EB%9F%AC%EB%8B%9D%EA%B5%90%EA%B3%BC%EC%84%9C4%EC%9E%A5.ipynb\" target=\"_parent\"><img src=\"https://colab.research.google.com/assets/colab-badge.svg\" alt=\"Open In Colab\"/></a>"
      ]
    },
    {
      "cell_type": "markdown",
      "metadata": {
        "id": "ntnkMP22kmM_",
        "colab_type": "text"
      },
      "source": [
        "#4장 좋은 훈련 세트 만들기: 데이터 전처리"
      ]
    },
    {
      "cell_type": "markdown",
      "metadata": {
        "id": "d3L-3fxMk2Sw",
        "colab_type": "text"
      },
      "source": [
        "+ 데이터셋에서 누락된 값을 제거하거나 대체하기\n",
        "\n",
        "+ 머신 러닝 알고리즘을 위해 범주형 데이터 변환하기\n",
        "\n",
        "+ 모델과 관련이 높은 특성 선택하기"
      ]
    },
    {
      "cell_type": "markdown",
      "metadata": {
        "id": "ZX57m5IQk_Ol",
        "colab_type": "text"
      },
      "source": [
        "##4.1 누락된 데이터 다루기"
      ]
    },
    {
      "cell_type": "markdown",
      "metadata": {
        "id": "dIRtnCmklITf",
        "colab_type": "text"
      },
      "source": [
        "NaN : Not A Number 숫자가 아니다.\n",
        "\n",
        "NULL : 없다는 의미"
      ]
    },
    {
      "cell_type": "markdown",
      "metadata": {
        "id": "WQeBIlnmld3G",
        "colab_type": "text"
      },
      "source": [
        "###4.1.1 테이블 형태 데이터에서 누락된 값 식별"
      ]
    },
    {
      "cell_type": "code",
      "metadata": {
        "id": "7ftRTtxHkDku",
        "colab_type": "code",
        "colab": {}
      },
      "source": [
        "import pandas as pd\n",
        "from io import StringIO"
      ],
      "execution_count": 0,
      "outputs": []
    },
    {
      "cell_type": "code",
      "metadata": {
        "id": "XxmhoNOnlmA5",
        "colab_type": "code",
        "colab": {}
      },
      "source": [
        "csv_data = \\\n",
        "'''A,B,C,D\n",
        "1.0, 2.0, 3.0, 4.0\n",
        "5.0, 6.0,,8.0\n",
        "10.0,11.0,12.0,'''"
      ],
      "execution_count": 0,
      "outputs": []
    },
    {
      "cell_type": "code",
      "metadata": {
        "id": "qIasMZgWlp5_",
        "colab_type": "code",
        "colab": {}
      },
      "source": [
        "df = pd.read_csv(StringIO(csv_data)) # StringIO 함수를 사용하면 하드 디스크에 있는 일반 CSV 파일처럼 csv_data에 저장된 문자열을 읽어올 수 있다."
      ],
      "execution_count": 0,
      "outputs": []
    },
    {
      "cell_type": "code",
      "metadata": {
        "id": "Cmyu55TemLi1",
        "colab_type": "code",
        "outputId": "2e8c8a26-e156-4711-82b5-e2e3332987b6",
        "colab": {
          "base_uri": "https://localhost:8080/",
          "height": 142
        }
      },
      "source": [
        "df"
      ],
      "execution_count": 186,
      "outputs": [
        {
          "output_type": "execute_result",
          "data": {
            "text/html": [
              "<div>\n",
              "<style scoped>\n",
              "    .dataframe tbody tr th:only-of-type {\n",
              "        vertical-align: middle;\n",
              "    }\n",
              "\n",
              "    .dataframe tbody tr th {\n",
              "        vertical-align: top;\n",
              "    }\n",
              "\n",
              "    .dataframe thead th {\n",
              "        text-align: right;\n",
              "    }\n",
              "</style>\n",
              "<table border=\"1\" class=\"dataframe\">\n",
              "  <thead>\n",
              "    <tr style=\"text-align: right;\">\n",
              "      <th></th>\n",
              "      <th>A</th>\n",
              "      <th>B</th>\n",
              "      <th>C</th>\n",
              "      <th>D</th>\n",
              "    </tr>\n",
              "  </thead>\n",
              "  <tbody>\n",
              "    <tr>\n",
              "      <th>0</th>\n",
              "      <td>1.0</td>\n",
              "      <td>2.0</td>\n",
              "      <td>3.0</td>\n",
              "      <td>4.0</td>\n",
              "    </tr>\n",
              "    <tr>\n",
              "      <th>1</th>\n",
              "      <td>5.0</td>\n",
              "      <td>6.0</td>\n",
              "      <td>NaN</td>\n",
              "      <td>8.0</td>\n",
              "    </tr>\n",
              "    <tr>\n",
              "      <th>2</th>\n",
              "      <td>10.0</td>\n",
              "      <td>11.0</td>\n",
              "      <td>12.0</td>\n",
              "      <td>NaN</td>\n",
              "    </tr>\n",
              "  </tbody>\n",
              "</table>\n",
              "</div>"
            ],
            "text/plain": [
              "      A     B     C    D\n",
              "0   1.0   2.0   3.0  4.0\n",
              "1   5.0   6.0   NaN  8.0\n",
              "2  10.0  11.0  12.0  NaN"
            ]
          },
          "metadata": {
            "tags": []
          },
          "execution_count": 186
        }
      ]
    },
    {
      "cell_type": "code",
      "metadata": {
        "id": "0gEXJvRKmMVm",
        "colab_type": "code",
        "outputId": "8a6a9d24-7d69-4bf9-f536-add5d79ce8c8",
        "colab": {
          "base_uri": "https://localhost:8080/",
          "height": 107
        }
      },
      "source": [
        "df.isnull().sum()"
      ],
      "execution_count": 187,
      "outputs": [
        {
          "output_type": "execute_result",
          "data": {
            "text/plain": [
              "A    0\n",
              "B    0\n",
              "C    1\n",
              "D    1\n",
              "dtype: int64"
            ]
          },
          "metadata": {
            "tags": []
          },
          "execution_count": 187
        }
      ]
    },
    {
      "cell_type": "code",
      "metadata": {
        "id": "c8bZ_tn4m1HD",
        "colab_type": "code",
        "outputId": "795ff35a-67f8-46da-8dce-7bfbe8e9cb3f",
        "colab": {
          "base_uri": "https://localhost:8080/",
          "height": 71
        }
      },
      "source": [
        "df.values"
      ],
      "execution_count": 188,
      "outputs": [
        {
          "output_type": "execute_result",
          "data": {
            "text/plain": [
              "array([[ 1.,  2.,  3.,  4.],\n",
              "       [ 5.,  6., nan,  8.],\n",
              "       [10., 11., 12., nan]])"
            ]
          },
          "metadata": {
            "tags": []
          },
          "execution_count": 188
        }
      ]
    },
    {
      "cell_type": "markdown",
      "metadata": {
        "id": "UdzTBnqbm8wr",
        "colab_type": "text"
      },
      "source": [
        "###4.1.2 누락된 값이 있는 샘플이나 특성 제외"
      ]
    },
    {
      "cell_type": "code",
      "metadata": {
        "id": "BpTHk1x8m5eX",
        "colab_type": "code",
        "outputId": "f85ec671-c74a-410e-ab26-5c8b127fc412",
        "colab": {
          "base_uri": "https://localhost:8080/",
          "height": 142
        }
      },
      "source": [
        "df"
      ],
      "execution_count": 189,
      "outputs": [
        {
          "output_type": "execute_result",
          "data": {
            "text/html": [
              "<div>\n",
              "<style scoped>\n",
              "    .dataframe tbody tr th:only-of-type {\n",
              "        vertical-align: middle;\n",
              "    }\n",
              "\n",
              "    .dataframe tbody tr th {\n",
              "        vertical-align: top;\n",
              "    }\n",
              "\n",
              "    .dataframe thead th {\n",
              "        text-align: right;\n",
              "    }\n",
              "</style>\n",
              "<table border=\"1\" class=\"dataframe\">\n",
              "  <thead>\n",
              "    <tr style=\"text-align: right;\">\n",
              "      <th></th>\n",
              "      <th>A</th>\n",
              "      <th>B</th>\n",
              "      <th>C</th>\n",
              "      <th>D</th>\n",
              "    </tr>\n",
              "  </thead>\n",
              "  <tbody>\n",
              "    <tr>\n",
              "      <th>0</th>\n",
              "      <td>1.0</td>\n",
              "      <td>2.0</td>\n",
              "      <td>3.0</td>\n",
              "      <td>4.0</td>\n",
              "    </tr>\n",
              "    <tr>\n",
              "      <th>1</th>\n",
              "      <td>5.0</td>\n",
              "      <td>6.0</td>\n",
              "      <td>NaN</td>\n",
              "      <td>8.0</td>\n",
              "    </tr>\n",
              "    <tr>\n",
              "      <th>2</th>\n",
              "      <td>10.0</td>\n",
              "      <td>11.0</td>\n",
              "      <td>12.0</td>\n",
              "      <td>NaN</td>\n",
              "    </tr>\n",
              "  </tbody>\n",
              "</table>\n",
              "</div>"
            ],
            "text/plain": [
              "      A     B     C    D\n",
              "0   1.0   2.0   3.0  4.0\n",
              "1   5.0   6.0   NaN  8.0\n",
              "2  10.0  11.0  12.0  NaN"
            ]
          },
          "metadata": {
            "tags": []
          },
          "execution_count": 189
        }
      ]
    },
    {
      "cell_type": "code",
      "metadata": {
        "id": "myaDm765nQcB",
        "colab_type": "code",
        "outputId": "99ca3206-40b3-43cc-c8f1-c7e9c6b6774c",
        "colab": {
          "base_uri": "https://localhost:8080/",
          "height": 80
        }
      },
      "source": [
        "df.dropna(axis=0) # 누락된 값이 있는 행 삭제"
      ],
      "execution_count": 190,
      "outputs": [
        {
          "output_type": "execute_result",
          "data": {
            "text/html": [
              "<div>\n",
              "<style scoped>\n",
              "    .dataframe tbody tr th:only-of-type {\n",
              "        vertical-align: middle;\n",
              "    }\n",
              "\n",
              "    .dataframe tbody tr th {\n",
              "        vertical-align: top;\n",
              "    }\n",
              "\n",
              "    .dataframe thead th {\n",
              "        text-align: right;\n",
              "    }\n",
              "</style>\n",
              "<table border=\"1\" class=\"dataframe\">\n",
              "  <thead>\n",
              "    <tr style=\"text-align: right;\">\n",
              "      <th></th>\n",
              "      <th>A</th>\n",
              "      <th>B</th>\n",
              "      <th>C</th>\n",
              "      <th>D</th>\n",
              "    </tr>\n",
              "  </thead>\n",
              "  <tbody>\n",
              "    <tr>\n",
              "      <th>0</th>\n",
              "      <td>1.0</td>\n",
              "      <td>2.0</td>\n",
              "      <td>3.0</td>\n",
              "      <td>4.0</td>\n",
              "    </tr>\n",
              "  </tbody>\n",
              "</table>\n",
              "</div>"
            ],
            "text/plain": [
              "     A    B    C    D\n",
              "0  1.0  2.0  3.0  4.0"
            ]
          },
          "metadata": {
            "tags": []
          },
          "execution_count": 190
        }
      ]
    },
    {
      "cell_type": "code",
      "metadata": {
        "id": "b-zAzdWInVKM",
        "colab_type": "code",
        "outputId": "858b171a-1f5e-4fc6-bfbd-7fb1299142ce",
        "colab": {
          "base_uri": "https://localhost:8080/",
          "height": 142
        }
      },
      "source": [
        "df.dropna(axis=1) # 누락된 값이 있는 열 삭제"
      ],
      "execution_count": 191,
      "outputs": [
        {
          "output_type": "execute_result",
          "data": {
            "text/html": [
              "<div>\n",
              "<style scoped>\n",
              "    .dataframe tbody tr th:only-of-type {\n",
              "        vertical-align: middle;\n",
              "    }\n",
              "\n",
              "    .dataframe tbody tr th {\n",
              "        vertical-align: top;\n",
              "    }\n",
              "\n",
              "    .dataframe thead th {\n",
              "        text-align: right;\n",
              "    }\n",
              "</style>\n",
              "<table border=\"1\" class=\"dataframe\">\n",
              "  <thead>\n",
              "    <tr style=\"text-align: right;\">\n",
              "      <th></th>\n",
              "      <th>A</th>\n",
              "      <th>B</th>\n",
              "    </tr>\n",
              "  </thead>\n",
              "  <tbody>\n",
              "    <tr>\n",
              "      <th>0</th>\n",
              "      <td>1.0</td>\n",
              "      <td>2.0</td>\n",
              "    </tr>\n",
              "    <tr>\n",
              "      <th>1</th>\n",
              "      <td>5.0</td>\n",
              "      <td>6.0</td>\n",
              "    </tr>\n",
              "    <tr>\n",
              "      <th>2</th>\n",
              "      <td>10.0</td>\n",
              "      <td>11.0</td>\n",
              "    </tr>\n",
              "  </tbody>\n",
              "</table>\n",
              "</div>"
            ],
            "text/plain": [
              "      A     B\n",
              "0   1.0   2.0\n",
              "1   5.0   6.0\n",
              "2  10.0  11.0"
            ]
          },
          "metadata": {
            "tags": []
          },
          "execution_count": 191
        }
      ]
    },
    {
      "cell_type": "code",
      "metadata": {
        "id": "oDU2aVf4nYBw",
        "colab_type": "code",
        "outputId": "264ece59-9d74-47fe-ab64-da8ef8eb2765",
        "colab": {
          "base_uri": "https://localhost:8080/",
          "height": 142
        }
      },
      "source": [
        "df.dropna(how='all') # 모든 열이 NaN인 행 삭제하기"
      ],
      "execution_count": 192,
      "outputs": [
        {
          "output_type": "execute_result",
          "data": {
            "text/html": [
              "<div>\n",
              "<style scoped>\n",
              "    .dataframe tbody tr th:only-of-type {\n",
              "        vertical-align: middle;\n",
              "    }\n",
              "\n",
              "    .dataframe tbody tr th {\n",
              "        vertical-align: top;\n",
              "    }\n",
              "\n",
              "    .dataframe thead th {\n",
              "        text-align: right;\n",
              "    }\n",
              "</style>\n",
              "<table border=\"1\" class=\"dataframe\">\n",
              "  <thead>\n",
              "    <tr style=\"text-align: right;\">\n",
              "      <th></th>\n",
              "      <th>A</th>\n",
              "      <th>B</th>\n",
              "      <th>C</th>\n",
              "      <th>D</th>\n",
              "    </tr>\n",
              "  </thead>\n",
              "  <tbody>\n",
              "    <tr>\n",
              "      <th>0</th>\n",
              "      <td>1.0</td>\n",
              "      <td>2.0</td>\n",
              "      <td>3.0</td>\n",
              "      <td>4.0</td>\n",
              "    </tr>\n",
              "    <tr>\n",
              "      <th>1</th>\n",
              "      <td>5.0</td>\n",
              "      <td>6.0</td>\n",
              "      <td>NaN</td>\n",
              "      <td>8.0</td>\n",
              "    </tr>\n",
              "    <tr>\n",
              "      <th>2</th>\n",
              "      <td>10.0</td>\n",
              "      <td>11.0</td>\n",
              "      <td>12.0</td>\n",
              "      <td>NaN</td>\n",
              "    </tr>\n",
              "  </tbody>\n",
              "</table>\n",
              "</div>"
            ],
            "text/plain": [
              "      A     B     C    D\n",
              "0   1.0   2.0   3.0  4.0\n",
              "1   5.0   6.0   NaN  8.0\n",
              "2  10.0  11.0  12.0  NaN"
            ]
          },
          "metadata": {
            "tags": []
          },
          "execution_count": 192
        }
      ]
    },
    {
      "cell_type": "code",
      "metadata": {
        "id": "PnLmkf7snj8n",
        "colab_type": "code",
        "outputId": "dff30cad-e1a4-45f7-cff7-a2bf8d1f9332",
        "colab": {
          "base_uri": "https://localhost:8080/",
          "height": 80
        }
      },
      "source": [
        "df.dropna(thresh=4) # 실수 값이 네 개보다 작은 행 삭제"
      ],
      "execution_count": 193,
      "outputs": [
        {
          "output_type": "execute_result",
          "data": {
            "text/html": [
              "<div>\n",
              "<style scoped>\n",
              "    .dataframe tbody tr th:only-of-type {\n",
              "        vertical-align: middle;\n",
              "    }\n",
              "\n",
              "    .dataframe tbody tr th {\n",
              "        vertical-align: top;\n",
              "    }\n",
              "\n",
              "    .dataframe thead th {\n",
              "        text-align: right;\n",
              "    }\n",
              "</style>\n",
              "<table border=\"1\" class=\"dataframe\">\n",
              "  <thead>\n",
              "    <tr style=\"text-align: right;\">\n",
              "      <th></th>\n",
              "      <th>A</th>\n",
              "      <th>B</th>\n",
              "      <th>C</th>\n",
              "      <th>D</th>\n",
              "    </tr>\n",
              "  </thead>\n",
              "  <tbody>\n",
              "    <tr>\n",
              "      <th>0</th>\n",
              "      <td>1.0</td>\n",
              "      <td>2.0</td>\n",
              "      <td>3.0</td>\n",
              "      <td>4.0</td>\n",
              "    </tr>\n",
              "  </tbody>\n",
              "</table>\n",
              "</div>"
            ],
            "text/plain": [
              "     A    B    C    D\n",
              "0  1.0  2.0  3.0  4.0"
            ]
          },
          "metadata": {
            "tags": []
          },
          "execution_count": 193
        }
      ]
    },
    {
      "cell_type": "code",
      "metadata": {
        "id": "8dGH6ozIntHJ",
        "colab_type": "code",
        "outputId": "9e472472-e046-47a2-a2e7-31e6eed37822",
        "colab": {
          "base_uri": "https://localhost:8080/",
          "height": 111
        }
      },
      "source": [
        "df.dropna(subset=['C']) # 특정 열에 NaN이 있는 행만 삭제"
      ],
      "execution_count": 194,
      "outputs": [
        {
          "output_type": "execute_result",
          "data": {
            "text/html": [
              "<div>\n",
              "<style scoped>\n",
              "    .dataframe tbody tr th:only-of-type {\n",
              "        vertical-align: middle;\n",
              "    }\n",
              "\n",
              "    .dataframe tbody tr th {\n",
              "        vertical-align: top;\n",
              "    }\n",
              "\n",
              "    .dataframe thead th {\n",
              "        text-align: right;\n",
              "    }\n",
              "</style>\n",
              "<table border=\"1\" class=\"dataframe\">\n",
              "  <thead>\n",
              "    <tr style=\"text-align: right;\">\n",
              "      <th></th>\n",
              "      <th>A</th>\n",
              "      <th>B</th>\n",
              "      <th>C</th>\n",
              "      <th>D</th>\n",
              "    </tr>\n",
              "  </thead>\n",
              "  <tbody>\n",
              "    <tr>\n",
              "      <th>0</th>\n",
              "      <td>1.0</td>\n",
              "      <td>2.0</td>\n",
              "      <td>3.0</td>\n",
              "      <td>4.0</td>\n",
              "    </tr>\n",
              "    <tr>\n",
              "      <th>2</th>\n",
              "      <td>10.0</td>\n",
              "      <td>11.0</td>\n",
              "      <td>12.0</td>\n",
              "      <td>NaN</td>\n",
              "    </tr>\n",
              "  </tbody>\n",
              "</table>\n",
              "</div>"
            ],
            "text/plain": [
              "      A     B     C    D\n",
              "0   1.0   2.0   3.0  4.0\n",
              "2  10.0  11.0  12.0  NaN"
            ]
          },
          "metadata": {
            "tags": []
          },
          "execution_count": 194
        }
      ]
    },
    {
      "cell_type": "markdown",
      "metadata": {
        "id": "xZJ1JZcxn26G",
        "colab_type": "text"
      },
      "source": [
        "###4.1.3 누락된 값 대체"
      ]
    },
    {
      "cell_type": "code",
      "metadata": {
        "id": "4QqY2sHkoX4M",
        "colab_type": "code",
        "outputId": "79bcc33d-0377-4e4a-fcc3-91e406b7e0a4",
        "colab": {
          "base_uri": "https://localhost:8080/",
          "height": 53
        }
      },
      "source": [
        "!pip install Imputer"
      ],
      "execution_count": 195,
      "outputs": [
        {
          "output_type": "stream",
          "text": [
            "\u001b[31mERROR: Could not find a version that satisfies the requirement Imputer (from versions: none)\u001b[0m\n",
            "\u001b[31mERROR: No matching distribution found for Imputer\u001b[0m\n"
          ],
          "name": "stdout"
        }
      ]
    },
    {
      "cell_type": "code",
      "metadata": {
        "id": "3grZvQYhn05u",
        "colab_type": "code",
        "outputId": "bd8bad10-4690-42c0-a8f8-b34f18d34343",
        "colab": {
          "base_uri": "https://localhost:8080/",
          "height": 71
        }
      },
      "source": [
        "import numpy as np\n",
        "\n",
        "from sklearn.impute import SimpleImputer\n",
        "simr = SimpleImputer(missing_values=np.nan, strategy='mean') # mean : 평균으로 대체, median : 중앙값으로 대체, most_frequent : 최빈도값\n",
        "simr = simr.fit(df.values)\n",
        "imputed_data = simr.transform(df.values)\n",
        "imputed_data"
      ],
      "execution_count": 196,
      "outputs": [
        {
          "output_type": "execute_result",
          "data": {
            "text/plain": [
              "array([[ 1. ,  2. ,  3. ,  4. ],\n",
              "       [ 5. ,  6. ,  7.5,  8. ],\n",
              "       [10. , 11. , 12. ,  6. ]])"
            ]
          },
          "metadata": {
            "tags": []
          },
          "execution_count": 196
        }
      ]
    },
    {
      "cell_type": "code",
      "metadata": {
        "id": "dquD3d2BoQAe",
        "colab_type": "code",
        "outputId": "6960c2a7-ddd8-4b8e-e233-0a48b0c79a22",
        "colab": {
          "base_uri": "https://localhost:8080/",
          "height": 71
        }
      },
      "source": [
        "from sklearn.preprocessing import FunctionTransformer\n",
        "ftr_simr = FunctionTransformer(lambda X: simr.fit_transform(X.T).T, validate=False)\n",
        "imputed_data = ftr_simr.fit_transform(df.values)\n",
        "imputed_data"
      ],
      "execution_count": 197,
      "outputs": [
        {
          "output_type": "execute_result",
          "data": {
            "text/plain": [
              "array([[ 1.        ,  2.        ,  3.        ,  4.        ],\n",
              "       [ 5.        ,  6.        ,  6.33333333,  8.        ],\n",
              "       [10.        , 11.        , 12.        , 11.        ]])"
            ]
          },
          "metadata": {
            "tags": []
          },
          "execution_count": 197
        }
      ]
    },
    {
      "cell_type": "markdown",
      "metadata": {
        "id": "AvvB139rq-ye",
        "colab_type": "text"
      },
      "source": [
        "###4.1.4 사이킷런 추정기 API 익히기"
      ]
    },
    {
      "cell_type": "markdown",
      "metadata": {
        "id": "sXzF4tlbremn",
        "colab_type": "text"
      },
      "source": [
        "##4.2 범주형 데이터 다루기"
      ]
    },
    {
      "cell_type": "markdown",
      "metadata": {
        "id": "Dvygs56Srmri",
        "colab_type": "text"
      },
      "source": [
        "###4.2.1 순서가 있는 특성과 순서가 없는 특성"
      ]
    },
    {
      "cell_type": "code",
      "metadata": {
        "id": "f7_t8wsHq8Rq",
        "colab_type": "code",
        "outputId": "bc49351a-7215-46f1-9d46-a3cf9beccbd1",
        "colab": {
          "base_uri": "https://localhost:8080/",
          "height": 142
        }
      },
      "source": [
        "import pandas as pd\n",
        "df = pd.DataFrame([\n",
        "                   ['green', 'M', 10.1, 'class1'],\n",
        "                   ['red', 'L', 13.5, 'class2'],\n",
        "                   ['blue', 'XL', 15.3, 'class1']])\n",
        "df.columns = ['color', 'size', 'price', 'classlabel']\n",
        "df"
      ],
      "execution_count": 198,
      "outputs": [
        {
          "output_type": "execute_result",
          "data": {
            "text/html": [
              "<div>\n",
              "<style scoped>\n",
              "    .dataframe tbody tr th:only-of-type {\n",
              "        vertical-align: middle;\n",
              "    }\n",
              "\n",
              "    .dataframe tbody tr th {\n",
              "        vertical-align: top;\n",
              "    }\n",
              "\n",
              "    .dataframe thead th {\n",
              "        text-align: right;\n",
              "    }\n",
              "</style>\n",
              "<table border=\"1\" class=\"dataframe\">\n",
              "  <thead>\n",
              "    <tr style=\"text-align: right;\">\n",
              "      <th></th>\n",
              "      <th>color</th>\n",
              "      <th>size</th>\n",
              "      <th>price</th>\n",
              "      <th>classlabel</th>\n",
              "    </tr>\n",
              "  </thead>\n",
              "  <tbody>\n",
              "    <tr>\n",
              "      <th>0</th>\n",
              "      <td>green</td>\n",
              "      <td>M</td>\n",
              "      <td>10.1</td>\n",
              "      <td>class1</td>\n",
              "    </tr>\n",
              "    <tr>\n",
              "      <th>1</th>\n",
              "      <td>red</td>\n",
              "      <td>L</td>\n",
              "      <td>13.5</td>\n",
              "      <td>class2</td>\n",
              "    </tr>\n",
              "    <tr>\n",
              "      <th>2</th>\n",
              "      <td>blue</td>\n",
              "      <td>XL</td>\n",
              "      <td>15.3</td>\n",
              "      <td>class1</td>\n",
              "    </tr>\n",
              "  </tbody>\n",
              "</table>\n",
              "</div>"
            ],
            "text/plain": [
              "   color size  price classlabel\n",
              "0  green    M   10.1     class1\n",
              "1    red    L   13.5     class2\n",
              "2   blue   XL   15.3     class1"
            ]
          },
          "metadata": {
            "tags": []
          },
          "execution_count": 198
        }
      ]
    },
    {
      "cell_type": "markdown",
      "metadata": {
        "id": "7G-5cvmHsaCj",
        "colab_type": "text"
      },
      "source": [
        "color : 순서가 없는 특성\n",
        "\n",
        "size : 순서가 있는 특성\n",
        "\n",
        "prcie : 수치형 특성"
      ]
    },
    {
      "cell_type": "markdown",
      "metadata": {
        "id": "BjVRVhwgsgY_",
        "colab_type": "text"
      },
      "source": [
        "###4.2.2 순서 특성 매핑"
      ]
    },
    {
      "cell_type": "code",
      "metadata": {
        "id": "7QH0YCpfsQoW",
        "colab_type": "code",
        "colab": {}
      },
      "source": [
        "size_mapping = {\n",
        "    'XL' : 3,\n",
        "    'L' : 2,\n",
        "    'M' : 1\n",
        "}"
      ],
      "execution_count": 0,
      "outputs": []
    },
    {
      "cell_type": "code",
      "metadata": {
        "id": "7FY9yb5gsug_",
        "colab_type": "code",
        "colab": {}
      },
      "source": [
        "df['size'] = df['size'].map(size_mapping)"
      ],
      "execution_count": 0,
      "outputs": []
    },
    {
      "cell_type": "code",
      "metadata": {
        "id": "D09oXBA3szln",
        "colab_type": "code",
        "outputId": "52ff512e-09d7-4967-d4bc-773e3431eb36",
        "colab": {
          "base_uri": "https://localhost:8080/",
          "height": 142
        }
      },
      "source": [
        "df"
      ],
      "execution_count": 201,
      "outputs": [
        {
          "output_type": "execute_result",
          "data": {
            "text/html": [
              "<div>\n",
              "<style scoped>\n",
              "    .dataframe tbody tr th:only-of-type {\n",
              "        vertical-align: middle;\n",
              "    }\n",
              "\n",
              "    .dataframe tbody tr th {\n",
              "        vertical-align: top;\n",
              "    }\n",
              "\n",
              "    .dataframe thead th {\n",
              "        text-align: right;\n",
              "    }\n",
              "</style>\n",
              "<table border=\"1\" class=\"dataframe\">\n",
              "  <thead>\n",
              "    <tr style=\"text-align: right;\">\n",
              "      <th></th>\n",
              "      <th>color</th>\n",
              "      <th>size</th>\n",
              "      <th>price</th>\n",
              "      <th>classlabel</th>\n",
              "    </tr>\n",
              "  </thead>\n",
              "  <tbody>\n",
              "    <tr>\n",
              "      <th>0</th>\n",
              "      <td>green</td>\n",
              "      <td>1</td>\n",
              "      <td>10.1</td>\n",
              "      <td>class1</td>\n",
              "    </tr>\n",
              "    <tr>\n",
              "      <th>1</th>\n",
              "      <td>red</td>\n",
              "      <td>2</td>\n",
              "      <td>13.5</td>\n",
              "      <td>class2</td>\n",
              "    </tr>\n",
              "    <tr>\n",
              "      <th>2</th>\n",
              "      <td>blue</td>\n",
              "      <td>3</td>\n",
              "      <td>15.3</td>\n",
              "      <td>class1</td>\n",
              "    </tr>\n",
              "  </tbody>\n",
              "</table>\n",
              "</div>"
            ],
            "text/plain": [
              "   color  size  price classlabel\n",
              "0  green     1   10.1     class1\n",
              "1    red     2   13.5     class2\n",
              "2   blue     3   15.3     class1"
            ]
          },
          "metadata": {
            "tags": []
          },
          "execution_count": 201
        }
      ]
    },
    {
      "cell_type": "code",
      "metadata": {
        "id": "cM7NbO98s0UM",
        "colab_type": "code",
        "outputId": "b13949d9-5595-4774-8967-42f5ef492c2b",
        "colab": {
          "base_uri": "https://localhost:8080/",
          "height": 89
        }
      },
      "source": [
        "inv_size_mapping = {v: k for k, v in size_mapping.items()}\n",
        "df['size'].map(inv_size_mapping)"
      ],
      "execution_count": 202,
      "outputs": [
        {
          "output_type": "execute_result",
          "data": {
            "text/plain": [
              "0     M\n",
              "1     L\n",
              "2    XL\n",
              "Name: size, dtype: object"
            ]
          },
          "metadata": {
            "tags": []
          },
          "execution_count": 202
        }
      ]
    },
    {
      "cell_type": "markdown",
      "metadata": {
        "id": "-bqG2cD6tH_9",
        "colab_type": "text"
      },
      "source": [
        "###4.2.3 클래스 레이블 인코딩"
      ]
    },
    {
      "cell_type": "code",
      "metadata": {
        "id": "pZwMRPNItCmV",
        "colab_type": "code",
        "outputId": "1a8cc011-4b7d-47a2-a829-d51448138192",
        "colab": {
          "base_uri": "https://localhost:8080/",
          "height": 35
        }
      },
      "source": [
        "import numpy as np\n",
        "class_mapping = {label:idx for idx, label in\n",
        "                 enumerate(np.unique(df['classlabel']))}\n",
        "class_mapping"
      ],
      "execution_count": 203,
      "outputs": [
        {
          "output_type": "execute_result",
          "data": {
            "text/plain": [
              "{'class1': 0, 'class2': 1}"
            ]
          },
          "metadata": {
            "tags": []
          },
          "execution_count": 203
        }
      ]
    },
    {
      "cell_type": "code",
      "metadata": {
        "id": "JkqjROTstlm8",
        "colab_type": "code",
        "outputId": "70376a36-1bc7-475b-dfe8-ecd19d79c88d",
        "colab": {
          "base_uri": "https://localhost:8080/",
          "height": 142
        }
      },
      "source": [
        "df['classlabel'] = df['classlabel'].map(class_mapping)\n",
        "df"
      ],
      "execution_count": 204,
      "outputs": [
        {
          "output_type": "execute_result",
          "data": {
            "text/html": [
              "<div>\n",
              "<style scoped>\n",
              "    .dataframe tbody tr th:only-of-type {\n",
              "        vertical-align: middle;\n",
              "    }\n",
              "\n",
              "    .dataframe tbody tr th {\n",
              "        vertical-align: top;\n",
              "    }\n",
              "\n",
              "    .dataframe thead th {\n",
              "        text-align: right;\n",
              "    }\n",
              "</style>\n",
              "<table border=\"1\" class=\"dataframe\">\n",
              "  <thead>\n",
              "    <tr style=\"text-align: right;\">\n",
              "      <th></th>\n",
              "      <th>color</th>\n",
              "      <th>size</th>\n",
              "      <th>price</th>\n",
              "      <th>classlabel</th>\n",
              "    </tr>\n",
              "  </thead>\n",
              "  <tbody>\n",
              "    <tr>\n",
              "      <th>0</th>\n",
              "      <td>green</td>\n",
              "      <td>1</td>\n",
              "      <td>10.1</td>\n",
              "      <td>0</td>\n",
              "    </tr>\n",
              "    <tr>\n",
              "      <th>1</th>\n",
              "      <td>red</td>\n",
              "      <td>2</td>\n",
              "      <td>13.5</td>\n",
              "      <td>1</td>\n",
              "    </tr>\n",
              "    <tr>\n",
              "      <th>2</th>\n",
              "      <td>blue</td>\n",
              "      <td>3</td>\n",
              "      <td>15.3</td>\n",
              "      <td>0</td>\n",
              "    </tr>\n",
              "  </tbody>\n",
              "</table>\n",
              "</div>"
            ],
            "text/plain": [
              "   color  size  price  classlabel\n",
              "0  green     1   10.1           0\n",
              "1    red     2   13.5           1\n",
              "2   blue     3   15.3           0"
            ]
          },
          "metadata": {
            "tags": []
          },
          "execution_count": 204
        }
      ]
    },
    {
      "cell_type": "code",
      "metadata": {
        "id": "48ZrJvTct4lP",
        "colab_type": "code",
        "outputId": "69d93581-65d3-4528-c993-8eb855715fa9",
        "colab": {
          "base_uri": "https://localhost:8080/",
          "height": 142
        }
      },
      "source": [
        "inv_class_mapping = {v:k for k,v in class_mapping.items()}\n",
        "df['classlabel'] = df['classlabel'].map(inv_class_mapping)\n",
        "df"
      ],
      "execution_count": 205,
      "outputs": [
        {
          "output_type": "execute_result",
          "data": {
            "text/html": [
              "<div>\n",
              "<style scoped>\n",
              "    .dataframe tbody tr th:only-of-type {\n",
              "        vertical-align: middle;\n",
              "    }\n",
              "\n",
              "    .dataframe tbody tr th {\n",
              "        vertical-align: top;\n",
              "    }\n",
              "\n",
              "    .dataframe thead th {\n",
              "        text-align: right;\n",
              "    }\n",
              "</style>\n",
              "<table border=\"1\" class=\"dataframe\">\n",
              "  <thead>\n",
              "    <tr style=\"text-align: right;\">\n",
              "      <th></th>\n",
              "      <th>color</th>\n",
              "      <th>size</th>\n",
              "      <th>price</th>\n",
              "      <th>classlabel</th>\n",
              "    </tr>\n",
              "  </thead>\n",
              "  <tbody>\n",
              "    <tr>\n",
              "      <th>0</th>\n",
              "      <td>green</td>\n",
              "      <td>1</td>\n",
              "      <td>10.1</td>\n",
              "      <td>class1</td>\n",
              "    </tr>\n",
              "    <tr>\n",
              "      <th>1</th>\n",
              "      <td>red</td>\n",
              "      <td>2</td>\n",
              "      <td>13.5</td>\n",
              "      <td>class2</td>\n",
              "    </tr>\n",
              "    <tr>\n",
              "      <th>2</th>\n",
              "      <td>blue</td>\n",
              "      <td>3</td>\n",
              "      <td>15.3</td>\n",
              "      <td>class1</td>\n",
              "    </tr>\n",
              "  </tbody>\n",
              "</table>\n",
              "</div>"
            ],
            "text/plain": [
              "   color  size  price classlabel\n",
              "0  green     1   10.1     class1\n",
              "1    red     2   13.5     class2\n",
              "2   blue     3   15.3     class1"
            ]
          },
          "metadata": {
            "tags": []
          },
          "execution_count": 205
        }
      ]
    },
    {
      "cell_type": "code",
      "metadata": {
        "id": "dzHIsPajuG_W",
        "colab_type": "code",
        "outputId": "8305ec68-5557-4666-e965-f4276c7cf10f",
        "colab": {
          "base_uri": "https://localhost:8080/",
          "height": 35
        }
      },
      "source": [
        "from sklearn.preprocessing import LabelEncoder\n",
        "class_le = LabelEncoder()\n",
        "y = class_le.fit_transform(df['classlabel'].values)\n",
        "y"
      ],
      "execution_count": 206,
      "outputs": [
        {
          "output_type": "execute_result",
          "data": {
            "text/plain": [
              "array([0, 1, 0])"
            ]
          },
          "metadata": {
            "tags": []
          },
          "execution_count": 206
        }
      ]
    },
    {
      "cell_type": "code",
      "metadata": {
        "id": "G1K4mrbmuWD8",
        "colab_type": "code",
        "outputId": "4dd69e5e-93ad-4e41-814f-afebc8b88443",
        "colab": {
          "base_uri": "https://localhost:8080/",
          "height": 35
        }
      },
      "source": [
        "class_le.inverse_transform(y)"
      ],
      "execution_count": 207,
      "outputs": [
        {
          "output_type": "execute_result",
          "data": {
            "text/plain": [
              "array(['class1', 'class2', 'class1'], dtype=object)"
            ]
          },
          "metadata": {
            "tags": []
          },
          "execution_count": 207
        }
      ]
    },
    {
      "cell_type": "markdown",
      "metadata": {
        "id": "GalelLQDu5vN",
        "colab_type": "text"
      },
      "source": [
        "###4.2.4 순서가 없는 특성에 원-핫 인코딩 적용"
      ]
    },
    {
      "cell_type": "code",
      "metadata": {
        "id": "XozBkSTzu3mS",
        "colab_type": "code",
        "outputId": "7c938ab8-4d16-4210-f652-ada95120fd02",
        "colab": {
          "base_uri": "https://localhost:8080/",
          "height": 71
        }
      },
      "source": [
        "X = df[['color', 'size', 'price']].values\n",
        "color_le = LabelEncoder()\n",
        "X[:, 0] = color_le.fit_transform(X[:, 0])\n",
        "X"
      ],
      "execution_count": 208,
      "outputs": [
        {
          "output_type": "execute_result",
          "data": {
            "text/plain": [
              "array([[1, 1, 10.1],\n",
              "       [2, 2, 13.5],\n",
              "       [0, 3, 15.3]], dtype=object)"
            ]
          },
          "metadata": {
            "tags": []
          },
          "execution_count": 208
        }
      ]
    },
    {
      "cell_type": "code",
      "metadata": {
        "id": "OESC-tuevOrV",
        "colab_type": "code",
        "outputId": "d96e949c-96ad-4cbb-ad20-faef7878a5d7",
        "colab": {
          "base_uri": "https://localhost:8080/",
          "height": 71
        }
      },
      "source": [
        "from sklearn.preprocessing import OrdinalEncoder # 범주형 데이터를 정수로 인코딩 해준다.\n",
        "from sklearn.compose import ColumnTransformer # 판다스 데이터프레임의 열마다 다른 변환을 적용하도록 도와준다.\n",
        "ord_enc = OrdinalEncoder(dtype=np.int)\n",
        "col_trans = ColumnTransformer([('ord_enc', ord_enc, ['color'])])\n",
        "X_trans = col_trans.fit_transform(df)\n",
        "X_trans"
      ],
      "execution_count": 209,
      "outputs": [
        {
          "output_type": "execute_result",
          "data": {
            "text/plain": [
              "array([[1],\n",
              "       [2],\n",
              "       [0]])"
            ]
          },
          "metadata": {
            "tags": []
          },
          "execution_count": 209
        }
      ]
    },
    {
      "cell_type": "code",
      "metadata": {
        "id": "El8vuMQrwJPT",
        "colab_type": "code",
        "outputId": "48be6686-7bc0-445c-ef36-cea40c4cc5ee",
        "colab": {
          "base_uri": "https://localhost:8080/",
          "height": 71
        }
      },
      "source": [
        "col_trans.named_transformers_['ord_enc'].inverse_transform(X_trans)"
      ],
      "execution_count": 210,
      "outputs": [
        {
          "output_type": "execute_result",
          "data": {
            "text/plain": [
              "array([['green'],\n",
              "       ['red'],\n",
              "       ['blue']], dtype=object)"
            ]
          },
          "metadata": {
            "tags": []
          },
          "execution_count": 210
        }
      ]
    },
    {
      "cell_type": "code",
      "metadata": {
        "id": "fAMC7y4BwYqZ",
        "colab_type": "code",
        "outputId": "b2407079-7dc1-4e42-9b4a-063a7bf0ec08",
        "colab": {
          "base_uri": "https://localhost:8080/",
          "height": 71
        }
      },
      "source": [
        "from sklearn.preprocessing import OneHotEncoder\n",
        "oh_enc = OneHotEncoder(categories='auto')\n",
        "col_trans = ColumnTransformer([('oh_enc', oh_enc, [0])], remainder='passthrough')\n",
        "col_trans.fit_transform(X) "
      ],
      "execution_count": 211,
      "outputs": [
        {
          "output_type": "execute_result",
          "data": {
            "text/plain": [
              "array([[0.0, 1.0, 0.0, 1, 10.1],\n",
              "       [0.0, 0.0, 1.0, 2, 13.5],\n",
              "       [1.0, 0.0, 0.0, 3, 15.3]], dtype=object)"
            ]
          },
          "metadata": {
            "tags": []
          },
          "execution_count": 211
        }
      ]
    },
    {
      "cell_type": "code",
      "metadata": {
        "id": "XAiIVAYHwxHD",
        "colab_type": "code",
        "outputId": "6e698df1-94a8-4f44-9f48-ff19043b41c9",
        "colab": {
          "base_uri": "https://localhost:8080/",
          "height": 142
        }
      },
      "source": [
        "pd.get_dummies(df[['price', 'color', 'size']])"
      ],
      "execution_count": 212,
      "outputs": [
        {
          "output_type": "execute_result",
          "data": {
            "text/html": [
              "<div>\n",
              "<style scoped>\n",
              "    .dataframe tbody tr th:only-of-type {\n",
              "        vertical-align: middle;\n",
              "    }\n",
              "\n",
              "    .dataframe tbody tr th {\n",
              "        vertical-align: top;\n",
              "    }\n",
              "\n",
              "    .dataframe thead th {\n",
              "        text-align: right;\n",
              "    }\n",
              "</style>\n",
              "<table border=\"1\" class=\"dataframe\">\n",
              "  <thead>\n",
              "    <tr style=\"text-align: right;\">\n",
              "      <th></th>\n",
              "      <th>price</th>\n",
              "      <th>size</th>\n",
              "      <th>color_blue</th>\n",
              "      <th>color_green</th>\n",
              "      <th>color_red</th>\n",
              "    </tr>\n",
              "  </thead>\n",
              "  <tbody>\n",
              "    <tr>\n",
              "      <th>0</th>\n",
              "      <td>10.1</td>\n",
              "      <td>1</td>\n",
              "      <td>0</td>\n",
              "      <td>1</td>\n",
              "      <td>0</td>\n",
              "    </tr>\n",
              "    <tr>\n",
              "      <th>1</th>\n",
              "      <td>13.5</td>\n",
              "      <td>2</td>\n",
              "      <td>0</td>\n",
              "      <td>0</td>\n",
              "      <td>1</td>\n",
              "    </tr>\n",
              "    <tr>\n",
              "      <th>2</th>\n",
              "      <td>15.3</td>\n",
              "      <td>3</td>\n",
              "      <td>1</td>\n",
              "      <td>0</td>\n",
              "      <td>0</td>\n",
              "    </tr>\n",
              "  </tbody>\n",
              "</table>\n",
              "</div>"
            ],
            "text/plain": [
              "   price  size  color_blue  color_green  color_red\n",
              "0   10.1     1           0            1          0\n",
              "1   13.5     2           0            0          1\n",
              "2   15.3     3           1            0          0"
            ]
          },
          "metadata": {
            "tags": []
          },
          "execution_count": 212
        }
      ]
    },
    {
      "cell_type": "markdown",
      "metadata": {
        "id": "whJkbiLRzIit",
        "colab_type": "text"
      },
      "source": [
        "다중 공선성을 생각해라. 역행렬을 구할 때 이슈가 된다. \n",
        "\n",
        "특성 간의 상관관계가 높으면 역행렬을 계산하기 어렵다.\n",
        "\n",
        "변수 간의 상관관계를 감소하려면 열 하나를 삭제한다.\n",
        "\n",
        "잃는 정보는 없다. 삭제 당하지 않는 정보가 삭제 당한 정보를 알려준다."
      ]
    },
    {
      "cell_type": "code",
      "metadata": {
        "id": "LdbQtS4fxuo5",
        "colab_type": "code",
        "outputId": "7cc31e48-62a2-4ca1-b822-cdf12016f3c7",
        "colab": {
          "base_uri": "https://localhost:8080/",
          "height": 142
        }
      },
      "source": [
        "pd.get_dummies(df[['price', 'color', 'size']],\n",
        "               drop_first=True) "
      ],
      "execution_count": 213,
      "outputs": [
        {
          "output_type": "execute_result",
          "data": {
            "text/html": [
              "<div>\n",
              "<style scoped>\n",
              "    .dataframe tbody tr th:only-of-type {\n",
              "        vertical-align: middle;\n",
              "    }\n",
              "\n",
              "    .dataframe tbody tr th {\n",
              "        vertical-align: top;\n",
              "    }\n",
              "\n",
              "    .dataframe thead th {\n",
              "        text-align: right;\n",
              "    }\n",
              "</style>\n",
              "<table border=\"1\" class=\"dataframe\">\n",
              "  <thead>\n",
              "    <tr style=\"text-align: right;\">\n",
              "      <th></th>\n",
              "      <th>price</th>\n",
              "      <th>size</th>\n",
              "      <th>color_green</th>\n",
              "      <th>color_red</th>\n",
              "    </tr>\n",
              "  </thead>\n",
              "  <tbody>\n",
              "    <tr>\n",
              "      <th>0</th>\n",
              "      <td>10.1</td>\n",
              "      <td>1</td>\n",
              "      <td>1</td>\n",
              "      <td>0</td>\n",
              "    </tr>\n",
              "    <tr>\n",
              "      <th>1</th>\n",
              "      <td>13.5</td>\n",
              "      <td>2</td>\n",
              "      <td>0</td>\n",
              "      <td>1</td>\n",
              "    </tr>\n",
              "    <tr>\n",
              "      <th>2</th>\n",
              "      <td>15.3</td>\n",
              "      <td>3</td>\n",
              "      <td>0</td>\n",
              "      <td>0</td>\n",
              "    </tr>\n",
              "  </tbody>\n",
              "</table>\n",
              "</div>"
            ],
            "text/plain": [
              "   price  size  color_green  color_red\n",
              "0   10.1     1            1          0\n",
              "1   13.5     2            0          1\n",
              "2   15.3     3            0          0"
            ]
          },
          "metadata": {
            "tags": []
          },
          "execution_count": 213
        }
      ]
    },
    {
      "cell_type": "markdown",
      "metadata": {
        "id": "NUWr0aOkz4RD",
        "colab_type": "text"
      },
      "source": [
        "OneHotEncoder에서는 슬라이싱으로 사용해라."
      ]
    },
    {
      "cell_type": "markdown",
      "metadata": {
        "id": "EIC7U1rY0Bss",
        "colab_type": "text"
      },
      "source": [
        "##4.3 데이터셋을 훈련 세트와 테스트 세트로 나누기"
      ]
    },
    {
      "cell_type": "code",
      "metadata": {
        "id": "_h97NpschcSk",
        "colab_type": "code",
        "colab": {
          "base_uri": "https://localhost:8080/",
          "height": 222
        },
        "outputId": "6c886cd7-1ca4-4ddd-8db9-ecbc023c6467"
      },
      "source": [
        "from sklearn.datasets import load_wine\n",
        "wine = load_wine()\n",
        "df_wine = pd.DataFrame(wine.data, columns=wine.feature_names)\n",
        "temp = pd.Series(wine.target+1, dtype='category')\n",
        "df_wine['Class label'] = temp\n",
        "\n",
        "print('클래스 레이블', np.unique(df_wine['Class label']))\n",
        "df_wine.head()"
      ],
      "execution_count": 214,
      "outputs": [
        {
          "output_type": "stream",
          "text": [
            "클래스 레이블 [1 2 3]\n"
          ],
          "name": "stdout"
        },
        {
          "output_type": "execute_result",
          "data": {
            "text/html": [
              "<div>\n",
              "<style scoped>\n",
              "    .dataframe tbody tr th:only-of-type {\n",
              "        vertical-align: middle;\n",
              "    }\n",
              "\n",
              "    .dataframe tbody tr th {\n",
              "        vertical-align: top;\n",
              "    }\n",
              "\n",
              "    .dataframe thead th {\n",
              "        text-align: right;\n",
              "    }\n",
              "</style>\n",
              "<table border=\"1\" class=\"dataframe\">\n",
              "  <thead>\n",
              "    <tr style=\"text-align: right;\">\n",
              "      <th></th>\n",
              "      <th>alcohol</th>\n",
              "      <th>malic_acid</th>\n",
              "      <th>ash</th>\n",
              "      <th>alcalinity_of_ash</th>\n",
              "      <th>magnesium</th>\n",
              "      <th>total_phenols</th>\n",
              "      <th>flavanoids</th>\n",
              "      <th>nonflavanoid_phenols</th>\n",
              "      <th>proanthocyanins</th>\n",
              "      <th>color_intensity</th>\n",
              "      <th>hue</th>\n",
              "      <th>od280/od315_of_diluted_wines</th>\n",
              "      <th>proline</th>\n",
              "      <th>Class label</th>\n",
              "    </tr>\n",
              "  </thead>\n",
              "  <tbody>\n",
              "    <tr>\n",
              "      <th>0</th>\n",
              "      <td>14.23</td>\n",
              "      <td>1.71</td>\n",
              "      <td>2.43</td>\n",
              "      <td>15.6</td>\n",
              "      <td>127.0</td>\n",
              "      <td>2.80</td>\n",
              "      <td>3.06</td>\n",
              "      <td>0.28</td>\n",
              "      <td>2.29</td>\n",
              "      <td>5.64</td>\n",
              "      <td>1.04</td>\n",
              "      <td>3.92</td>\n",
              "      <td>1065.0</td>\n",
              "      <td>1</td>\n",
              "    </tr>\n",
              "    <tr>\n",
              "      <th>1</th>\n",
              "      <td>13.20</td>\n",
              "      <td>1.78</td>\n",
              "      <td>2.14</td>\n",
              "      <td>11.2</td>\n",
              "      <td>100.0</td>\n",
              "      <td>2.65</td>\n",
              "      <td>2.76</td>\n",
              "      <td>0.26</td>\n",
              "      <td>1.28</td>\n",
              "      <td>4.38</td>\n",
              "      <td>1.05</td>\n",
              "      <td>3.40</td>\n",
              "      <td>1050.0</td>\n",
              "      <td>1</td>\n",
              "    </tr>\n",
              "    <tr>\n",
              "      <th>2</th>\n",
              "      <td>13.16</td>\n",
              "      <td>2.36</td>\n",
              "      <td>2.67</td>\n",
              "      <td>18.6</td>\n",
              "      <td>101.0</td>\n",
              "      <td>2.80</td>\n",
              "      <td>3.24</td>\n",
              "      <td>0.30</td>\n",
              "      <td>2.81</td>\n",
              "      <td>5.68</td>\n",
              "      <td>1.03</td>\n",
              "      <td>3.17</td>\n",
              "      <td>1185.0</td>\n",
              "      <td>1</td>\n",
              "    </tr>\n",
              "    <tr>\n",
              "      <th>3</th>\n",
              "      <td>14.37</td>\n",
              "      <td>1.95</td>\n",
              "      <td>2.50</td>\n",
              "      <td>16.8</td>\n",
              "      <td>113.0</td>\n",
              "      <td>3.85</td>\n",
              "      <td>3.49</td>\n",
              "      <td>0.24</td>\n",
              "      <td>2.18</td>\n",
              "      <td>7.80</td>\n",
              "      <td>0.86</td>\n",
              "      <td>3.45</td>\n",
              "      <td>1480.0</td>\n",
              "      <td>1</td>\n",
              "    </tr>\n",
              "    <tr>\n",
              "      <th>4</th>\n",
              "      <td>13.24</td>\n",
              "      <td>2.59</td>\n",
              "      <td>2.87</td>\n",
              "      <td>21.0</td>\n",
              "      <td>118.0</td>\n",
              "      <td>2.80</td>\n",
              "      <td>2.69</td>\n",
              "      <td>0.39</td>\n",
              "      <td>1.82</td>\n",
              "      <td>4.32</td>\n",
              "      <td>1.04</td>\n",
              "      <td>2.93</td>\n",
              "      <td>735.0</td>\n",
              "      <td>1</td>\n",
              "    </tr>\n",
              "  </tbody>\n",
              "</table>\n",
              "</div>"
            ],
            "text/plain": [
              "   alcohol  malic_acid   ash  ...  od280/od315_of_diluted_wines  proline  Class label\n",
              "0    14.23        1.71  2.43  ...                          3.92   1065.0            1\n",
              "1    13.20        1.78  2.14  ...                          3.40   1050.0            1\n",
              "2    13.16        2.36  2.67  ...                          3.17   1185.0            1\n",
              "3    14.37        1.95  2.50  ...                          3.45   1480.0            1\n",
              "4    13.24        2.59  2.87  ...                          2.93    735.0            1\n",
              "\n",
              "[5 rows x 14 columns]"
            ]
          },
          "metadata": {
            "tags": []
          },
          "execution_count": 214
        }
      ]
    },
    {
      "cell_type": "code",
      "metadata": {
        "id": "RkaSIoFjgc4-",
        "colab_type": "code",
        "colab": {}
      },
      "source": [
        "from sklearn.model_selection import train_test_split\n",
        "X, y = df_wine.iloc[:, :-1].values, df_wine.iloc[:, -1].values\n",
        "X_train, X_test, y_train, y_test = train_test_split(X, y,\n",
        "                                                    test_size=0.3,\n",
        "                                                    random_state=0,\n",
        "                                                    stratify=y)"
      ],
      "execution_count": 0,
      "outputs": []
    },
    {
      "cell_type": "markdown",
      "metadata": {
        "id": "mZxMhsqNi_AL",
        "colab_type": "text"
      },
      "source": [
        "데이터셋을 훈련 세트와 테스트 세트로 나누면 학습 알고리즘에 도움이 될 수 있는 유익한 정보고 감추게 된다. 따라서 테스트 세트로 너무 많은 정보를 떼어 놓아서는 안 된다.\n",
        "\n",
        "반대로 테스트 세트가 작으면 일반화 오차에 대한 추정이 부정확해질 수 있다.\n",
        "\n",
        "가장 많이 사용하는 비율은 8:2 다. 대용량의 경우 9:1도 가능하다.\n",
        "\n",
        "떼어 놓았던 테스트 세트를 버리지 말고 훈련과 평가 후에 다시 전체 데이셋으로 모델을 훈련시키자."
      ]
    },
    {
      "cell_type": "markdown",
      "metadata": {
        "id": "XsxMvD_8jg6M",
        "colab_type": "text"
      },
      "source": [
        "##4.4 특성 스케일 맞추기"
      ]
    },
    {
      "cell_type": "markdown",
      "metadata": {
        "id": "0BRHFQSd1hHF",
        "colab_type": "text"
      },
      "source": [
        "결정 트리, 랜덤 포레스트는 특성 스케일 조정을 안해도 된다.\n",
        "\n",
        "나머지는 다 해야 한다.\n",
        "\n",
        "스케일을 맞추는 대표적인 방법은 정규화(normalization)와 표준화(standardization)이다.\n",
        "\n",
        "정규화는 특성의 스케일을 [0, 1] 범위에 맞추는 것으로 범위가 정해진 값이 필요할 때 유용하게 사용할 수 있다.\n",
        "\n",
        "표준화는 평균을 0, 표준편차를 1로 만들어 정규 분포와 같은 특징을 가지도록 만든다. 이러면 가중치를 더 쉽게 학습할 수 있다. 또, 이상치 정보가 유지되기 때문에 제한된 범위로 데이터를 조정하는 최소-최대 스케일 변환에 비해 알고리즘이 이상치에 덜 민감하다."
      ]
    },
    {
      "cell_type": "code",
      "metadata": {
        "id": "PG1LXlbHjcaM",
        "colab_type": "code",
        "colab": {}
      },
      "source": [
        "from sklearn.preprocessing import MinMaxScaler\n",
        "mms = MinMaxScaler()\n",
        "X_train_norm = mms.fit_transform(X_train)\n",
        "X_test_norm = mms.transform(X_test)"
      ],
      "execution_count": 0,
      "outputs": []
    },
    {
      "cell_type": "code",
      "metadata": {
        "id": "PWbWDzJiZ7Eq",
        "colab_type": "code",
        "colab": {
          "base_uri": "https://localhost:8080/",
          "height": 53
        },
        "outputId": "bc052d33-6cb1-4d25-cbd9-f98575704692"
      },
      "source": [
        "ex = np.array([0, 1, 2, 3, 4, 5])\n",
        "print(f'표준화 {(ex - ex.mean())/ ex.std()}')\n",
        "print(f'정규화 {(ex-ex.min())/ (ex.max() - ex.min())}')"
      ],
      "execution_count": 217,
      "outputs": [
        {
          "output_type": "stream",
          "text": [
            "표준화 [-1.46385011 -0.87831007 -0.29277002  0.29277002  0.87831007  1.46385011]\n",
            "정규화 [0.  0.2 0.4 0.6 0.8 1. ]\n"
          ],
          "name": "stdout"
        }
      ]
    },
    {
      "cell_type": "code",
      "metadata": {
        "id": "zxXDWrYHaWdI",
        "colab_type": "code",
        "colab": {}
      },
      "source": [
        "from sklearn.preprocessing import StandardScaler\n",
        "stdsc = StandardScaler()\n",
        "X_train_std = stdsc.fit_transform(X_train)\n",
        "X_test_std = stdsc.fit_transform(X_test)"
      ],
      "execution_count": 0,
      "outputs": []
    },
    {
      "cell_type": "markdown",
      "metadata": {
        "id": "GEXhyTgANk_O",
        "colab_type": "text"
      },
      "source": [
        "##4.5 유용한 특성 선택"
      ]
    },
    {
      "cell_type": "markdown",
      "metadata": {
        "id": "WYh1e-WZa1_b",
        "colab_type": "text"
      },
      "source": [
        "과대적합(overfitting) : 훈련 세트는 잘 맞추는데 테스트 세트는 잘 못 맞춘다.\n",
        "\n",
        "과대적합은 모델 파라미터가 훈련 세트에 너무 가깝게 맞추어져 있다는 의미\n",
        "\n",
        "새로운 데이터에는 일반화하지 못하기 때문에 모델 분산이 크다고 말한다.\n",
        "\n",
        "과제적합은 훈련 데이터에 비해 모델이 너무 복잡하기 떄문이다.\n",
        "\n",
        "일반화 오차를 감소시키기 위한 방법\n",
        "\n",
        "1. 더 많은 훈련 데이터를 모은다.\n",
        "\n",
        "2. 규제를 통해 복잡도를 제한한다.\n",
        "\n",
        "3. 파라미터 개수가 적은 간단한 모델을 선택한다.\n",
        "\n",
        "4. 데이터 차원을 줄인다."
      ]
    },
    {
      "cell_type": "markdown",
      "metadata": {
        "id": "kYqzXM_tNquW",
        "colab_type": "text"
      },
      "source": [
        "###4.5.1 모델 복잡도 제한을 위한 L1 규제와 L2 규제"
      ]
    },
    {
      "cell_type": "markdown",
      "metadata": {
        "id": "qYM90eaBOTf_",
        "colab_type": "text"
      },
      "source": [
        "###4.5.2 L2 규제의 기하학적 해석"
      ]
    },
    {
      "cell_type": "markdown",
      "metadata": {
        "id": "UZw4QIW5bYag",
        "colab_type": "text"
      },
      "source": [
        "###4.5.3 L1 규제를 사용한 희소성"
      ]
    },
    {
      "cell_type": "code",
      "metadata": {
        "id": "rsBUFagt7guX",
        "colab_type": "code",
        "colab": {
          "base_uri": "https://localhost:8080/",
          "height": 107
        },
        "outputId": "60727863-3fe2-47ba-82ca-8b0ff4d58d16"
      },
      "source": [
        "from sklearn.linear_model import LogisticRegression\n",
        "LogisticRegression(solver='libinear', multi_class = 'auto', penalty='l1')"
      ],
      "execution_count": 219,
      "outputs": [
        {
          "output_type": "execute_result",
          "data": {
            "text/plain": [
              "LogisticRegression(C=1.0, class_weight=None, dual=False, fit_intercept=True,\n",
              "                   intercept_scaling=1, l1_ratio=None, max_iter=100,\n",
              "                   multi_class='auto', n_jobs=None, penalty='l1',\n",
              "                   random_state=None, solver='libinear', tol=0.0001, verbose=0,\n",
              "                   warm_start=False)"
            ]
          },
          "metadata": {
            "tags": []
          },
          "execution_count": 219
        }
      ]
    },
    {
      "cell_type": "code",
      "metadata": {
        "id": "mz0TwbWAbrbV",
        "colab_type": "code",
        "colab": {
          "base_uri": "https://localhost:8080/",
          "height": 53
        },
        "outputId": "4253021c-30b9-421e-8128-e01c60672608"
      },
      "source": [
        "lr = LogisticRegression(solver='liblinear', multi_class='auto', penalty='l1',\n",
        "                        C=1.0, random_state=42)\n",
        "lr.fit(X_train_std, y_train)\n",
        "print(f'훈련 정확도 : {lr.score(X_train_std, y_train)}')\n",
        "print(f'테스트 정확도 : {lr.score(X_test_std, y_test)}')"
      ],
      "execution_count": 220,
      "outputs": [
        {
          "output_type": "stream",
          "text": [
            "훈련 정확도 : 1.0\n",
            "테스트 정확도 : 1.0\n"
          ],
          "name": "stdout"
        }
      ]
    },
    {
      "cell_type": "code",
      "metadata": {
        "id": "AtmVxuCRcHg9",
        "colab_type": "code",
        "colab": {
          "base_uri": "https://localhost:8080/",
          "height": 35
        },
        "outputId": "e3b721dc-f234-4e6d-8aed-ce23d4bb308e"
      },
      "source": [
        "lr.intercept_"
      ],
      "execution_count": 221,
      "outputs": [
        {
          "output_type": "execute_result",
          "data": {
            "text/plain": [
              "array([-1.26341605, -1.21598985, -2.3701943 ])"
            ]
          },
          "metadata": {
            "tags": []
          },
          "execution_count": 221
        }
      ]
    },
    {
      "cell_type": "code",
      "metadata": {
        "id": "XnB9DvbkcKzq",
        "colab_type": "code",
        "colab": {
          "base_uri": "https://localhost:8080/",
          "height": 179
        },
        "outputId": "886c2394-6eb8-42ac-b6dc-331551224df9"
      },
      "source": [
        "lr.coef_"
      ],
      "execution_count": 222,
      "outputs": [
        {
          "output_type": "execute_result",
          "data": {
            "text/plain": [
              "array([[ 1.24579421,  0.18061164,  0.74359352, -1.16112462,  0.        ,\n",
              "         0.        ,  1.16957619,  0.        ,  0.        ,  0.        ,\n",
              "         0.        ,  0.54788874,  2.51037422],\n",
              "       [-1.53699942, -0.38746609, -0.99525191,  0.36498543, -0.05970899,\n",
              "         0.        ,  0.6678873 ,  0.        ,  0.        , -1.93417045,\n",
              "         1.23366592,  0.        , -2.23177895],\n",
              "       [ 0.13562632,  0.16843221,  0.3572171 ,  0.        ,  0.        ,\n",
              "         0.        , -2.43829335,  0.        ,  0.        ,  1.56374546,\n",
              "        -0.81900707, -0.49232727,  0.        ]])"
            ]
          },
          "metadata": {
            "tags": []
          },
          "execution_count": 222
        }
      ]
    },
    {
      "cell_type": "code",
      "metadata": {
        "id": "uqTX-dexcNRA",
        "colab_type": "code",
        "colab": {
          "base_uri": "https://localhost:8080/",
          "height": 285
        },
        "outputId": "4ab847ae-8a19-4594-bb58-cc36fa07b579"
      },
      "source": [
        "import matplotlib.pyplot as plt\n",
        "\n",
        "fig = plt.figure()\n",
        "ax = plt.subplot(111)\n",
        "\n",
        "colors = ['blue', 'green', 'red', 'cyan',\n",
        "          'magenta', 'yellow', 'black',\n",
        "          'pink', 'lightgreen', 'lightblue',\n",
        "          'gray', 'indigo', 'orange']\n",
        "weights, params = [], []\n",
        "for c in np.arange(-4., 6.):\n",
        "  lr = LogisticRegression(solver='liblinear', multi_class='auto',\n",
        "                          penalty='l1', C=10.**c,\n",
        "                          random_state=0)\n",
        "  lr.fit(X_train_std, y_train)\n",
        "  weights.append(lr.coef_[1])\n",
        "  params.append(10**c)\n",
        "\n",
        "weights = np.array(weights)\n",
        "\n",
        "for column, color in zip(range(weights.shape[1]), colors):\n",
        "  plt.plot(params, weights[:, column],\n",
        "           label=df_wine.columns[column + 1],\n",
        "           color=color)\n",
        "\n",
        "plt.axhline(0, color='black', linestyle='--', linewidth=3)\n",
        "plt.xlim([10**(-5), 10**5])\n",
        "plt.ylabel('weight coefficient')\n",
        "plt.xlabel('C')\n",
        "plt.xscale('log')\n",
        "plt.legend(loc='upper left')\n",
        "ax.legend(loc='upper center',\n",
        "          bbox_to_anchor = (1.38, 1.03),\n",
        "          ncol=1, fancybox=True)\n",
        "plt.show()"
      ],
      "execution_count": 223,
      "outputs": [
        {
          "output_type": "display_data",
          "data": {
            "image/png": "[encoded data removed]",
            "text/plain": [
              "<Figure size 432x288 with 1 Axes>"
            ]
          },
          "metadata": {
            "tags": [],
            "needs_background": "light"
          }
        }
      ]
    },
    {
      "cell_type": "markdown",
      "metadata": {
        "id": "tNeVQMl1eDIr",
        "colab_type": "text"
      },
      "source": [
        "###4.5.4 순차 특성 선택 알고리즘"
      ]
    },
    {
      "cell_type": "markdown",
      "metadata": {
        "id": "0C5l_1zqeIx_",
        "colab_type": "text"
      },
      "source": [
        "과대적합을 피하는 방법 중 하나 : 특성 선택을 통한 차원 축소(dimensionality reduction)\n",
        "\n",
        "차원 축소 기법 : 특성 선택(feature selection)과 특성 추출(feature extraction)\n",
        "\n",
        "특성 선택 : 원본 특성에서 일부를 선택\n",
        "\n",
        "특성 추출 : 일련의 특성에서 얻은 정보로 새로운 특성 만들기\n",
        "\n",
        "순차 특성 선택(sequential feature selection) : 탐욕적 탐색 알고리즘으로 가장 관련이 높은 특성 부분 집합을 자동으로 선택하는 것이 목적이다. 계산 효율성을 높이고 모델의 일반화 오차를 줄인다. 규제를 제공하지 않는 알고리즘을 사용할 때 유용하다.\n",
        "\n",
        "순차 후진 선택(Sequential Backward Selection, SBS) : 계산 효율성을 향상하기 위해 모델 성능을 가능한 적게 희생하면서 초기 특성의 부분 공간으로 차원을 축소한다."
      ]
    },
    {
      "cell_type": "code",
      "metadata": {
        "id": "uhxkltDvd1z2",
        "colab_type": "code",
        "colab": {}
      },
      "source": [
        "from sklearn.base import clone\n",
        "from itertools import combinations\n",
        "import numpy as np\n",
        "from sklearn.metrics import accuracy_score\n",
        "from sklearn.model_selection import train_test_split"
      ],
      "execution_count": 0,
      "outputs": []
    },
    {
      "cell_type": "code",
      "metadata": {
        "id": "3jPB7kjZfubK",
        "colab_type": "code",
        "colab": {}
      },
      "source": [
        "class SBS():\n",
        "  def __init__(self, estimator, k_features, # k_features 목표 특성 개수\n",
        "               scoring=accuracy_score,\n",
        "               test_size=0.25, random_state=1):\n",
        "    self.scoring = scoring\n",
        "    self.estimator = clone(estimator)\n",
        "    self.k_features = k_features\n",
        "    self.test_size = test_size\n",
        "    self.random_state = random_state\n",
        "\n",
        "  def fit(self, X, y):\n",
        "    X_train, X_test, y_train, y_test = train_test_split(X, y, test_size=self.test_size,\n",
        "                                                        random_state=self.random_state)\n",
        "    dim = X_train.shape[1] # 특성의 수 \n",
        "    self.indices_ = tuple(range(dim)) # 0 ~ 특성의 수 - 1 만큼\n",
        "    self.subsets_ = [self.indices_]\n",
        "    score = self._calc_score(X_train, y_train,\n",
        "                             X_test, y_test, self.indices_)\n",
        "    self.scores_ = [score]\n",
        "\n",
        "    while dim > self.k_features:\n",
        "      scores = []\n",
        "      subsets = []\n",
        "\n",
        "      for p in combinations(self.indices_, r=dim - 1): # 특성 조합 만들기\n",
        "        score = self._calc_score(X_train, y_train,\n",
        "                                 X_test, y_test, p)\n",
        "        scores.append(score)\n",
        "        subsets.append(p)\n",
        "\n",
        "      # 최적 조합의 정확도 점수를 모으자\n",
        "      best = np.argmax(scores)\n",
        "      self.indices_ = subsets[best] # 최종 선택된 특성의 열 인덱스\n",
        "      self.subsets_.append(self.indices_)\n",
        "      dim -= 1\n",
        "      self.scores_.append(scores[best])\n",
        "    self.k_score_ = self.scores_[-1]\n",
        "\n",
        "    return self\n",
        "\n",
        "  def transform(self, X):\n",
        "    return X[:, self.indices_] # 선택된 특성 열로 구성된 새로운 데이터 배열을 반환\n",
        "\n",
        "  def _calc_score(self, X_train, y_train, X_test, y_test,\n",
        "                  indices):\n",
        "    self.estimator.fit(X_train[:, indices], y_train)\n",
        "    y_pred = self.estimator.predict(X_test[:, indices])\n",
        "    score = self.scoring(y_test, y_pred)\n",
        "    return score"
      ],
      "execution_count": 0,
      "outputs": []
    },
    {
      "cell_type": "code",
      "metadata": {
        "id": "2-BBdnRqtGL7",
        "colab_type": "code",
        "colab": {}
      },
      "source": [
        "import matplotlib.pyplot as plt\n",
        "from sklearn.neighbors import KNeighborsClassifier"
      ],
      "execution_count": 0,
      "outputs": []
    },
    {
      "cell_type": "code",
      "metadata": {
        "id": "ygSuLIgru39S",
        "colab_type": "code",
        "colab": {
          "base_uri": "https://localhost:8080/",
          "height": 35
        },
        "outputId": "2a347cc9-f697-4b5b-cb26-60f401b1eec9"
      },
      "source": [
        "knn = KNeighborsClassifier(n_neighbors=5)\n",
        "sbs = SBS(knn, k_features=1)\n",
        "sbs.fit(X_train_std, y_train)"
      ],
      "execution_count": 231,
      "outputs": [
        {
          "output_type": "execute_result",
          "data": {
            "text/plain": [
              "<__main__.SBS at 0x7fcfc5b8da20>"
            ]
          },
          "metadata": {
            "tags": []
          },
          "execution_count": 231
        }
      ]
    },
    {
      "cell_type": "code",
      "metadata": {
        "id": "aZZba8-su7B2",
        "colab_type": "code",
        "colab": {
          "base_uri": "https://localhost:8080/",
          "height": 297
        },
        "outputId": "c7912ea1-0864-4d93-b44c-a4cdb2368ddb"
      },
      "source": [
        "k_feat = [len(k) for k in sbs.subsets_]\n",
        "\n",
        "plt.plot(k_feat, sbs.scores_, marker='o')\n",
        "plt.ylim([0.7, 1.02])\n",
        "plt.ylabel('Accuracy')\n",
        "plt.xlabel('Number of features')\n",
        "plt.grid()\n",
        "plt.tight_layout()\n",
        "plt.show()"
      ],
      "execution_count": 232,
      "outputs": [
        {
          "output_type": "display_data",
          "data": {
            "image/png": "[encoded data removed]",
            "text/plain": [
              "<Figure size 432x288 with 1 Axes>"
            ]
          },
          "metadata": {
            "tags": [],
            "needs_background": "light"
          }
        }
      ]
    },
    {
      "cell_type": "code",
      "metadata": {
        "id": "ligOCkQc4RGz",
        "colab_type": "code",
        "colab": {
          "base_uri": "https://localhost:8080/",
          "height": 35
        },
        "outputId": "4fadf8d0-f704-48f4-9274-150fcce013a8"
      },
      "source": [
        "k3 = list(sbs.subsets_[10])\n",
        "print(df_wine.columns[1:][k3])"
      ],
      "execution_count": 233,
      "outputs": [
        {
          "output_type": "stream",
          "text": [
            "Index(['malic_acid', 'ash', 'proline'], dtype='object')\n"
          ],
          "name": "stdout"
        }
      ]
    },
    {
      "cell_type": "code",
      "metadata": {
        "id": "M13nkeG74aaj",
        "colab_type": "code",
        "colab": {
          "base_uri": "https://localhost:8080/",
          "height": 53
        },
        "outputId": "01b5858c-eb69-47f6-83de-cb16e76d7ab5"
      },
      "source": [
        "knn.fit(X_train_std, y_train)\n",
        "print(f'훈련 정확도 : {knn.score(X_train_std, y_train)}')\n",
        "print(f'테스트 정확도 : {knn.score(X_test_std, y_test)}')"
      ],
      "execution_count": 234,
      "outputs": [
        {
          "output_type": "stream",
          "text": [
            "훈련 정확도 : 0.967741935483871\n",
            "테스트 정확도 : 0.9814814814814815\n"
          ],
          "name": "stdout"
        }
      ]
    },
    {
      "cell_type": "code",
      "metadata": {
        "id": "Z3HxQ0IN40_j",
        "colab_type": "code",
        "colab": {
          "base_uri": "https://localhost:8080/",
          "height": 53
        },
        "outputId": "aabec39e-66a6-419c-9e60-345df7543928"
      },
      "source": [
        "knn.fit(X_train_std[:, k3], y_train)\n",
        "print(f'훈련 정확도 : {knn.score(X_train_std[:, k3], y_train)}')\n",
        "print(f'테스트 정확도 : {knn.score(X_test_std[:, k3], y_test)}')"
      ],
      "execution_count": 236,
      "outputs": [
        {
          "output_type": "stream",
          "text": [
            "훈련 정확도 : 0.9516129032258065\n",
            "테스트 정확도 : 0.9259259259259259\n"
          ],
          "name": "stdout"
        }
      ]
    },
    {
      "cell_type": "markdown",
      "metadata": {
        "id": "sg8zCH8X5OvB",
        "colab_type": "text"
      },
      "source": [
        "##4.6 랜덤 포레스트의 특성 중요도 사용"
      ]
    },
    {
      "cell_type": "code",
      "metadata": {
        "id": "ApZbVLhu4-Wz",
        "colab_type": "code",
        "colab": {}
      },
      "source": [
        "from sklearn.ensemble import RandomForestClassifier\n",
        "feat_labels = df_wine.columns[:-1]\n",
        "forest = RandomForestClassifier(n_estimators=500,\n",
        "                                random_state=1)"
      ],
      "execution_count": 0,
      "outputs": []
    },
    {
      "cell_type": "code",
      "metadata": {
        "id": "ZmipJCr85tbx",
        "colab_type": "code",
        "colab": {
          "base_uri": "https://localhost:8080/",
          "height": 531
        },
        "outputId": "5aecae07-86fc-4af5-9039-ae2dc0cc93b8"
      },
      "source": [
        "  forest.fit(X_train, y_train)\n",
        "importances = forest.feature_importances_\n",
        "\n",
        "indices = np.argsort(importances)[::-1]\n",
        "\n",
        "for f in range(X_train.shape[1]):\n",
        "  print(f'{f+1, 30, feat_labels[indices[f]], importances[indices[f]]}')\n",
        "\n",
        "plt.title('Feature Importance')\n",
        "plt.bar(range(X_train.shape[1]),\n",
        "        importances[indices],\n",
        "        align='center')\n",
        "plt.xticks(range(X_train.shape[1]),\n",
        "           feat_labels[indices], rotation=90)\n",
        "plt.xlim([-1, X_train.shape[1]])\n",
        "plt.tight_layout()\n",
        "plt.show()"
      ],
      "execution_count": 248,
      "outputs": [
        {
          "output_type": "stream",
          "text": [
            "(1, 30, 'proline', 0.18545260453273973)\n",
            "(2, 30, 'flavanoids', 0.17475097557788732)\n",
            "(3, 30, 'color_intensity', 0.14391990337231414)\n",
            "(4, 30, 'od280/od315_of_diluted_wines', 0.1361619442214559)\n",
            "(5, 30, 'alcohol', 0.11852941731789315)\n",
            "(6, 30, 'hue', 0.05873899628096849)\n",
            "(7, 30, 'total_phenols', 0.05087242613744542)\n",
            "(8, 30, 'magnesium', 0.03135708460816904)\n",
            "(9, 30, 'malic_acid', 0.025648355564265708)\n",
            "(10, 30, 'proanthocyanins', 0.02556987901932914)\n",
            "(11, 30, 'alcalinity_of_ash', 0.0223659419376885)\n",
            "(12, 30, 'nonflavanoid_phenols', 0.013353928195970421)\n",
            "(13, 30, 'ash', 0.013278543233872913)\n"
          ],
          "name": "stdout"
        },
        {
          "output_type": "display_data",
          "data": {
            "image/png": "[encoded data removed]",
            "text/plain": [
              "<Figure size 432x288 with 1 Axes>"
            ]
          },
          "metadata": {
            "tags": [],
            "needs_background": "light"
          }
        }
      ]
    },
    {
      "cell_type": "code",
      "metadata": {
        "id": "C3Yz7OQC6sts",
        "colab_type": "code",
        "colab": {
          "base_uri": "https://localhost:8080/",
          "height": 35
        },
        "outputId": "c6f484f2-4b18-46ce-fea9-f66733eec553"
      },
      "source": [
        "from sklearn.feature_selection import SelectFromModel\n",
        "\n",
        "sfm = SelectFromModel(forest, threshold=0.1, prefit=True)\n",
        "X_selcted =sfm.transform(X_train)\n",
        "print(f'이 임계 조건을 만족하는 샘플의 수 : {X_selcted.shape[1]}')"
      ],
      "execution_count": 249,
      "outputs": [
        {
          "output_type": "stream",
          "text": [
            "이 임계 조건을 만족하는 샘플의 수 : 5\n"
          ],
          "name": "stdout"
        }
      ]
    },
    {
      "cell_type": "code",
      "metadata": {
        "id": "_apah4Bq85am",
        "colab_type": "code",
        "colab": {
          "base_uri": "https://localhost:8080/",
          "height": 107
        },
        "outputId": "48e459fb-26bd-4aa3-fde1-b87b4e2f89b4"
      },
      "source": [
        "for f in range(X_selcted.shape[1]):\n",
        "  print(f'{f+1, 30, feat_labels[indices[f]], importances[indices[f]]}')"
      ],
      "execution_count": 251,
      "outputs": [
        {
          "output_type": "stream",
          "text": [
            "(1, 30, 'proline', 0.18545260453273973)\n",
            "(2, 30, 'flavanoids', 0.17475097557788732)\n",
            "(3, 30, 'color_intensity', 0.14391990337231414)\n",
            "(4, 30, 'od280/od315_of_diluted_wines', 0.1361619442214559)\n",
            "(5, 30, 'alcohol', 0.11852941731789315)\n"
          ],
          "name": "stdout"
        }
      ]
    },
    {
      "cell_type": "markdown",
      "metadata": {
        "id": "Zy1OyAj39WGF",
        "colab_type": "text"
      },
      "source": [
        "##4.7 요약"
      ]
    },
    {
      "cell_type": "markdown",
      "metadata": {
        "id": "BS6IjbuL9XYY",
        "colab_type": "text"
      },
      "source": [
        "범주형 변수의 인코딩\n",
        "\n",
        "순서가 있는 것과 없는 특성 값의 정수 매핑\n",
        "\n",
        "모델 복잡도를 감소시켜 과대적합을 피하는 L1 규제\n",
        "\n",
        "관련 없는 특성을 제거하는 순차 특성 선택 알고리즘"
      ]
    },
    {
      "cell_type": "code",
      "metadata": {
        "id": "wlTHrFfr9IvZ",
        "colab_type": "code",
        "colab": {}
      },
      "source": [
        ""
      ],
      "execution_count": 0,
      "outputs": []
    }
  ]
}